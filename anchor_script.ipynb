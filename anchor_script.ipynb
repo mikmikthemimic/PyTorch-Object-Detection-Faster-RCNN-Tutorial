{
 "cells": [
  {
   "cell_type": "markdown",
   "id": "c52b8d4e-fc27-4b77-bfbe-7148c997c506",
   "metadata": {},
   "source": [
    "# AnchorViewer"
   ]
  },
  {
   "cell_type": "code",
   "execution_count": 3,
   "id": "9075878f-4244-4e2e-ae0d-273db6294e56",
   "metadata": {
    "tags": []
   },
   "outputs": [],
   "source": [
    "# imports\n",
    "import logging\n",
    "import pathlib\n",
    "import sys\n",
    "import warnings\n",
    "from typing import List, Dict\n",
    "\n",
    "import numpy as np\n",
    "from torchvision.models.detection.transform import GeneralizedRCNNTransform\n",
    "\n",
    "from pytorch_faster_rcnn_tutorial.datasets import ObjectDetectionDataSet\n",
    "from pytorch_faster_rcnn_tutorial.transformations import (\n",
    "    Clip,\n",
    "    ComposeDouble,\n",
    "    FunctionWrapperDouble,\n",
    "    normalize_01,\n",
    ")\n",
    "from pytorch_faster_rcnn_tutorial.utils import get_filenames_of_path\n",
    "from pytorch_faster_rcnn_tutorial.viewers.anchor_viewer import AnchorViewer"
   ]
  },
  {
   "cell_type": "code",
   "execution_count": 4,
   "id": "c31cc212-6a87-4ce3-8c2a-aca8c8b14f9e",
   "metadata": {
    "tags": []
   },
   "outputs": [],
   "source": [
    "warnings.filterwarnings(\"ignore\")\n",
    "\n",
    "logger: logging.Logger = logging.getLogger(__name__)\n",
    "\n",
    "# logging\n",
    "logging.basicConfig(\n",
    "    level=logging.INFO,\n",
    "    format=\"%(asctime)s - %(levelname)s - %(filename)s:%(lineno)d:%(funcName)s: %(message)s\",\n",
    "    datefmt=\"%Y-%m-%d %H:%M:%S\",\n",
    "    handlers=[logging.StreamHandler(sys.stdout)],\n",
    ")"
   ]
  },
  {
   "cell_type": "code",
   "execution_count": 5,
   "id": "b804c1b0-381a-4a10-bba9-17832edf1790",
   "metadata": {
    "tags": []
   },
   "outputs": [],
   "source": [
    "# root directory\n",
    "data_path: pathlib.Path = pathlib.Path(\"src/pytorch_faster_rcnn_tutorial/data/heads\")"
   ]
  },
  {
   "cell_type": "code",
   "execution_count": 6,
   "id": "c44f9d28-92ff-4a85-a52f-a2ba41654139",
   "metadata": {
    "tags": []
   },
   "outputs": [
    {
     "ename": "AssertionError",
     "evalue": "No files found in path: src\\pytorch_faster_rcnn_tutorial\\data\\heads\\input",
     "output_type": "error",
     "traceback": [
      "\u001b[1;31m---------------------------------------------------------------------------\u001b[0m",
      "\u001b[1;31mAssertionError\u001b[0m                            Traceback (most recent call last)",
      "Cell \u001b[1;32mIn[6], line 2\u001b[0m\n\u001b[0;32m      1\u001b[0m \u001b[38;5;66;03m# input and target files\u001b[39;00m\n\u001b[1;32m----> 2\u001b[0m inputs: List[pathlib\u001b[38;5;241m.\u001b[39mPath] \u001b[38;5;241m=\u001b[39m \u001b[43mget_filenames_of_path\u001b[49m\u001b[43m(\u001b[49m\u001b[43mdata_path\u001b[49m\u001b[43m \u001b[49m\u001b[38;5;241;43m/\u001b[39;49m\u001b[43m \u001b[49m\u001b[38;5;124;43m\"\u001b[39;49m\u001b[38;5;124;43minput\u001b[39;49m\u001b[38;5;124;43m\"\u001b[39;49m\u001b[43m)\u001b[49m\n\u001b[0;32m      3\u001b[0m targets: List[pathlib\u001b[38;5;241m.\u001b[39mPath] \u001b[38;5;241m=\u001b[39m get_filenames_of_path(data_path \u001b[38;5;241m/\u001b[39m \u001b[38;5;124m\"\u001b[39m\u001b[38;5;124mtarget\u001b[39m\u001b[38;5;124m\"\u001b[39m)\n\u001b[0;32m      5\u001b[0m inputs\u001b[38;5;241m.\u001b[39msort()\n",
      "File \u001b[1;32mc:\\Users\\abiga\\OneDrive\\Documents\\GitHub\\PyTorch-Object-Detection-Faster-RCNN-Tutorial\\pytorch_faster_rcnn_tutorial\\utils.py:30\u001b[0m, in \u001b[0;36mget_filenames_of_path\u001b[1;34m(path, ext)\u001b[0m\n\u001b[0;32m     26\u001b[0m \u001b[38;5;250m\u001b[39m\u001b[38;5;124;03m\"\"\"\u001b[39;00m\n\u001b[0;32m     27\u001b[0m \u001b[38;5;124;03mReturns a list of files in a directory/path. Uses pathlib.\u001b[39;00m\n\u001b[0;32m     28\u001b[0m \u001b[38;5;124;03m\"\"\"\u001b[39;00m\n\u001b[0;32m     29\u001b[0m filenames \u001b[38;5;241m=\u001b[39m [file \u001b[38;5;28;01mfor\u001b[39;00m file \u001b[38;5;129;01min\u001b[39;00m path\u001b[38;5;241m.\u001b[39mglob(ext) \u001b[38;5;28;01mif\u001b[39;00m file\u001b[38;5;241m.\u001b[39mis_file()]\n\u001b[1;32m---> 30\u001b[0m \u001b[38;5;28;01massert\u001b[39;00m \u001b[38;5;28mlen\u001b[39m(filenames) \u001b[38;5;241m>\u001b[39m \u001b[38;5;241m0\u001b[39m, \u001b[38;5;124mf\u001b[39m\u001b[38;5;124m\"\u001b[39m\u001b[38;5;124mNo files found in path: \u001b[39m\u001b[38;5;132;01m{\u001b[39;00mpath\u001b[38;5;132;01m}\u001b[39;00m\u001b[38;5;124m\"\u001b[39m\n\u001b[0;32m     31\u001b[0m logger\u001b[38;5;241m.\u001b[39minfo(\u001b[38;5;124mf\u001b[39m\u001b[38;5;124m\"\u001b[39m\u001b[38;5;124mFound \u001b[39m\u001b[38;5;132;01m{\u001b[39;00m\u001b[38;5;28mlen\u001b[39m(filenames)\u001b[38;5;132;01m}\u001b[39;00m\u001b[38;5;124m files in \u001b[39m\u001b[38;5;132;01m{\u001b[39;00mpath\u001b[38;5;132;01m}\u001b[39;00m\u001b[38;5;124m\"\u001b[39m)\n\u001b[0;32m     32\u001b[0m \u001b[38;5;28;01mreturn\u001b[39;00m filenames\n",
      "\u001b[1;31mAssertionError\u001b[0m: No files found in path: src\\pytorch_faster_rcnn_tutorial\\data\\heads\\input"
     ]
    }
   ],
   "source": [
    "# input and target files\n",
    "inputs: List[pathlib.Path] = get_filenames_of_path(data_path / \"input\")\n",
    "targets: List[pathlib.Path] = get_filenames_of_path(data_path / \"target\")\n",
    "\n",
    "inputs.sort()\n",
    "targets.sort()"
   ]
  },
  {
   "cell_type": "code",
   "execution_count": null,
   "id": "f54dfdd4-bc4e-42dd-adb9-8d7451b399f1",
   "metadata": {
    "tags": []
   },
   "outputs": [],
   "source": [
    "# mapping\n",
    "mapping: Dict[str, int] = {\n",
    "    \"Vehicle\": 1,\n",
    "    \"Pedestrian\": 2\n",
    "}"
   ]
  },
  {
   "cell_type": "code",
   "execution_count": null,
   "id": "0e40e219-62b6-42b9-81a2-c7d867a47dc1",
   "metadata": {
    "tags": []
   },
   "outputs": [],
   "source": [
    "# transforms\n",
    "transforms: ComposeDouble = ComposeDouble(\n",
    "    [\n",
    "        Clip(),\n",
    "        # AlbumentationWrapper(albumentation=A.HorizontalFlip(p=0.5)),\n",
    "        # AlbumentationWrapper(albumentation=A.RandomScale(p=0.5, scale_limit=0.5)),\n",
    "        # AlbumentationWrapper(albumentation=A.VerticalFlip(p=0.5)),\n",
    "        FunctionWrapperDouble(np.moveaxis, source=-1, destination=0),\n",
    "        FunctionWrapperDouble(normalize_01),\n",
    "    ]\n",
    ")"
   ]
  },
  {
   "cell_type": "code",
   "execution_count": null,
   "id": "178b3597-b7c1-4e0b-a293-5a17a8faeb9c",
   "metadata": {
    "tags": []
   },
   "outputs": [],
   "source": [
    "# dataset building\n",
    "dataset: ObjectDetectionDataSet = ObjectDetectionDataSet(\n",
    "    inputs=inputs,\n",
    "    targets=targets,\n",
    "    transform=transforms,\n",
    "    use_cache=False,\n",
    "    convert_to_format=None,\n",
    "    mapping=mapping,\n",
    ")"
   ]
  },
  {
   "cell_type": "code",
   "execution_count": null,
   "id": "580f5009-cccf-4cca-9e19-368d1be494cd",
   "metadata": {
    "tags": []
   },
   "outputs": [],
   "source": [
    "# transforms\n",
    "transform: GeneralizedRCNNTransform = GeneralizedRCNNTransform(\n",
    "    min_size=1024,\n",
    "    max_size=1024,\n",
    "    image_mean=[0.485, 0.456, 0.406],\n",
    "    image_std=[0.229, 0.224, 0.225],\n",
    ")"
   ]
  },
  {
   "cell_type": "code",
   "execution_count": null,
   "id": "ba388e24-8102-4b1d-abaa-8a9a5781d1a3",
   "metadata": {
    "tags": []
   },
   "outputs": [],
   "source": [
    "feature_map_size = (512, 32, 32)\n",
    "\n",
    "anchor_viewer_rcnn: AnchorViewer = AnchorViewer(\n",
    "    dataset=dataset, rcnn_transform=transform, feature_map_size=feature_map_size\n",
    ")"
   ]
  },
  {
   "cell_type": "code",
   "execution_count": null,
   "id": "1bdede49",
   "metadata": {},
   "outputs": [],
   "source": [
    "## press 'n' or 'b' to see images"
   ]
  }
 ],
 "metadata": {
  "kernelspec": {
   "display_name": "Python 3 (ipykernel)",
   "language": "python",
   "name": "python3"
  },
  "language_info": {
   "codemirror_mode": {
    "name": "ipython",
    "version": 3
   },
   "file_extension": ".py",
   "mimetype": "text/x-python",
   "name": "python",
   "nbconvert_exporter": "python",
   "pygments_lexer": "ipython3",
   "version": "3.10.14"
  }
 },
 "nbformat": 4,
 "nbformat_minor": 5
}
