{
  "cells": [
    {
      "cell_type": "markdown",
      "metadata": {
        "id": "view-in-github",
        "colab_type": "text"
      },
      "source": [
        "<a href=\"https://colab.research.google.com/github/mikmikthemimic/PyTorch-Object-Detection-Faster-RCNN-Tutorial/blob/master/PyTorch_Object_Detection_Faster_RCNN_Tutorial.ipynb\" target=\"_parent\"><img src=\"https://colab.research.google.com/assets/colab-badge.svg\" alt=\"Open In Colab\"/></a>"
      ]
    },
    {
      "cell_type": "code",
      "execution_count": null,
      "metadata": {
        "colab": {
          "base_uri": "https://localhost:8080/"
        },
        "id": "0WquP1Ai5TXQ",
        "outputId": "02789b5d-3e99-4600-bb08-4d4e033eb5dd"
      },
      "outputs": [
        {
          "output_type": "stream",
          "name": "stdout",
          "text": [
            "Mounted at /content/drive\n"
          ]
        }
      ],
      "source": [
        "from google.colab import drive\n",
        "drive.mount('/content/drive')"
      ]
    },
    {
      "cell_type": "code",
      "execution_count": null,
      "metadata": {
        "colab": {
          "base_uri": "https://localhost:8080/"
        },
        "id": "jMgj4ymh5Orj",
        "outputId": "91eb9d14-4d45-4035-915a-722512e6acd9"
      },
      "outputs": [
        {
          "output_type": "stream",
          "name": "stdout",
          "text": [
            "Cloning into 'PyTorch-Object-Detection-Faster-RCNN-Tutorial'...\n",
            "remote: Enumerating objects: 922, done.\u001b[K\n",
            "remote: Counting objects: 100% (465/465), done.\u001b[K\n",
            "remote: Compressing objects: 100% (172/172), done.\u001b[K\n",
            "remote: Total 922 (delta 310), reused 412 (delta 285), pack-reused 457\u001b[K\n",
            "Receiving objects: 100% (922/922), 191.98 MiB | 26.83 MiB/s, done.\n",
            "Resolving deltas: 100% (507/507), done.\n"
          ]
        }
      ],
      "source": [
        "!git clone https://github.com/mikmikthemimic/PyTorch-Object-Detection-Faster-RCNN-Tutorial.git"
      ]
    },
    {
      "cell_type": "code",
      "execution_count": null,
      "metadata": {
        "collapsed": true,
        "id": "G-d1k9A_92xq"
      },
      "outputs": [],
      "source": [
        "%%capture\n",
        "import os\n",
        "\n",
        "if not os.path.isdir('/content/PyTorch-Object-Detection-Faster-RCNN-Tutorial/pytorch_faster_rcnn_tutorial/data/heads/input/'):\n",
        "  !unzip '/content/drive/MyDrive/raw dataset/fin_dataset.zip' -d '/content/PyTorch-Object-Detection-Faster-RCNN-Tutorial/pytorch_faster_rcnn_tutorial/data/heads'"
      ]
    },
    {
      "cell_type": "code",
      "execution_count": null,
      "metadata": {
        "colab": {
          "base_uri": "https://localhost:8080/"
        },
        "id": "CsQLliEL5dUQ",
        "outputId": "64891dac-8d87-4163-eb19-9432c6a4a816"
      },
      "outputs": [
        {
          "output_type": "stream",
          "name": "stdout",
          "text": [
            "/content/PyTorch-Object-Detection-Faster-RCNN-Tutorial\n"
          ]
        }
      ],
      "source": [
        "%cd /content/PyTorch-Object-Detection-Faster-RCNN-Tutorial"
      ]
    },
    {
      "cell_type": "code",
      "execution_count": null,
      "metadata": {
        "colab": {
          "base_uri": "https://localhost:8080/"
        },
        "id": "NaiHHNb9iA36",
        "outputId": "7d7edf2c-6a65-4a4e-8068-46ec9269cca8"
      },
      "outputs": [
        {
          "output_type": "stream",
          "name": "stdout",
          "text": [
            "Already up to date.\n"
          ]
        }
      ],
      "source": [
        "!git pull"
      ]
    },
    {
      "cell_type": "code",
      "execution_count": null,
      "metadata": {
        "colab": {
          "base_uri": "https://localhost:8080/"
        },
        "collapsed": true,
        "id": "u0B6Nw7W5e8O",
        "outputId": "caefdf90-8b06-472d-f6a6-00e3d9773314"
      },
      "outputs": [
        {
          "output_type": "stream",
          "name": "stdout",
          "text": [
            "\u001b[2K     \u001b[90m━━━━━━━━━━━━━━━━━━━━━━━━━━━━━━━━━━━━━━━━\u001b[0m \u001b[32m149.6/149.6 kB\u001b[0m \u001b[31m8.9 MB/s\u001b[0m eta \u001b[36m0:00:00\u001b[0m\n",
            "\u001b[2K     \u001b[90m━━━━━━━━━━━━━━━━━━━━━━━━━━━━━━━━━━━━━━━━\u001b[0m \u001b[32m63.9/63.9 kB\u001b[0m \u001b[31m6.0 MB/s\u001b[0m eta \u001b[36m0:00:00\u001b[0m\n",
            "\u001b[?25h  Preparing metadata (setup.py) ... \u001b[?25l\u001b[?25hdone\n",
            "\u001b[2K   \u001b[90m━━━━━━━━━━━━━━━━━━━━━━━━━━━━━━━━━━━━━━━━\u001b[0m \u001b[32m3.1/3.1 MB\u001b[0m \u001b[31m64.4 MB/s\u001b[0m eta \u001b[36m0:00:00\u001b[0m\n",
            "\u001b[2K   \u001b[90m━━━━━━━━━━━━━━━━━━━━━━━━━━━━━━━━━━━━━━━━\u001b[0m \u001b[32m808.5/808.5 kB\u001b[0m \u001b[31m51.2 MB/s\u001b[0m eta \u001b[36m0:00:00\u001b[0m\n",
            "\u001b[2K   \u001b[90m━━━━━━━━━━━━━━━━━━━━━━━━━━━━━━━━━━━━━━━━\u001b[0m \u001b[32m502.6/502.6 kB\u001b[0m \u001b[31m36.6 MB/s\u001b[0m eta \u001b[36m0:00:00\u001b[0m\n",
            "\u001b[2K   \u001b[90m━━━━━━━━━━━━━━━━━━━━━━━━━━━━━━━━━━━━━━━━\u001b[0m \u001b[32m139.2/139.2 kB\u001b[0m \u001b[31m13.4 MB/s\u001b[0m eta \u001b[36m0:00:00\u001b[0m\n",
            "\u001b[2K   \u001b[90m━━━━━━━━━━━━━━━━━━━━━━━━━━━━━━━━━━━━━━━━\u001b[0m \u001b[32m207.3/207.3 kB\u001b[0m \u001b[31m19.3 MB/s\u001b[0m eta \u001b[36m0:00:00\u001b[0m\n",
            "\u001b[2K   \u001b[90m━━━━━━━━━━━━━━━━━━━━━━━━━━━━━━━━━━━━━━━━\u001b[0m \u001b[32m866.2/866.2 kB\u001b[0m \u001b[31m1.1 MB/s\u001b[0m eta \u001b[36m0:00:00\u001b[0m\n",
            "\u001b[2K   \u001b[90m━━━━━━━━━━━━━━━━━━━━━━━━━━━━━━━━━━━━━━━━\u001b[0m \u001b[32m812.3/812.3 kB\u001b[0m \u001b[31m39.2 MB/s\u001b[0m eta \u001b[36m0:00:00\u001b[0m\n",
            "\u001b[2K   \u001b[90m━━━━━━━━━━━━━━━━━━━━━━━━━━━━━━━━━━━━━━━━\u001b[0m \u001b[32m12.5/12.5 MB\u001b[0m \u001b[31m71.7 MB/s\u001b[0m eta \u001b[36m0:00:00\u001b[0m\n",
            "\u001b[2K   \u001b[90m━━━━━━━━━━━━━━━━━━━━━━━━━━━━━━━━━━━━━━━━\u001b[0m \u001b[32m62.7/62.7 kB\u001b[0m \u001b[31m5.1 MB/s\u001b[0m eta \u001b[36m0:00:00\u001b[0m\n",
            "\u001b[2K   \u001b[90m━━━━━━━━━━━━━━━━━━━━━━━━━━━━━━━━━━━━━━━━\u001b[0m \u001b[32m82.7/82.7 kB\u001b[0m \u001b[31m6.9 MB/s\u001b[0m eta \u001b[36m0:00:00\u001b[0m\n",
            "\u001b[2K   \u001b[90m━━━━━━━━━━━━━━━━━━━━━━━━━━━━━━━━━━━━━━━━\u001b[0m \u001b[32m137.9/137.9 kB\u001b[0m \u001b[31m13.0 MB/s\u001b[0m eta \u001b[36m0:00:00\u001b[0m\n",
            "\u001b[2K   \u001b[90m━━━━━━━━━━━━━━━━━━━━━━━━━━━━━━━━━━━━━━━━\u001b[0m \u001b[32m66.4/66.4 kB\u001b[0m \u001b[31m6.1 MB/s\u001b[0m eta \u001b[36m0:00:00\u001b[0m\n",
            "\u001b[?25h  Building wheel for bravado-core (setup.py) ... \u001b[?25l\u001b[?25hdone\n",
            "\u001b[31mERROR: pip's dependency resolver does not currently take into account all the packages that are installed. This behaviour is the source of the following dependency conflicts.\n",
            "albumentations 1.4.12 requires pydantic>=2.7.0, but you have pydantic 1.10.13 which is incompatible.\u001b[0m\u001b[31m\n",
            "\u001b[0m"
          ]
        }
      ],
      "source": [
        "!pip install -q -r requirements_colab.txt"
      ]
    },
    {
      "cell_type": "code",
      "execution_count": null,
      "metadata": {
        "colab": {
          "base_uri": "https://localhost:8080/"
        },
        "id": "vdK87dyMoukn",
        "outputId": "55648283-1116-4703-f85d-29c780391f04"
      },
      "outputs": [
        {
          "output_type": "stream",
          "name": "stdout",
          "text": [
            "Collecting albumentations==1.2.1\n",
            "  Downloading albumentations-1.2.1-py3-none-any.whl.metadata (33 kB)\n",
            "Requirement already satisfied: numpy>=1.11.1 in /usr/local/lib/python3.10/dist-packages (from albumentations==1.2.1) (1.26.4)\n",
            "Requirement already satisfied: scipy in /usr/local/lib/python3.10/dist-packages (from albumentations==1.2.1) (1.13.1)\n",
            "Requirement already satisfied: scikit-image>=0.16.1 in /usr/local/lib/python3.10/dist-packages (from albumentations==1.2.1) (0.23.2)\n",
            "Requirement already satisfied: PyYAML in /usr/local/lib/python3.10/dist-packages (from albumentations==1.2.1) (6.0.1)\n",
            "Collecting qudida>=0.0.4 (from albumentations==1.2.1)\n",
            "  Downloading qudida-0.0.4-py3-none-any.whl.metadata (1.5 kB)\n",
            "Requirement already satisfied: opencv-python-headless>=4.1.1 in /usr/local/lib/python3.10/dist-packages (from albumentations==1.2.1) (4.10.0.84)\n",
            "Requirement already satisfied: scikit-learn>=0.19.1 in /usr/local/lib/python3.10/dist-packages (from qudida>=0.0.4->albumentations==1.2.1) (1.3.2)\n",
            "Requirement already satisfied: typing-extensions in /usr/local/lib/python3.10/dist-packages (from qudida>=0.0.4->albumentations==1.2.1) (4.12.2)\n",
            "Requirement already satisfied: networkx>=2.8 in /usr/local/lib/python3.10/dist-packages (from scikit-image>=0.16.1->albumentations==1.2.1) (3.3)\n",
            "Requirement already satisfied: pillow>=9.1 in /usr/local/lib/python3.10/dist-packages (from scikit-image>=0.16.1->albumentations==1.2.1) (9.4.0)\n",
            "Requirement already satisfied: imageio>=2.33 in /usr/local/lib/python3.10/dist-packages (from scikit-image>=0.16.1->albumentations==1.2.1) (2.34.2)\n",
            "Requirement already satisfied: tifffile>=2022.8.12 in /usr/local/lib/python3.10/dist-packages (from scikit-image>=0.16.1->albumentations==1.2.1) (2024.7.24)\n",
            "Requirement already satisfied: packaging>=21 in /usr/local/lib/python3.10/dist-packages (from scikit-image>=0.16.1->albumentations==1.2.1) (24.1)\n",
            "Requirement already satisfied: lazy-loader>=0.4 in /usr/local/lib/python3.10/dist-packages (from scikit-image>=0.16.1->albumentations==1.2.1) (0.4)\n",
            "Requirement already satisfied: joblib>=1.1.1 in /usr/local/lib/python3.10/dist-packages (from scikit-learn>=0.19.1->qudida>=0.0.4->albumentations==1.2.1) (1.4.2)\n",
            "Requirement already satisfied: threadpoolctl>=2.0.0 in /usr/local/lib/python3.10/dist-packages (from scikit-learn>=0.19.1->qudida>=0.0.4->albumentations==1.2.1) (3.5.0)\n",
            "Downloading albumentations-1.2.1-py3-none-any.whl (116 kB)\n",
            "\u001b[2K   \u001b[90m━━━━━━━━━━━━━━━━━━━━━━━━━━━━━━━━━━━━━━━━\u001b[0m \u001b[32m116.7/116.7 kB\u001b[0m \u001b[31m6.6 MB/s\u001b[0m eta \u001b[36m0:00:00\u001b[0m\n",
            "\u001b[?25hDownloading qudida-0.0.4-py3-none-any.whl (3.5 kB)\n",
            "Installing collected packages: qudida, albumentations\n",
            "  Attempting uninstall: albumentations\n",
            "    Found existing installation: albumentations 1.4.12\n",
            "    Uninstalling albumentations-1.4.12:\n",
            "      Successfully uninstalled albumentations-1.4.12\n",
            "Successfully installed albumentations-1.2.1 qudida-0.0.4\n"
          ]
        }
      ],
      "source": [
        "!pip install albumentations==1.2.1"
      ]
    },
    {
      "cell_type": "code",
      "execution_count": null,
      "metadata": {
        "id": "Mfl6OAEN9qVv"
      },
      "outputs": [],
      "source": [
        "from dataclasses import asdict, dataclass, field\n",
        "from typing import Dict, List, Optional, Tuple\n",
        "\n",
        "from pytorch_faster_rcnn_tutorial.backbone_resnet import ResNetBackbones\n",
        "\n",
        "@dataclass\n",
        "class Parameters:\n",
        "    \"\"\"\n",
        "    Dataclass for the parameters.\n",
        "    \"\"\"\n",
        "\n",
        "    BATCH_SIZE: int = 20\n",
        "    CACHE: bool = False\n",
        "    SAVE_DIR: Optional[\n",
        "        str\n",
        "    ] = None  # checkpoints will be saved to cwd (current working directory) if None\n",
        "    LOG_MODEL: bool = True  # whether to log the model to neptune after training\n",
        "    ACCELERATOR: Optional[str] = \"cuda\"  # set to \"gpu\" if you want to use GPU \\\\ cuda\n",
        "    # Available names are: auto, cpu, cuda, mps, tpu\n",
        "    LR: float = 0.0025\n",
        "    PRECISION: int = 32\n",
        "    CLASSES: int = 6\n",
        "    SEED: int = 42\n",
        "    MAXEPOCHS: int = 12  # 4\n",
        "    FOLDS: int = 5 # 5\n",
        "    PATIENCE: int = 50\n",
        "    BACKBONE: ResNetBackbones = ResNetBackbones.RESNET34\n",
        "    FPN: bool = True\n",
        "    ANCHOR_SIZE: Tuple[Tuple[int, ...], ...] = ((32,), (64,), (128,), (256,),)\n",
        "    #ANCHOR_SIZE: Tuple[Tuple[int, ...], ...] = ((8, 16, 32), (32, 64), (32, 64, 128, 256, 512), (200, 300))\n",
        "    # ANCHOR_SIZE: Tuple[Tuple[int, ...], ...] = ((32,64,128,256,512),)\n",
        "    ASPECT_RATIOS: Tuple[Tuple[float, ...]] = ((0.5, 1.0, 2.0),)\n",
        "    MIN_SIZE: int = 1024\n",
        "    MAX_SIZE: int = 1025\n",
        "    IMG_MEAN: List = field(default_factory=lambda: [0.485, 0.456, 0.406])\n",
        "    IMG_STD: List = field(default_factory=lambda: [0.229, 0.224, 0.225])\n",
        "    IOU_THRESHOLD: float = 0.6\n",
        "    FAST_DEV_RUN: bool = False\n",
        "\n",
        "    def __post_init__(self):\n",
        "        if self.SAVE_DIR is None:\n",
        "            self.SAVE_DIR: str = str(pathlib.Path.cwd())"
      ]
    },
    {
      "cell_type": "code",
      "execution_count": null,
      "metadata": {
        "id": "oBGTGfbL9krm"
      },
      "outputs": [],
      "source": [
        "from pydantic import BaseSettings, Field\n",
        "\n",
        "class NeptuneSettings(BaseSettings):\n",
        "    \"\"\"\n",
        "    Reads the variables from the environment.\n",
        "    Errors will be raised if the required variables are not set.\n",
        "    \"\"\"\n",
        "\n",
        "    api_key: str = Field(default=..., env=\"NEPTUNE\")\n",
        "    OWNER: str = \"mikmikthemimic\"  # set your name here, e.g. mikmikthemimic\n",
        "    PROJECT: str = \"GM-Thesis3\"  # set your project name here, e.g. GM-Thesis3\n",
        "    EXPERIMENT: str = \"GM-Thesis3\"  # set your experiment name here, e.g. GM-Thesis3\n",
        "\n",
        "    class Config:\n",
        "        # this tells pydantic to read the variables from the .env file\n",
        "        env_file = \".env\""
      ]
    },
    {
      "cell_type": "code",
      "execution_count": null,
      "metadata": {
        "colab": {
          "base_uri": "https://localhost:8080/"
        },
        "id": "coRUk1TzXPcw",
        "outputId": "ed3f1216-9325-4d92-89cb-e88476a6d76c"
      },
      "outputs": [
        {
          "output_type": "stream",
          "name": "stderr",
          "text": [
            "INFO: Seed set to 42\n",
            "INFO:lightning.fabric.utilities.seed:Seed set to 42\n"
          ]
        },
        {
          "output_type": "execute_result",
          "data": {
            "text/plain": [
              "42"
            ]
          },
          "metadata": {},
          "execution_count": 10
        }
      ],
      "source": [
        "import pathlib\n",
        "from lightning.pytorch import seed_everything\n",
        "\n",
        "ROOT_PATH: pathlib.Path = pathlib.Path.cwd()\n",
        "\n",
        "# environment variables (pydantic BaseSettings class)\n",
        "neptune_settings: NeptuneSettings = NeptuneSettings()\n",
        "\n",
        "# parameters (dataclass)\n",
        "parameters: Parameters = Parameters()\n",
        "\n",
        "# data path relative to this file (pathlib)\n",
        "data_path: pathlib.Path = (\n",
        "    ROOT_PATH / \"pytorch_faster_rcnn_tutorial\" / \"data\" / \"heads\"\n",
        ")\n",
        "\n",
        "# random seed (function that sets seed for pseudo-random number generators in: pytorch, numpy, python.random)\n",
        "seed_everything(parameters.SEED)"
      ]
    },
    {
      "cell_type": "code",
      "execution_count": null,
      "metadata": {
        "id": "NhcQ9AwIcEPZ"
      },
      "outputs": [],
      "source": [
        "#import torch\n",
        "#import torchvision.models as models\n",
        "#from torchvision.models.detection import FasterRCNN\n",
        "#\n",
        "#vgg16 = models.vgg16(weights=models.VGG16_Weights.DEFAULT, progress=False)\n",
        "#backbone = vgg16.features\n",
        "#backbone.out_channels = 512"
      ]
    },
    {
      "cell_type": "code",
      "execution_count": null,
      "metadata": {
        "colab": {
          "base_uri": "https://localhost:8080/"
        },
        "id": "83EAudwlsSEt",
        "outputId": "70760156-7b50-4fe3-edd2-2ebc15587cb2"
      },
      "outputs": [
        {
          "output_type": "stream",
          "name": "stderr",
          "text": [
            "/usr/local/lib/python3.10/dist-packages/torchvision/models/_utils.py:208: UserWarning: The parameter 'pretrained' is deprecated since 0.13 and may be removed in the future, please use 'weights' instead.\n",
            "  warnings.warn(\n",
            "/usr/local/lib/python3.10/dist-packages/torchvision/models/_utils.py:223: UserWarning: Arguments other than a weight enum or `None` for 'weights' are deprecated since 0.13 and may be removed in the future. The current behavior is equivalent to passing `weights=ResNet34_Weights.IMAGENET1K_V1`. You can also use `weights=ResNet34_Weights.DEFAULT` to get the most up-to-date weights.\n",
            "  warnings.warn(msg)\n",
            "Downloading: \"https://download.pytorch.org/models/resnet34-b627a593.pth\" to /root/.cache/torch/hub/checkpoints/resnet34-b627a593.pth\n",
            "100%|██████████| 83.3M/83.3M [00:01<00:00, 56.1MB/s]\n",
            "/usr/local/lib/python3.10/dist-packages/lightning/pytorch/utilities/parsing.py:208: Attribute 'model' is an instance of `nn.Module` and is already saved during checkpointing. It is recommended to ignore them using `self.save_hyperparameters(ignore=['model'])`.\n"
          ]
        }
      ],
      "source": [
        "%load_ext autoreload\n",
        "%autoreload 2\n",
        "\n",
        "from pytorch_faster_rcnn_tutorial.faster_RCNN import (\n",
        "    FasterRCNNLightning,\n",
        "    get_faster_rcnn_resnet,\n",
        "    #get_faster_rcnn,\n",
        ")\n",
        "\n",
        "from torchvision.models.detection.faster_rcnn import FasterRCNN\n",
        "import torch\n",
        "\n",
        "device = torch.device('cuda' if torch.cuda.is_available() else 'cpu')\n",
        "\n",
        "# model init\n",
        "model_init: FasterRCNN = get_faster_rcnn_resnet(\n",
        "    num_classes=parameters.CLASSES,\n",
        "    backbone_name=parameters.BACKBONE,\n",
        "    anchor_size=parameters.ANCHOR_SIZE,\n",
        "    aspect_ratios=parameters.ASPECT_RATIOS,\n",
        "    fpn=parameters.FPN,\n",
        "    min_size=parameters.MIN_SIZE,\n",
        "    max_size=parameters.MAX_SIZE,\n",
        ").to(device)\n",
        "\n",
        "#model_init: FasterRCNN = FasterRCNN(\n",
        "#    backbone=backbone,\n",
        "#    num_classes=parameters.CLASSES,\n",
        "#)\n",
        "# lightning model\n",
        "model: FasterRCNNLightning = FasterRCNNLightning(\n",
        "    model=model_init, lr=parameters.LR, iou_threshold=parameters.IOU_THRESHOLD\n",
        ").to(device)"
      ]
    },
    {
      "cell_type": "code",
      "execution_count": null,
      "metadata": {
        "id": "4eiC-E9E7Xnc"
      },
      "outputs": [],
      "source": [
        "import logging\n",
        "import sys\n",
        "\n",
        "import albumentations\n",
        "import numpy as np\n",
        "\n",
        "from lightning.pytorch import Trainer\n",
        "# from lightning.pytorch import seed_everything\n",
        "from lightning.pytorch.callbacks import (\n",
        "    EarlyStopping,\n",
        "    LearningRateMonitor,\n",
        "    ModelCheckpoint,\n",
        "    Callback,\n",
        ")\n",
        "\n",
        "from lightning.pytorch.loggers import NeptuneLogger\n",
        "import torch\n",
        "from torch.utils.data import DataLoader\n",
        "\n",
        "from pytorch_faster_rcnn_tutorial.datasets import ObjectDetectionDataSet\n",
        "from pytorch_faster_rcnn_tutorial.faster_RCNN import (\n",
        "    FasterRCNNLightning,\n",
        "    get_faster_rcnn_resnet,\n",
        ")\n",
        "from pytorch_faster_rcnn_tutorial.transformations import (\n",
        "    AlbumentationWrapper,\n",
        "    Clip,\n",
        "    ComposeDouble,\n",
        "    FunctionWrapperDouble,\n",
        "    normalize_01,\n",
        ")\n",
        "from pytorch_faster_rcnn_tutorial.utils import (\n",
        "    collate_double,\n",
        "    get_filenames_of_path,\n",
        "    log_model_neptune,\n",
        ")\n",
        "\n",
        "from pytorch_faster_rcnn_tutorial.pl_crossvalidate.KFoldTrainer import (\n",
        "    KFoldTrainer as Trainer,\n",
        "    KFoldDataModule\n",
        ")"
      ]
    },
    {
      "cell_type": "code",
      "execution_count": null,
      "metadata": {
        "id": "n2BG6sxI7ikl"
      },
      "outputs": [],
      "source": [
        "logger: logging.Logger = logging.getLogger(__name__)\n",
        "logging.basicConfig(\n",
        "    level=logging.INFO,\n",
        "    format=\"%(asctime)s - %(levelname)s - %(filename)s:%(lineno)d:%(funcName)s - %(message)s\",\n",
        "    datefmt=\"%Y-%m-%d %H:%M:%S\",\n",
        "    handlers=[logging.StreamHandler(sys.stdout)],\n",
        ")"
      ]
    },
    {
      "cell_type": "code",
      "execution_count": null,
      "metadata": {
        "id": "_7-uLm3oW-q9"
      },
      "outputs": [],
      "source": [
        "import time\n",
        "import os\n",
        "from lightning.pytorch.callbacks import Callback # Import the Callback class\n",
        "\n",
        "\n",
        "os.environ['TZ'] = 'Asia/Manila'\n",
        "time.tzset()\n",
        "class DurationCallback(Callback):\n",
        "    def on_train_start(self, trainer, pl_module):\n",
        "        print(f'Epoch {trainer.current_epoch} | Training started at {time.strftime(\"%x %X\")}')\n",
        "\n",
        "    def on_validation_start(self, trainer, pl_module):\n",
        "        self.validation_start_time = time.time()\n",
        "        print(f'Epoch {trainer.current_epoch}: Validation started at {time.strftime(\"%x %X\")}')\n",
        "\n",
        "    def on_validation_end(self, trainer, pl_module):\n",
        "        print(f'Epoch {trainer.current_epoch}: Validation ended at {time.strftime(\"%x %X\")}')\n",
        "        print(f'Epoch {trainer.current_epoch}: Validation duration: {time.time() - self.validation_start_time:.2f} seconds')\n",
        "\n",
        "    def on_test_start(self, trainer, pl_module):\n",
        "        self.test_start_time = time.time()\n",
        "        print(f'Testing started at {time.strftime(\"%x %X\")}')\n",
        "\n",
        "    def on_test_end(self, trainer, pl_module):\n",
        "        print(f'Testing ended at {time.strftime(\"%x %X\")}')\n",
        "        print(f'Testing duration: {time.time() - self.test_start_time:.2f} seconds')"
      ]
    },
    {
      "cell_type": "code",
      "execution_count": null,
      "metadata": {
        "colab": {
          "base_uri": "https://localhost:8080/"
        },
        "id": "tE5vuxkZXWAt",
        "outputId": "438c96e1-ea8b-4ab1-b679-7f23ab2edae8"
      },
      "outputs": [
        {
          "output_type": "stream",
          "name": "stdout",
          "text": [
            "Total of the dataset: 3200\n",
            "Input dataset: 2560\n",
            "Target dataset: 2560\n",
            "Total of the dataset: 3200\n",
            "Training dataset: 2048 (64.00%)\n",
            "Validation dataset: 512 (16.00%)\n",
            "Test dataset: 640 (20.00%)\n"
          ]
        }
      ],
      "source": [
        "# input and target files\n",
        "inputs: List[pathlib.Path] = get_filenames_of_path(data_path / \"input\")\n",
        "targets: List[pathlib.Path] = get_filenames_of_path(data_path / \"target\")\n",
        "\n",
        "# test files\n",
        "tests: List[pathlib.Path] = get_filenames_of_path(data_path / \"test\")\n",
        "tests_targets: List[pathlib.Path] = get_filenames_of_path(data_path / \"test_targets\")\n",
        "\n",
        "# sort inputs and targets\n",
        "inputs.sort()\n",
        "targets.sort()\n",
        "tests.sort()\n",
        "tests_targets.sort()\n",
        "\n",
        "checking = len(inputs) + len(tests)\n",
        "print(f'Total of the dataset: {checking}')\n",
        "print(f'Input dataset: {len(inputs)}')\n",
        "print(f'Target dataset: {len(targets)}')\n",
        "\n",
        "# training validation test split (80% training, 20% validation)\n",
        "inputs_train, inputs_valid = inputs[:int(0.8 * len(inputs))], inputs[int(0.8 * len(inputs)):]\n",
        "targets_train, targets_valid = targets[:int(0.8 * len(targets))], targets[int(0.8 * len(targets)):]\n",
        "\n",
        "inputs_test = tests\n",
        "targets_test = tests_targets\n",
        "\n",
        "total = len(inputs) + len(tests)\n",
        "print(f'Total of the dataset: {total}')\n",
        "print(f'Training dataset: {len(inputs_train)} ({len(inputs_train)/total*100:.2f}%)')\n",
        "print(f'Validation dataset: {len(inputs_valid)} ({len(inputs_valid)/total*100:.2f}%)')\n",
        "print(f'Test dataset: {len(inputs_test)} ({len(inputs_test)/total*100:.2f}%)')"
      ]
    },
    {
      "cell_type": "code",
      "execution_count": null,
      "metadata": {
        "id": "5XTONvaQXZ7q"
      },
      "outputs": [],
      "source": [
        "# mapping\n",
        "mapping: Dict[str, int] = {\n",
        "    \"Vehicle\": 1,\n",
        "    \"Pedestrian\": 2,\n",
        "    \"Bicycle\" : 3,\n",
        "\n",
        "}"
      ]
    },
    {
      "cell_type": "code",
      "execution_count": null,
      "metadata": {
        "id": "Ing3ltgwXzFm"
      },
      "outputs": [],
      "source": [
        "# training transformations and augmentations\n",
        "transforms_training: ComposeDouble = ComposeDouble(\n",
        "    [\n",
        "        Clip(),\n",
        "        AlbumentationWrapper(albumentation=albumentations.HorizontalFlip(p=0.5)),\n",
        "        AlbumentationWrapper(\n",
        "            albumentation=albumentations.RandomScale(p=0.5, scale_limit=0.5)\n",
        "        ),\n",
        "        # AlbuWrapper(albu=A.VerticalFlip(p=0.5)),\n",
        "        FunctionWrapperDouble(function=np.moveaxis, source=-1, destination=0),\n",
        "        FunctionWrapperDouble(function=normalize_01),\n",
        "    ]\n",
        ")\n",
        "\n",
        "# validation transformations\n",
        "transforms_validation: ComposeDouble = ComposeDouble(\n",
        "    [\n",
        "        Clip(),\n",
        "        FunctionWrapperDouble(function=np.moveaxis, source=-1, destination=0),\n",
        "        FunctionWrapperDouble(function=normalize_01),\n",
        "    ]\n",
        ")\n",
        "\n",
        "# test transformations\n",
        "transforms_test: ComposeDouble = ComposeDouble(\n",
        "    [\n",
        "        Clip(),\n",
        "        FunctionWrapperDouble(function=np.moveaxis, source=-1, destination=0),\n",
        "        FunctionWrapperDouble(function=normalize_01),\n",
        "    ]\n",
        ")"
      ]
    },
    {
      "cell_type": "code",
      "execution_count": null,
      "metadata": {
        "id": "fv6TuColXtUc"
      },
      "outputs": [],
      "source": [
        "# dataset training\n",
        "dataset_train: ObjectDetectionDataSet = ObjectDetectionDataSet(\n",
        "    inputs=inputs_train,\n",
        "    targets=targets_train,\n",
        "    transform=transforms_training,\n",
        "    use_cache=parameters.CACHE,\n",
        "    convert_to_format=None,\n",
        "    mapping=mapping,\n",
        ")\n",
        "\n",
        "# dataset validation\n",
        "dataset_valid: ObjectDetectionDataSet = ObjectDetectionDataSet(\n",
        "    inputs=inputs_valid,\n",
        "    targets=targets_valid,\n",
        "    transform=transforms_validation,\n",
        "    use_cache=parameters.CACHE,\n",
        "    convert_to_format=None,\n",
        "    mapping=mapping,\n",
        ")\n",
        "\n",
        "# dataset test\n",
        "dataset_test: ObjectDetectionDataSet = ObjectDetectionDataSet(\n",
        "    inputs=inputs_test,\n",
        "    targets=targets_test,\n",
        "    transform=transforms_test,\n",
        "    use_cache=parameters.CACHE,\n",
        "    convert_to_format=None,\n",
        "    mapping=mapping,\n",
        ")"
      ]
    },
    {
      "cell_type": "code",
      "execution_count": null,
      "metadata": {
        "colab": {
          "base_uri": "https://localhost:8080/"
        },
        "id": "19q9ieGJ7mVi",
        "outputId": "4174dc8e-4459-44b7-b267-0a04d89480c8"
      },
      "outputs": [
        {
          "output_type": "stream",
          "name": "stdout",
          "text": [
            "CUDA is Available.\n"
          ]
        }
      ],
      "source": [
        "if torch.cuda.is_available():\n",
        "  dev = torch.device(\"cuda\")\n",
        "  print('CUDA is Available.')\n",
        "  torch.set_float32_matmul_precision('medium')\n",
        "  model = model.cuda()"
      ]
    },
    {
      "cell_type": "code",
      "execution_count": null,
      "metadata": {
        "id": "3H5Ei1hdX8S-"
      },
      "outputs": [],
      "source": [
        "# dataloader training\n",
        "dataloader_train: DataLoader = DataLoader(\n",
        "    dataset=dataset_train,\n",
        "    batch_size=parameters.BATCH_SIZE,\n",
        "    shuffle=True,\n",
        "    num_workers=2,\n",
        "    persistent_workers=True,\n",
        "    collate_fn=collate_double,\n",
        ")\n",
        "\n",
        "# dataloader validation\n",
        "dataloader_valid: DataLoader = DataLoader(\n",
        "    dataset=dataset_valid,\n",
        "    batch_size=parameters.BATCH_SIZE,\n",
        "    shuffle=False,\n",
        "    num_workers=2,\n",
        "    persistent_workers=True,\n",
        "    collate_fn=collate_double,\n",
        ")\n",
        "\n",
        "# dataloader test\n",
        "dataloader_test: DataLoader = DataLoader(\n",
        "    dataset=dataset_test,\n",
        "    batch_size=2,\n",
        "    shuffle=False,\n",
        "    num_workers=2,\n",
        "    collate_fn=collate_double,\n",
        ")"
      ]
    },
    {
      "cell_type": "code",
      "execution_count": null,
      "metadata": {
        "id": "n-HyT6W_YJhu"
      },
      "outputs": [],
      "source": [
        "# callbacks\n",
        "checkpoint_callback: ModelCheckpoint = ModelCheckpoint(\n",
        "    monitor=\"Validation_mAP\", mode=\"max\", save_top_k=1\n",
        ")\n",
        "learning_rate_callback: LearningRateMonitor = LearningRateMonitor(\n",
        "    logging_interval=\"step\", log_momentum=False\n",
        ")\n",
        "early_stopping_callback: EarlyStopping = EarlyStopping(\n",
        "    monitor=\"Validation_mAP\", patience=parameters.PATIENCE, mode=\"max\"\n",
        ")\n",
        "\n",
        "duration_callback: DurationCallback = DurationCallback()"
      ]
    },
    {
      "cell_type": "code",
      "execution_count": null,
      "metadata": {
        "id": "zWa9PZLssYnE"
      },
      "outputs": [],
      "source": [
        "def get_neptune_logger(id=None) -> NeptuneLogger:\n",
        "  neptune_logger = None\n",
        "  if id is None:\n",
        "    neptune_logger: NeptuneLogger = NeptuneLogger(\n",
        "        api_key=neptune_settings.api_key,\n",
        "        project=f\"{neptune_settings.OWNER}/{neptune_settings.PROJECT}\",  # use your neptune name here\n",
        "        name=neptune_settings.PROJECT,\n",
        "        log_model_checkpoints=True,\n",
        "        capture_hardware_metrics=True,\n",
        "        capture_stderr=True,\n",
        "        capture_stdout=True,\n",
        "    )\n",
        "\n",
        "    neptune_logger.log_hyperparams(asdict(parameters))\n",
        "  else:\n",
        "    neptune_logger: NeptuneLogger = NeptuneLogger(\n",
        "        api_key=neptune_settings.api_key,\n",
        "        project=f\"{neptune_settings.OWNER}/{neptune_settings.PROJECT}\",  # use your neptune name here\n",
        "        name=neptune_settings.PROJECT,\n",
        "        log_model_checkpoints=True,\n",
        "        capture_hardware_metrics=True,\n",
        "        capture_stderr=True,\n",
        "        capture_stdout=True,\n",
        "        with_id=id,\n",
        "    )\n",
        "\n",
        "  return neptune_logger"
      ]
    },
    {
      "cell_type": "code",
      "execution_count": null,
      "metadata": {
        "colab": {
          "base_uri": "https://localhost:8080/",
          "height": 1000,
          "referenced_widgets": [
            "be89e3b16bad47e48cdfd4c67489813c",
            "573d82fdaaeb427f87932f74303e6ede",
            "e9cc27e6059640b1ba7e2cf5b795b2f6",
            "5b68b9c610bd45ce8e47311b4bd24a84",
            "00aa7d5498b745238950695cc3bf0c9b",
            "2425a6032ac1406c8ad44f5a93a1211e",
            "b97d5a523e3d430e996af08a3cb8e192",
            "84f11aff8bbe40bd921dad1b5a28b4cc",
            "00dbe949ef644fd6a3454199dbed6c9d",
            "09dca7e13d1441f197f7cb357c5f0f2c",
            "4273c90365274b4ebde378c55a757f11"
          ]
        },
        "id": "Xvcczvdh9tU7",
        "outputId": "6687101d-7bf0-4987-ce63-51663430feb9"
      },
      "outputs": [
        {
          "output_type": "stream",
          "name": "stdout",
          "text": [
            "4\n"
          ]
        },
        {
          "output_type": "display_data",
          "data": {
            "text/plain": [
              "Fetching file...: 0 [00:00, ?/s]"
            ],
            "application/vnd.jupyter.widget-view+json": {
              "version_major": 2,
              "version_minor": 0,
              "model_id": "be89e3b16bad47e48cdfd4c67489813c"
            }
          },
          "metadata": {}
        },
        {
          "output_type": "stream",
          "name": "stderr",
          "text": [
            "INFO: GPU available: True (cuda), used: True\n",
            "INFO:lightning.pytorch.utilities.rank_zero:GPU available: True (cuda), used: True\n",
            "INFO: TPU available: False, using: 0 TPU cores\n",
            "INFO:lightning.pytorch.utilities.rank_zero:TPU available: False, using: 0 TPU cores\n",
            "INFO: HPU available: False, using: 0 HPUs\n",
            "INFO:lightning.pytorch.utilities.rank_zero:HPU available: False, using: 0 HPUs\n"
          ]
        },
        {
          "output_type": "stream",
          "name": "stdout",
          "text": [
            "Loaded checkpoint fold 5\n",
            "===== Starting fold 6/5 =====\n",
            "Resetting model validation steps to empty.\n"
          ]
        },
        {
          "output_type": "stream",
          "name": "stderr",
          "text": [
            "INFO: Restoring states from the checkpoint path at /content/PyTorch-Object-Detection-Faster-RCNN-Tutorial/model/kfolds/kfold_initial_weights.ckpt\n",
            "INFO:lightning.pytorch.utilities.rank_zero:Restoring states from the checkpoint path at /content/PyTorch-Object-Detection-Faster-RCNN-Tutorial/model/kfolds/kfold_initial_weights.ckpt\n",
            "/usr/local/lib/python3.10/dist-packages/lightning/pytorch/callbacks/model_checkpoint.py:360: The dirpath has changed from None to '/content/PyTorch-Object-Detection-Faster-RCNN-Tutorial/.neptune/GM-Thesis3/GMT3-488/checkpoints', therefore `best_model_score`, `kth_best_model_path`, `kth_value`, `last_model_path` and `best_k_models` won't be reloaded. Only `best_model_path` will be reloaded.\n",
            "INFO: LOCAL_RANK: 0 - CUDA_VISIBLE_DEVICES: [0]\n",
            "INFO:lightning.pytorch.accelerators.cuda:LOCAL_RANK: 0 - CUDA_VISIBLE_DEVICES: [0]\n",
            "INFO: \n",
            "  | Name  | Type       | Params | Mode \n",
            "---------------------------------------------\n",
            "0 | model | FasterRCNN | 38.4 M | train\n",
            "---------------------------------------------\n",
            "38.4 M    Trainable params\n",
            "0         Non-trainable params\n",
            "38.4 M    Total params\n",
            "153.580   Total estimated model params size (MB)\n",
            "INFO:lightning.pytorch.callbacks.model_summary:\n",
            "  | Name  | Type       | Params | Mode \n",
            "---------------------------------------------\n",
            "0 | model | FasterRCNN | 38.4 M | train\n",
            "---------------------------------------------\n",
            "38.4 M    Trainable params\n",
            "0         Non-trainable params\n",
            "38.4 M    Total params\n",
            "153.580   Total estimated model params size (MB)\n",
            "INFO: Restored all states from the checkpoint at /content/PyTorch-Object-Detection-Faster-RCNN-Tutorial/model/kfolds/kfold_initial_weights.ckpt\n",
            "INFO:lightning.pytorch.utilities.rank_zero:Restored all states from the checkpoint at /content/PyTorch-Object-Detection-Faster-RCNN-Tutorial/model/kfolds/kfold_initial_weights.ckpt\n"
          ]
        },
        {
          "output_type": "error",
          "ename": "IndexError",
          "evalue": "list index out of range",
          "traceback": [
            "\u001b[0;31m---------------------------------------------------------------------------\u001b[0m",
            "\u001b[0;31mIndexError\u001b[0m                                Traceback (most recent call last)",
            "\u001b[0;32m<ipython-input-24-906290d7b300>\u001b[0m in \u001b[0;36m<cell line: 63>\u001b[0;34m()\u001b[0m\n\u001b[1;32m     61\u001b[0m \u001b[0;34m\u001b[0m\u001b[0m\n\u001b[1;32m     62\u001b[0m \u001b[0;31m# start training/testing\u001b[0m\u001b[0;34m\u001b[0m\u001b[0;34m\u001b[0m\u001b[0m\n\u001b[0;32m---> 63\u001b[0;31m cross_val_stats = trainer.cross_validate(\n\u001b[0m\u001b[1;32m     64\u001b[0m     \u001b[0mmodel\u001b[0m\u001b[0;34m=\u001b[0m\u001b[0mmodel\u001b[0m\u001b[0;34m.\u001b[0m\u001b[0mto\u001b[0m\u001b[0;34m(\u001b[0m\u001b[0mdev\u001b[0m\u001b[0;34m)\u001b[0m\u001b[0;34m,\u001b[0m\u001b[0;34m\u001b[0m\u001b[0;34m\u001b[0m\u001b[0m\n\u001b[1;32m     65\u001b[0m     \u001b[0mdatamodule\u001b[0m\u001b[0;34m=\u001b[0m\u001b[0mdatamodule\u001b[0m\u001b[0;34m,\u001b[0m\u001b[0;34m\u001b[0m\u001b[0;34m\u001b[0m\u001b[0m\n",
            "\u001b[0;32m/content/PyTorch-Object-Detection-Faster-RCNN-Tutorial/pytorch_faster_rcnn_tutorial/pl_crossvalidate/KFoldTrainer.py\u001b[0m in \u001b[0;36mcross_validate\u001b[0;34m(self, model, train_dataloader, val_dataloaders, datamodule)\u001b[0m\n\u001b[1;32m    124\u001b[0m             \u001b[0mprint\u001b[0m\u001b[0;34m(\u001b[0m\u001b[0;34mf'Resetting model validation steps to empty.'\u001b[0m\u001b[0;34m)\u001b[0m\u001b[0;34m\u001b[0m\u001b[0;34m\u001b[0m\u001b[0m\n\u001b[1;32m    125\u001b[0m             \u001b[0mmodel\u001b[0m\u001b[0;34m.\u001b[0m\u001b[0mvalidation_step_outputs\u001b[0m \u001b[0;34m=\u001b[0m \u001b[0;34m[\u001b[0m\u001b[0;34m]\u001b[0m\u001b[0;34m\u001b[0m\u001b[0;34m\u001b[0m\u001b[0m\n\u001b[0;32m--> 126\u001b[0;31m             \u001b[0mself\u001b[0m\u001b[0;34m.\u001b[0m\u001b[0mfit\u001b[0m\u001b[0;34m(\u001b[0m\u001b[0mmodel\u001b[0m\u001b[0;34m=\u001b[0m\u001b[0mmodel\u001b[0m\u001b[0;34m,\u001b[0m \u001b[0mdatamodule\u001b[0m\u001b[0;34m=\u001b[0m\u001b[0mdatamodule\u001b[0m\u001b[0;34m,\u001b[0m \u001b[0mckpt_path\u001b[0m\u001b[0;34m=\u001b[0m\u001b[0mpath\u001b[0m\u001b[0;34m)\u001b[0m\u001b[0;34m\u001b[0m\u001b[0;34m\u001b[0m\u001b[0m\n\u001b[0m\u001b[1;32m    127\u001b[0m \u001b[0;34m\u001b[0m\u001b[0m\n\u001b[1;32m    128\u001b[0m             \u001b[0mfold_path\u001b[0m \u001b[0;34m=\u001b[0m \u001b[0mosp\u001b[0m\u001b[0;34m.\u001b[0m\u001b[0mjoin\u001b[0m\u001b[0;34m(\u001b[0m\u001b[0mself\u001b[0m\u001b[0;34m.\u001b[0m\u001b[0mmodel_directory\u001b[0m\u001b[0;34m,\u001b[0m \u001b[0;34mf\"fold_{i}.ckpt\"\u001b[0m\u001b[0;34m)\u001b[0m\u001b[0;34m\u001b[0m\u001b[0;34m\u001b[0m\u001b[0m\n",
            "\u001b[0;32m/usr/local/lib/python3.10/dist-packages/lightning/pytorch/trainer/trainer.py\u001b[0m in \u001b[0;36mfit\u001b[0;34m(self, model, train_dataloaders, val_dataloaders, datamodule, ckpt_path)\u001b[0m\n\u001b[1;32m    541\u001b[0m         \u001b[0mself\u001b[0m\u001b[0;34m.\u001b[0m\u001b[0mstate\u001b[0m\u001b[0;34m.\u001b[0m\u001b[0mstatus\u001b[0m \u001b[0;34m=\u001b[0m \u001b[0mTrainerStatus\u001b[0m\u001b[0;34m.\u001b[0m\u001b[0mRUNNING\u001b[0m\u001b[0;34m\u001b[0m\u001b[0;34m\u001b[0m\u001b[0m\n\u001b[1;32m    542\u001b[0m         \u001b[0mself\u001b[0m\u001b[0;34m.\u001b[0m\u001b[0mtraining\u001b[0m \u001b[0;34m=\u001b[0m \u001b[0;32mTrue\u001b[0m\u001b[0;34m\u001b[0m\u001b[0;34m\u001b[0m\u001b[0m\n\u001b[0;32m--> 543\u001b[0;31m         call._call_and_handle_interrupt(\n\u001b[0m\u001b[1;32m    544\u001b[0m             \u001b[0mself\u001b[0m\u001b[0;34m,\u001b[0m \u001b[0mself\u001b[0m\u001b[0;34m.\u001b[0m\u001b[0m_fit_impl\u001b[0m\u001b[0;34m,\u001b[0m \u001b[0mmodel\u001b[0m\u001b[0;34m,\u001b[0m \u001b[0mtrain_dataloaders\u001b[0m\u001b[0;34m,\u001b[0m \u001b[0mval_dataloaders\u001b[0m\u001b[0;34m,\u001b[0m \u001b[0mdatamodule\u001b[0m\u001b[0;34m,\u001b[0m \u001b[0mckpt_path\u001b[0m\u001b[0;34m\u001b[0m\u001b[0;34m\u001b[0m\u001b[0m\n\u001b[1;32m    545\u001b[0m         )\n",
            "\u001b[0;32m/usr/local/lib/python3.10/dist-packages/lightning/pytorch/trainer/call.py\u001b[0m in \u001b[0;36m_call_and_handle_interrupt\u001b[0;34m(trainer, trainer_fn, *args, **kwargs)\u001b[0m\n\u001b[1;32m     42\u001b[0m         \u001b[0;32mif\u001b[0m \u001b[0mtrainer\u001b[0m\u001b[0;34m.\u001b[0m\u001b[0mstrategy\u001b[0m\u001b[0;34m.\u001b[0m\u001b[0mlauncher\u001b[0m \u001b[0;32mis\u001b[0m \u001b[0;32mnot\u001b[0m \u001b[0;32mNone\u001b[0m\u001b[0;34m:\u001b[0m\u001b[0;34m\u001b[0m\u001b[0;34m\u001b[0m\u001b[0m\n\u001b[1;32m     43\u001b[0m             \u001b[0;32mreturn\u001b[0m \u001b[0mtrainer\u001b[0m\u001b[0;34m.\u001b[0m\u001b[0mstrategy\u001b[0m\u001b[0;34m.\u001b[0m\u001b[0mlauncher\u001b[0m\u001b[0;34m.\u001b[0m\u001b[0mlaunch\u001b[0m\u001b[0;34m(\u001b[0m\u001b[0mtrainer_fn\u001b[0m\u001b[0;34m,\u001b[0m \u001b[0;34m*\u001b[0m\u001b[0margs\u001b[0m\u001b[0;34m,\u001b[0m \u001b[0mtrainer\u001b[0m\u001b[0;34m=\u001b[0m\u001b[0mtrainer\u001b[0m\u001b[0;34m,\u001b[0m \u001b[0;34m**\u001b[0m\u001b[0mkwargs\u001b[0m\u001b[0;34m)\u001b[0m\u001b[0;34m\u001b[0m\u001b[0;34m\u001b[0m\u001b[0m\n\u001b[0;32m---> 44\u001b[0;31m         \u001b[0;32mreturn\u001b[0m \u001b[0mtrainer_fn\u001b[0m\u001b[0;34m(\u001b[0m\u001b[0;34m*\u001b[0m\u001b[0margs\u001b[0m\u001b[0;34m,\u001b[0m \u001b[0;34m**\u001b[0m\u001b[0mkwargs\u001b[0m\u001b[0;34m)\u001b[0m\u001b[0;34m\u001b[0m\u001b[0;34m\u001b[0m\u001b[0m\n\u001b[0m\u001b[1;32m     45\u001b[0m \u001b[0;34m\u001b[0m\u001b[0m\n\u001b[1;32m     46\u001b[0m     \u001b[0;32mexcept\u001b[0m \u001b[0m_TunerExitException\u001b[0m\u001b[0;34m:\u001b[0m\u001b[0;34m\u001b[0m\u001b[0;34m\u001b[0m\u001b[0m\n",
            "\u001b[0;32m/usr/local/lib/python3.10/dist-packages/lightning/pytorch/trainer/trainer.py\u001b[0m in \u001b[0;36m_fit_impl\u001b[0;34m(self, model, train_dataloaders, val_dataloaders, datamodule, ckpt_path)\u001b[0m\n\u001b[1;32m    577\u001b[0m             \u001b[0mmodel_connected\u001b[0m\u001b[0;34m=\u001b[0m\u001b[0mself\u001b[0m\u001b[0;34m.\u001b[0m\u001b[0mlightning_module\u001b[0m \u001b[0;32mis\u001b[0m \u001b[0;32mnot\u001b[0m \u001b[0;32mNone\u001b[0m\u001b[0;34m,\u001b[0m\u001b[0;34m\u001b[0m\u001b[0;34m\u001b[0m\u001b[0m\n\u001b[1;32m    578\u001b[0m         )\n\u001b[0;32m--> 579\u001b[0;31m         \u001b[0mself\u001b[0m\u001b[0;34m.\u001b[0m\u001b[0m_run\u001b[0m\u001b[0;34m(\u001b[0m\u001b[0mmodel\u001b[0m\u001b[0;34m,\u001b[0m \u001b[0mckpt_path\u001b[0m\u001b[0;34m=\u001b[0m\u001b[0mckpt_path\u001b[0m\u001b[0;34m)\u001b[0m\u001b[0;34m\u001b[0m\u001b[0;34m\u001b[0m\u001b[0m\n\u001b[0m\u001b[1;32m    580\u001b[0m \u001b[0;34m\u001b[0m\u001b[0m\n\u001b[1;32m    581\u001b[0m         \u001b[0;32massert\u001b[0m \u001b[0mself\u001b[0m\u001b[0;34m.\u001b[0m\u001b[0mstate\u001b[0m\u001b[0;34m.\u001b[0m\u001b[0mstopped\u001b[0m\u001b[0;34m\u001b[0m\u001b[0;34m\u001b[0m\u001b[0m\n",
            "\u001b[0;32m/usr/local/lib/python3.10/dist-packages/lightning/pytorch/trainer/trainer.py\u001b[0m in \u001b[0;36m_run\u001b[0;34m(self, model, ckpt_path)\u001b[0m\n\u001b[1;32m    984\u001b[0m         \u001b[0;31m# RUN THE TRAINER\u001b[0m\u001b[0;34m\u001b[0m\u001b[0;34m\u001b[0m\u001b[0m\n\u001b[1;32m    985\u001b[0m         \u001b[0;31m# ----------------------------\u001b[0m\u001b[0;34m\u001b[0m\u001b[0;34m\u001b[0m\u001b[0m\n\u001b[0;32m--> 986\u001b[0;31m         \u001b[0mresults\u001b[0m \u001b[0;34m=\u001b[0m \u001b[0mself\u001b[0m\u001b[0;34m.\u001b[0m\u001b[0m_run_stage\u001b[0m\u001b[0;34m(\u001b[0m\u001b[0;34m)\u001b[0m\u001b[0;34m\u001b[0m\u001b[0;34m\u001b[0m\u001b[0m\n\u001b[0m\u001b[1;32m    987\u001b[0m \u001b[0;34m\u001b[0m\u001b[0m\n\u001b[1;32m    988\u001b[0m         \u001b[0;31m# ----------------------------\u001b[0m\u001b[0;34m\u001b[0m\u001b[0;34m\u001b[0m\u001b[0m\n",
            "\u001b[0;32m/usr/local/lib/python3.10/dist-packages/lightning/pytorch/trainer/trainer.py\u001b[0m in \u001b[0;36m_run_stage\u001b[0;34m(self)\u001b[0m\n\u001b[1;32m   1028\u001b[0m                 \u001b[0mself\u001b[0m\u001b[0;34m.\u001b[0m\u001b[0m_run_sanity_check\u001b[0m\u001b[0;34m(\u001b[0m\u001b[0;34m)\u001b[0m\u001b[0;34m\u001b[0m\u001b[0;34m\u001b[0m\u001b[0m\n\u001b[1;32m   1029\u001b[0m             \u001b[0;32mwith\u001b[0m \u001b[0mtorch\u001b[0m\u001b[0;34m.\u001b[0m\u001b[0mautograd\u001b[0m\u001b[0;34m.\u001b[0m\u001b[0mset_detect_anomaly\u001b[0m\u001b[0;34m(\u001b[0m\u001b[0mself\u001b[0m\u001b[0;34m.\u001b[0m\u001b[0m_detect_anomaly\u001b[0m\u001b[0;34m)\u001b[0m\u001b[0;34m:\u001b[0m\u001b[0;34m\u001b[0m\u001b[0;34m\u001b[0m\u001b[0m\n\u001b[0;32m-> 1030\u001b[0;31m                 \u001b[0mself\u001b[0m\u001b[0;34m.\u001b[0m\u001b[0mfit_loop\u001b[0m\u001b[0;34m.\u001b[0m\u001b[0mrun\u001b[0m\u001b[0;34m(\u001b[0m\u001b[0;34m)\u001b[0m\u001b[0;34m\u001b[0m\u001b[0;34m\u001b[0m\u001b[0m\n\u001b[0m\u001b[1;32m   1031\u001b[0m             \u001b[0;32mreturn\u001b[0m \u001b[0;32mNone\u001b[0m\u001b[0;34m\u001b[0m\u001b[0;34m\u001b[0m\u001b[0m\n\u001b[1;32m   1032\u001b[0m         \u001b[0;32mraise\u001b[0m \u001b[0mRuntimeError\u001b[0m\u001b[0;34m(\u001b[0m\u001b[0;34mf\"Unexpected state {self.state}\"\u001b[0m\u001b[0;34m)\u001b[0m\u001b[0;34m\u001b[0m\u001b[0;34m\u001b[0m\u001b[0m\n",
            "\u001b[0;32m/usr/local/lib/python3.10/dist-packages/lightning/pytorch/loops/fit_loop.py\u001b[0m in \u001b[0;36mrun\u001b[0;34m(self)\u001b[0m\n\u001b[1;32m    195\u001b[0m \u001b[0;34m\u001b[0m\u001b[0m\n\u001b[1;32m    196\u001b[0m     \u001b[0;32mdef\u001b[0m \u001b[0mrun\u001b[0m\u001b[0;34m(\u001b[0m\u001b[0mself\u001b[0m\u001b[0;34m)\u001b[0m \u001b[0;34m->\u001b[0m \u001b[0;32mNone\u001b[0m\u001b[0;34m:\u001b[0m\u001b[0;34m\u001b[0m\u001b[0;34m\u001b[0m\u001b[0m\n\u001b[0;32m--> 197\u001b[0;31m         \u001b[0mself\u001b[0m\u001b[0;34m.\u001b[0m\u001b[0msetup_data\u001b[0m\u001b[0;34m(\u001b[0m\u001b[0;34m)\u001b[0m\u001b[0;34m\u001b[0m\u001b[0;34m\u001b[0m\u001b[0m\n\u001b[0m\u001b[1;32m    198\u001b[0m         \u001b[0;32mif\u001b[0m \u001b[0mself\u001b[0m\u001b[0;34m.\u001b[0m\u001b[0mskip\u001b[0m\u001b[0;34m:\u001b[0m\u001b[0;34m\u001b[0m\u001b[0;34m\u001b[0m\u001b[0m\n\u001b[1;32m    199\u001b[0m             \u001b[0;32mreturn\u001b[0m\u001b[0;34m\u001b[0m\u001b[0;34m\u001b[0m\u001b[0m\n",
            "\u001b[0;32m/usr/local/lib/python3.10/dist-packages/lightning/pytorch/loops/fit_loop.py\u001b[0m in \u001b[0;36msetup_data\u001b[0;34m(self)\u001b[0m\n\u001b[1;32m    223\u001b[0m \u001b[0;34m\u001b[0m\u001b[0m\n\u001b[1;32m    224\u001b[0m         \u001b[0msource\u001b[0m \u001b[0;34m=\u001b[0m \u001b[0mself\u001b[0m\u001b[0;34m.\u001b[0m\u001b[0m_data_source\u001b[0m\u001b[0;34m\u001b[0m\u001b[0;34m\u001b[0m\u001b[0m\n\u001b[0;32m--> 225\u001b[0;31m         \u001b[0mtrain_dataloader\u001b[0m \u001b[0;34m=\u001b[0m \u001b[0m_request_dataloader\u001b[0m\u001b[0;34m(\u001b[0m\u001b[0msource\u001b[0m\u001b[0;34m)\u001b[0m\u001b[0;34m\u001b[0m\u001b[0;34m\u001b[0m\u001b[0m\n\u001b[0m\u001b[1;32m    226\u001b[0m         \u001b[0mtrainer\u001b[0m\u001b[0;34m.\u001b[0m\u001b[0mstrategy\u001b[0m\u001b[0;34m.\u001b[0m\u001b[0mbarrier\u001b[0m\u001b[0;34m(\u001b[0m\u001b[0;34m\"train_dataloader()\"\u001b[0m\u001b[0;34m)\u001b[0m\u001b[0;34m\u001b[0m\u001b[0;34m\u001b[0m\u001b[0m\n\u001b[1;32m    227\u001b[0m \u001b[0;34m\u001b[0m\u001b[0m\n",
            "\u001b[0;32m/usr/local/lib/python3.10/dist-packages/lightning/pytorch/trainer/connectors/data_connector.py\u001b[0m in \u001b[0;36m_request_dataloader\u001b[0;34m(data_source)\u001b[0m\n\u001b[1;32m    323\u001b[0m         \u001b[0;31m# Also, it records all attribute setting and deletion using patched `__setattr__` and `__delattr__`\u001b[0m\u001b[0;34m\u001b[0m\u001b[0;34m\u001b[0m\u001b[0m\n\u001b[1;32m    324\u001b[0m         \u001b[0;31m# methods so that the re-instantiated object is as close to the original as possible.\u001b[0m\u001b[0;34m\u001b[0m\u001b[0;34m\u001b[0m\u001b[0m\n\u001b[0;32m--> 325\u001b[0;31m         \u001b[0;32mreturn\u001b[0m \u001b[0mdata_source\u001b[0m\u001b[0;34m.\u001b[0m\u001b[0mdataloader\u001b[0m\u001b[0;34m(\u001b[0m\u001b[0;34m)\u001b[0m\u001b[0;34m\u001b[0m\u001b[0;34m\u001b[0m\u001b[0m\n\u001b[0m\u001b[1;32m    326\u001b[0m \u001b[0;34m\u001b[0m\u001b[0m\n\u001b[1;32m    327\u001b[0m \u001b[0;34m\u001b[0m\u001b[0m\n",
            "\u001b[0;32m/usr/local/lib/python3.10/dist-packages/lightning/pytorch/trainer/connectors/data_connector.py\u001b[0m in \u001b[0;36mdataloader\u001b[0;34m(self)\u001b[0m\n\u001b[1;32m    290\u001b[0m         \u001b[0;32mif\u001b[0m \u001b[0misinstance\u001b[0m\u001b[0;34m(\u001b[0m\u001b[0mself\u001b[0m\u001b[0;34m.\u001b[0m\u001b[0minstance\u001b[0m\u001b[0;34m,\u001b[0m \u001b[0mpl\u001b[0m\u001b[0;34m.\u001b[0m\u001b[0mLightningDataModule\u001b[0m\u001b[0;34m)\u001b[0m\u001b[0;34m:\u001b[0m\u001b[0;34m\u001b[0m\u001b[0;34m\u001b[0m\u001b[0m\n\u001b[1;32m    291\u001b[0m             \u001b[0;32massert\u001b[0m \u001b[0mself\u001b[0m\u001b[0;34m.\u001b[0m\u001b[0minstance\u001b[0m\u001b[0;34m.\u001b[0m\u001b[0mtrainer\u001b[0m \u001b[0;32mis\u001b[0m \u001b[0;32mnot\u001b[0m \u001b[0;32mNone\u001b[0m\u001b[0;34m\u001b[0m\u001b[0;34m\u001b[0m\u001b[0m\n\u001b[0;32m--> 292\u001b[0;31m             \u001b[0;32mreturn\u001b[0m \u001b[0mcall\u001b[0m\u001b[0;34m.\u001b[0m\u001b[0m_call_lightning_datamodule_hook\u001b[0m\u001b[0;34m(\u001b[0m\u001b[0mself\u001b[0m\u001b[0;34m.\u001b[0m\u001b[0minstance\u001b[0m\u001b[0;34m.\u001b[0m\u001b[0mtrainer\u001b[0m\u001b[0;34m,\u001b[0m \u001b[0mself\u001b[0m\u001b[0;34m.\u001b[0m\u001b[0mname\u001b[0m\u001b[0;34m)\u001b[0m\u001b[0;34m\u001b[0m\u001b[0;34m\u001b[0m\u001b[0m\n\u001b[0m\u001b[1;32m    293\u001b[0m         \u001b[0;32massert\u001b[0m \u001b[0mself\u001b[0m\u001b[0;34m.\u001b[0m\u001b[0minstance\u001b[0m \u001b[0;32mis\u001b[0m \u001b[0;32mnot\u001b[0m \u001b[0;32mNone\u001b[0m\u001b[0;34m\u001b[0m\u001b[0;34m\u001b[0m\u001b[0m\n\u001b[1;32m    294\u001b[0m         \u001b[0;32mreturn\u001b[0m \u001b[0mself\u001b[0m\u001b[0;34m.\u001b[0m\u001b[0minstance\u001b[0m\u001b[0;34m\u001b[0m\u001b[0;34m\u001b[0m\u001b[0m\n",
            "\u001b[0;32m/usr/local/lib/python3.10/dist-packages/lightning/pytorch/trainer/call.py\u001b[0m in \u001b[0;36m_call_lightning_datamodule_hook\u001b[0;34m(trainer, hook_name, *args, **kwargs)\u001b[0m\n\u001b[1;32m    179\u001b[0m     \u001b[0;32mif\u001b[0m \u001b[0mcallable\u001b[0m\u001b[0;34m(\u001b[0m\u001b[0mfn\u001b[0m\u001b[0;34m)\u001b[0m\u001b[0;34m:\u001b[0m\u001b[0;34m\u001b[0m\u001b[0;34m\u001b[0m\u001b[0m\n\u001b[1;32m    180\u001b[0m         \u001b[0;32mwith\u001b[0m \u001b[0mtrainer\u001b[0m\u001b[0;34m.\u001b[0m\u001b[0mprofiler\u001b[0m\u001b[0;34m.\u001b[0m\u001b[0mprofile\u001b[0m\u001b[0;34m(\u001b[0m\u001b[0;34mf\"[LightningDataModule]{trainer.datamodule.__class__.__name__}.{hook_name}\"\u001b[0m\u001b[0;34m)\u001b[0m\u001b[0;34m:\u001b[0m\u001b[0;34m\u001b[0m\u001b[0;34m\u001b[0m\u001b[0m\n\u001b[0;32m--> 181\u001b[0;31m             \u001b[0;32mreturn\u001b[0m \u001b[0mfn\u001b[0m\u001b[0;34m(\u001b[0m\u001b[0;34m*\u001b[0m\u001b[0margs\u001b[0m\u001b[0;34m,\u001b[0m \u001b[0;34m**\u001b[0m\u001b[0mkwargs\u001b[0m\u001b[0;34m)\u001b[0m\u001b[0;34m\u001b[0m\u001b[0;34m\u001b[0m\u001b[0m\n\u001b[0m\u001b[1;32m    182\u001b[0m     \u001b[0;32mreturn\u001b[0m \u001b[0;32mNone\u001b[0m\u001b[0;34m\u001b[0m\u001b[0;34m\u001b[0m\u001b[0m\n\u001b[1;32m    183\u001b[0m \u001b[0;34m\u001b[0m\u001b[0m\n",
            "\u001b[0;32m/content/PyTorch-Object-Detection-Faster-RCNN-Tutorial/pytorch_faster_rcnn_tutorial/pl_crossvalidate/datamodule.py\u001b[0m in \u001b[0;36mtrain_dataloader\u001b[0;34m(self)\u001b[0m\n\u001b[1;32m    118\u001b[0m         \u001b[0;34m\"\"\"Return training dataloader on the current fold.\"\"\"\u001b[0m\u001b[0;34m\u001b[0m\u001b[0;34m\u001b[0m\u001b[0m\n\u001b[1;32m    119\u001b[0m         \u001b[0mself\u001b[0m\u001b[0;34m.\u001b[0m\u001b[0msetup_folds\u001b[0m\u001b[0;34m(\u001b[0m\u001b[0;34m)\u001b[0m\u001b[0;34m\u001b[0m\u001b[0;34m\u001b[0m\u001b[0m\n\u001b[0;32m--> 120\u001b[0;31m         \u001b[0mtrain_fold\u001b[0m \u001b[0;34m=\u001b[0m \u001b[0mSubset\u001b[0m\u001b[0;34m(\u001b[0m\u001b[0mself\u001b[0m\u001b[0;34m.\u001b[0m\u001b[0mtrain_dataset\u001b[0m\u001b[0;34m,\u001b[0m \u001b[0mself\u001b[0m\u001b[0;34m.\u001b[0m\u001b[0msplits\u001b[0m\u001b[0;34m[\u001b[0m\u001b[0mself\u001b[0m\u001b[0;34m.\u001b[0m\u001b[0mfold_index\u001b[0m\u001b[0;34m]\u001b[0m\u001b[0;34m[\u001b[0m\u001b[0;36m0\u001b[0m\u001b[0;34m]\u001b[0m\u001b[0;34m)\u001b[0m\u001b[0;34m\u001b[0m\u001b[0;34m\u001b[0m\u001b[0m\n\u001b[0m\u001b[1;32m    121\u001b[0m         \u001b[0;32mreturn\u001b[0m \u001b[0mDataLoader\u001b[0m\u001b[0;34m(\u001b[0m\u001b[0mtrain_fold\u001b[0m\u001b[0;34m,\u001b[0m \u001b[0;34m**\u001b[0m\u001b[0mself\u001b[0m\u001b[0;34m.\u001b[0m\u001b[0mdataloader_setting\u001b[0m\u001b[0;34m)\u001b[0m\u001b[0;34m\u001b[0m\u001b[0;34m\u001b[0m\u001b[0m\n\u001b[1;32m    122\u001b[0m \u001b[0;34m\u001b[0m\u001b[0m\n",
            "\u001b[0;31mIndexError\u001b[0m: list index out of range"
          ]
        }
      ],
      "source": [
        "neptune_logger = get_neptune_logger(\"GMT3-488\") # YOU EDIT THIS LINE IF YOU'RE GONNA START FROM A PREVIOUS RUN.\n",
        "# If resuming from a previous run,\n",
        "# Pass the id as a string in the function\n",
        "# i.e. neptune_logger = get_neptune_logger(\"GMT3-466\")\n",
        "logging.getLogger(\"neptune\").setLevel(logging.CRITICAL)\n",
        "\n",
        "# Check if there is a saved fold\n",
        "if neptune_logger.experiment.exists('training/fold'):\n",
        "    fold = neptune_logger.experiment['training/fold'].fetch()\n",
        "    fold_index = int(fold) + 1\n",
        "    print(fold)\n",
        "    old_model_path = pathlib.Path(ROOT_PATH / \"model\" / \"kfolds\" ).as_posix()\n",
        "    device = torch.device(\"cuda\" if torch.cuda.is_available() else \"cpu\")\n",
        "    if not os.path.exists(old_model_path):\n",
        "        os.makedirs(old_model_path)\n",
        "    neptune_logger.experiment[f'artifacts/folds/fold_{fold}'].download(\n",
        "        destination=old_model_path\n",
        "    )\n",
        "    old_model_state = torch.load(old_model_path + f\"/fold_{fold}.ckpt\", map_location=device)\n",
        "    old_model_state_keys = {k: v for k, v in old_model_state['state_dict'].items()}    # di nakukuha\n",
        "    # print(\"Keys in loaded state dictionary:\")\n",
        "    # for key in old_model_state_keys.keys():\n",
        "    #     print(key)\n",
        "    model.load_state_dict(old_model_state_keys)\n",
        "    print(f\"Loaded checkpoint fold {fold_index}\")\n",
        "\n",
        "# trainer init\n",
        "trainer: Trainer = Trainer(\n",
        "    accelerator=parameters.ACCELERATOR,\n",
        "    logger=neptune_logger,\n",
        "    callbacks=[\n",
        "        checkpoint_callback,\n",
        "        learning_rate_callback,\n",
        "        early_stopping_callback,\n",
        "        duration_callback\n",
        "    ],\n",
        "    default_root_dir=parameters.SAVE_DIR,  # where checkpoints are saved to\n",
        "    log_every_n_steps=1,  # increase to reduce the amount of log flushes (lowers the overhead)\n",
        "    num_sanity_val_steps=0,  # set to 0 to skip sanity check\n",
        "    max_epochs=parameters.MAXEPOCHS,\n",
        "    fast_dev_run=parameters.FAST_DEV_RUN,  # set to True to test the pipeline with one batch and without validation, testing and logging\n",
        "    num_folds=parameters.FOLDS,\n",
        "    shuffle=True,\n",
        "    stratified=False,\n",
        "    model_directory= ROOT_PATH / \"model\" / \"kfolds\",\n",
        ")\n",
        "\n",
        "datamodule = KFoldDataModule(\n",
        "    num_folds=parameters.FOLDS,    # params.FOLDS    ABI ISET MO TO HA labyu -pastabi :D\n",
        "    shuffle=True,\n",
        "    stratified=False,\n",
        "    train_dataloader=dataloader_train,\n",
        "    val_dataloaders=dataloader_valid\n",
        ")\n",
        "\n",
        "if neptune_logger.experiment.exists('training/fold'):\n",
        "    datamodule.set_fold_index(fold_index)\n",
        "    trainer.set_resume_index(fold_index)\n",
        "\n",
        "datamodule.label_extractor = lambda batch: batch['y']\n",
        "\n",
        "# start training/testing\n",
        "cross_val_stats = trainer.cross_validate(\n",
        "    model=model.to(dev),\n",
        "    datamodule=datamodule,\n",
        ")\n",
        "logger.info(f\"Cross validation stats: {cross_val_stats}\")\n",
        "\n",
        "# Create ensemble model\n",
        "ensemble_model = trainer.create_ensemble(\n",
        "    model=model.to(dev),\n",
        "    ckpt_paths=None,\n",
        ")\n",
        "\n",
        "#trainer.fit(\n",
        "#    model=model,\n",
        "#    train_dataloaders=dataloader_train, #train_loader\n",
        "#    val_dataloaders=dataloader_valid,\n",
        "#)\n",
        "\n",
        "if not parameters.FAST_DEV_RUN:\n",
        "    trainer.test(ckpt_path=\"best\", dataloaders=dataloader_test)\n",
        "    # log model\n",
        "    if parameters.LOG_MODEL:\n",
        "        checkpoint_path = pathlib.Path(checkpoint_callback.best_model_path)\n",
        "        save_directory = pathlib.Path(ROOT_PATH / \"model\")\n",
        "\n",
        "        log_model_neptune(\n",
        "            model=model,\n",
        "            save_directory=save_directory,\n",
        "            name=\"best_model.pt\",\n",
        "            neptune_path='artifacts/best_model',\n",
        "            neptune_logger=neptune_logger,\n",
        "        )\n",
        "        log_model_neptune(\n",
        "            model=ensemble_model,\n",
        "            save_directory=save_directory,\n",
        "            name=\"ensemble_model.pt\",\n",
        "            neptune_path='artifacts/ensemble_model',\n",
        "            neptune_logger=neptune_logger,\n",
        "        )\n",
        "\n",
        "# stop logger\n",
        "neptune_logger.experiment.stop()\n",
        "logger.info(\"Training finished\")"
      ]
    },
    {
      "cell_type": "code",
      "execution_count": null,
      "metadata": {
        "id": "nvr34Li7u_gj"
      },
      "outputs": [],
      "source": [
        "print(trainer.out_of_sample_score(ensemble_model))"
      ]
    },
    {
      "cell_type": "code",
      "execution_count": null,
      "metadata": {
        "id": "MqnjjiNi8PX3"
      },
      "outputs": [],
      "source": [
        "torch.save(model.state_dict(), \"model.pt\")"
      ]
    },
    {
      "cell_type": "code",
      "execution_count": null,
      "metadata": {
        "id": "sG-zEBTIR0ll"
      },
      "outputs": [],
      "source": [
        "torch.save(model, \"full_model.pt\")"
      ]
    },
    {
      "cell_type": "code",
      "execution_count": null,
      "metadata": {
        "id": "e0ixJrzzTC4I"
      },
      "outputs": [],
      "source": [
        "# prompt: move full_model.pt to google drive\n",
        "\n",
        "from google.colab import drive\n",
        "drive.mount('/content/drive')\n",
        "\n",
        "# Copy the file to Google Drive\n",
        "!cp full_model.pt /content/drive/MyDrive/lr0-0025_batchsize-20_epoch12_full_model.pt\n",
        "!cp model.pt /content/drive/MyDrive/lr0-0025_batchsize-20_fullepoch12_model.pt"
      ]
    }
  ],
  "metadata": {
    "accelerator": "GPU",
    "colab": {
      "gpuType": "T4",
      "provenance": [],
      "include_colab_link": true
    },
    "kernelspec": {
      "display_name": "Python 3",
      "name": "python3"
    },
    "language_info": {
      "name": "python"
    },
    "widgets": {
      "application/vnd.jupyter.widget-state+json": {
        "be89e3b16bad47e48cdfd4c67489813c": {
          "model_module": "@jupyter-widgets/controls",
          "model_name": "HBoxModel",
          "model_module_version": "1.5.0",
          "state": {
            "_dom_classes": [],
            "_model_module": "@jupyter-widgets/controls",
            "_model_module_version": "1.5.0",
            "_model_name": "HBoxModel",
            "_view_count": null,
            "_view_module": "@jupyter-widgets/controls",
            "_view_module_version": "1.5.0",
            "_view_name": "HBoxView",
            "box_style": "",
            "children": [
              "IPY_MODEL_573d82fdaaeb427f87932f74303e6ede",
              "IPY_MODEL_e9cc27e6059640b1ba7e2cf5b795b2f6",
              "IPY_MODEL_5b68b9c610bd45ce8e47311b4bd24a84"
            ],
            "layout": "IPY_MODEL_00aa7d5498b745238950695cc3bf0c9b"
          }
        },
        "573d82fdaaeb427f87932f74303e6ede": {
          "model_module": "@jupyter-widgets/controls",
          "model_name": "HTMLModel",
          "model_module_version": "1.5.0",
          "state": {
            "_dom_classes": [],
            "_model_module": "@jupyter-widgets/controls",
            "_model_module_version": "1.5.0",
            "_model_name": "HTMLModel",
            "_view_count": null,
            "_view_module": "@jupyter-widgets/controls",
            "_view_module_version": "1.5.0",
            "_view_name": "HTMLView",
            "description": "",
            "description_tooltip": null,
            "layout": "IPY_MODEL_2425a6032ac1406c8ad44f5a93a1211e",
            "placeholder": "​",
            "style": "IPY_MODEL_b97d5a523e3d430e996af08a3cb8e192",
            "value": "Fetching file...: 100%"
          }
        },
        "e9cc27e6059640b1ba7e2cf5b795b2f6": {
          "model_module": "@jupyter-widgets/controls",
          "model_name": "FloatProgressModel",
          "model_module_version": "1.5.0",
          "state": {
            "_dom_classes": [],
            "_model_module": "@jupyter-widgets/controls",
            "_model_module_version": "1.5.0",
            "_model_name": "FloatProgressModel",
            "_view_count": null,
            "_view_module": "@jupyter-widgets/controls",
            "_view_module_version": "1.5.0",
            "_view_name": "ProgressView",
            "bar_style": "success",
            "description": "",
            "description_tooltip": null,
            "layout": "IPY_MODEL_84f11aff8bbe40bd921dad1b5a28b4cc",
            "max": 1,
            "min": 0,
            "orientation": "horizontal",
            "style": "IPY_MODEL_00dbe949ef644fd6a3454199dbed6c9d",
            "value": 1
          }
        },
        "5b68b9c610bd45ce8e47311b4bd24a84": {
          "model_module": "@jupyter-widgets/controls",
          "model_name": "HTMLModel",
          "model_module_version": "1.5.0",
          "state": {
            "_dom_classes": [],
            "_model_module": "@jupyter-widgets/controls",
            "_model_module_version": "1.5.0",
            "_model_name": "HTMLModel",
            "_view_count": null,
            "_view_module": "@jupyter-widgets/controls",
            "_view_module_version": "1.5.0",
            "_view_name": "HTMLView",
            "description": "",
            "description_tooltip": null,
            "layout": "IPY_MODEL_09dca7e13d1441f197f7cb357c5f0f2c",
            "placeholder": "​",
            "style": "IPY_MODEL_4273c90365274b4ebde378c55a757f11",
            "value": " 307465918/307465918 [00:16&lt;00:00, 19239816.18/s]"
          }
        },
        "00aa7d5498b745238950695cc3bf0c9b": {
          "model_module": "@jupyter-widgets/base",
          "model_name": "LayoutModel",
          "model_module_version": "1.2.0",
          "state": {
            "_model_module": "@jupyter-widgets/base",
            "_model_module_version": "1.2.0",
            "_model_name": "LayoutModel",
            "_view_count": null,
            "_view_module": "@jupyter-widgets/base",
            "_view_module_version": "1.2.0",
            "_view_name": "LayoutView",
            "align_content": null,
            "align_items": null,
            "align_self": null,
            "border": null,
            "bottom": null,
            "display": null,
            "flex": null,
            "flex_flow": null,
            "grid_area": null,
            "grid_auto_columns": null,
            "grid_auto_flow": null,
            "grid_auto_rows": null,
            "grid_column": null,
            "grid_gap": null,
            "grid_row": null,
            "grid_template_areas": null,
            "grid_template_columns": null,
            "grid_template_rows": null,
            "height": null,
            "justify_content": null,
            "justify_items": null,
            "left": null,
            "margin": null,
            "max_height": null,
            "max_width": null,
            "min_height": null,
            "min_width": null,
            "object_fit": null,
            "object_position": null,
            "order": null,
            "overflow": null,
            "overflow_x": null,
            "overflow_y": null,
            "padding": null,
            "right": null,
            "top": null,
            "visibility": null,
            "width": null
          }
        },
        "2425a6032ac1406c8ad44f5a93a1211e": {
          "model_module": "@jupyter-widgets/base",
          "model_name": "LayoutModel",
          "model_module_version": "1.2.0",
          "state": {
            "_model_module": "@jupyter-widgets/base",
            "_model_module_version": "1.2.0",
            "_model_name": "LayoutModel",
            "_view_count": null,
            "_view_module": "@jupyter-widgets/base",
            "_view_module_version": "1.2.0",
            "_view_name": "LayoutView",
            "align_content": null,
            "align_items": null,
            "align_self": null,
            "border": null,
            "bottom": null,
            "display": null,
            "flex": null,
            "flex_flow": null,
            "grid_area": null,
            "grid_auto_columns": null,
            "grid_auto_flow": null,
            "grid_auto_rows": null,
            "grid_column": null,
            "grid_gap": null,
            "grid_row": null,
            "grid_template_areas": null,
            "grid_template_columns": null,
            "grid_template_rows": null,
            "height": null,
            "justify_content": null,
            "justify_items": null,
            "left": null,
            "margin": null,
            "max_height": null,
            "max_width": null,
            "min_height": null,
            "min_width": null,
            "object_fit": null,
            "object_position": null,
            "order": null,
            "overflow": null,
            "overflow_x": null,
            "overflow_y": null,
            "padding": null,
            "right": null,
            "top": null,
            "visibility": null,
            "width": null
          }
        },
        "b97d5a523e3d430e996af08a3cb8e192": {
          "model_module": "@jupyter-widgets/controls",
          "model_name": "DescriptionStyleModel",
          "model_module_version": "1.5.0",
          "state": {
            "_model_module": "@jupyter-widgets/controls",
            "_model_module_version": "1.5.0",
            "_model_name": "DescriptionStyleModel",
            "_view_count": null,
            "_view_module": "@jupyter-widgets/base",
            "_view_module_version": "1.2.0",
            "_view_name": "StyleView",
            "description_width": ""
          }
        },
        "84f11aff8bbe40bd921dad1b5a28b4cc": {
          "model_module": "@jupyter-widgets/base",
          "model_name": "LayoutModel",
          "model_module_version": "1.2.0",
          "state": {
            "_model_module": "@jupyter-widgets/base",
            "_model_module_version": "1.2.0",
            "_model_name": "LayoutModel",
            "_view_count": null,
            "_view_module": "@jupyter-widgets/base",
            "_view_module_version": "1.2.0",
            "_view_name": "LayoutView",
            "align_content": null,
            "align_items": null,
            "align_self": null,
            "border": null,
            "bottom": null,
            "display": null,
            "flex": null,
            "flex_flow": null,
            "grid_area": null,
            "grid_auto_columns": null,
            "grid_auto_flow": null,
            "grid_auto_rows": null,
            "grid_column": null,
            "grid_gap": null,
            "grid_row": null,
            "grid_template_areas": null,
            "grid_template_columns": null,
            "grid_template_rows": null,
            "height": null,
            "justify_content": null,
            "justify_items": null,
            "left": null,
            "margin": null,
            "max_height": null,
            "max_width": null,
            "min_height": null,
            "min_width": null,
            "object_fit": null,
            "object_position": null,
            "order": null,
            "overflow": null,
            "overflow_x": null,
            "overflow_y": null,
            "padding": null,
            "right": null,
            "top": null,
            "visibility": null,
            "width": "20px"
          }
        },
        "00dbe949ef644fd6a3454199dbed6c9d": {
          "model_module": "@jupyter-widgets/controls",
          "model_name": "ProgressStyleModel",
          "model_module_version": "1.5.0",
          "state": {
            "_model_module": "@jupyter-widgets/controls",
            "_model_module_version": "1.5.0",
            "_model_name": "ProgressStyleModel",
            "_view_count": null,
            "_view_module": "@jupyter-widgets/base",
            "_view_module_version": "1.2.0",
            "_view_name": "StyleView",
            "bar_color": null,
            "description_width": ""
          }
        },
        "09dca7e13d1441f197f7cb357c5f0f2c": {
          "model_module": "@jupyter-widgets/base",
          "model_name": "LayoutModel",
          "model_module_version": "1.2.0",
          "state": {
            "_model_module": "@jupyter-widgets/base",
            "_model_module_version": "1.2.0",
            "_model_name": "LayoutModel",
            "_view_count": null,
            "_view_module": "@jupyter-widgets/base",
            "_view_module_version": "1.2.0",
            "_view_name": "LayoutView",
            "align_content": null,
            "align_items": null,
            "align_self": null,
            "border": null,
            "bottom": null,
            "display": null,
            "flex": null,
            "flex_flow": null,
            "grid_area": null,
            "grid_auto_columns": null,
            "grid_auto_flow": null,
            "grid_auto_rows": null,
            "grid_column": null,
            "grid_gap": null,
            "grid_row": null,
            "grid_template_areas": null,
            "grid_template_columns": null,
            "grid_template_rows": null,
            "height": null,
            "justify_content": null,
            "justify_items": null,
            "left": null,
            "margin": null,
            "max_height": null,
            "max_width": null,
            "min_height": null,
            "min_width": null,
            "object_fit": null,
            "object_position": null,
            "order": null,
            "overflow": null,
            "overflow_x": null,
            "overflow_y": null,
            "padding": null,
            "right": null,
            "top": null,
            "visibility": null,
            "width": null
          }
        },
        "4273c90365274b4ebde378c55a757f11": {
          "model_module": "@jupyter-widgets/controls",
          "model_name": "DescriptionStyleModel",
          "model_module_version": "1.5.0",
          "state": {
            "_model_module": "@jupyter-widgets/controls",
            "_model_module_version": "1.5.0",
            "_model_name": "DescriptionStyleModel",
            "_view_count": null,
            "_view_module": "@jupyter-widgets/base",
            "_view_module_version": "1.2.0",
            "_view_name": "StyleView",
            "description_width": ""
          }
        }
      }
    }
  },
  "nbformat": 4,
  "nbformat_minor": 0
}