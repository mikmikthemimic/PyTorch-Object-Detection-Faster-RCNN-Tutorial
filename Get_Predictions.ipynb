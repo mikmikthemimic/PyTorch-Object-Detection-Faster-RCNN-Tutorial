{
  "nbformat": 4,
  "nbformat_minor": 0,
  "metadata": {
    "colab": {
      "provenance": [],
      "gpuType": "T4",
      "include_colab_link": true
    },
    "kernelspec": {
      "name": "python3",
      "display_name": "Python 3"
    },
    "language_info": {
      "name": "python"
    },
    "accelerator": "GPU"
  },
  "cells": [
    {
      "cell_type": "markdown",
      "metadata": {
        "id": "view-in-github",
        "colab_type": "text"
      },
      "source": [
        "<a href=\"https://colab.research.google.com/github/mikmikthemimic/PyTorch-Object-Detection-Faster-RCNN-Tutorial/blob/master/Get_Predictions.ipynb\" target=\"_parent\"><img src=\"https://colab.research.google.com/assets/colab-badge.svg\" alt=\"Open In Colab\"/></a>"
      ]
    },
    {
      "cell_type": "code",
      "source": [
        "from google.colab import drive\n",
        "drive.mount('/content/drive')"
      ],
      "metadata": {
        "colab": {
          "base_uri": "https://localhost:8080/"
        },
        "id": "_7hUdptkmS9v",
        "outputId": "f389fe44-8baf-4220-c667-6b2d73f9adcd"
      },
      "execution_count": null,
      "outputs": [
        {
          "output_type": "stream",
          "name": "stdout",
          "text": [
            "Drive already mounted at /content/drive; to attempt to forcibly remount, call drive.mount(\"/content/drive\", force_remount=True).\n"
          ]
        }
      ]
    },
    {
      "cell_type": "code",
      "source": [
        "!git clone https://github.com/mikmikthemimic/PyTorch-Object-Detection-Faster-RCNN-Tutorial.git"
      ],
      "metadata": {
        "colab": {
          "base_uri": "https://localhost:8080/"
        },
        "id": "fVU1zBNXmZns",
        "outputId": "eb203db0-2e67-432b-a24d-fee1160aa311"
      },
      "execution_count": null,
      "outputs": [
        {
          "output_type": "stream",
          "name": "stdout",
          "text": [
            "Cloning into 'PyTorch-Object-Detection-Faster-RCNN-Tutorial'...\n",
            "remote: Enumerating objects: 928, done.\u001b[K\n",
            "remote: Counting objects: 100% (471/471), done.\u001b[K\n",
            "remote: Compressing objects: 100% (175/175), done.\u001b[K\n",
            "remote: Total 928 (delta 314), reused 417 (delta 288), pack-reused 457\u001b[K\n",
            "Receiving objects: 100% (928/928), 191.98 MiB | 23.41 MiB/s, done.\n",
            "Resolving deltas: 100% (511/511), done.\n"
          ]
        }
      ]
    },
    {
      "cell_type": "code",
      "source": [
        "%%capture\n",
        "import os\n",
        "\n",
        "if not os.path.isdir('/content/PyTorch-Object-Detection-Faster-RCNN-Tutorial/pytorch_faster_rcnn_tutorial/data/heads/input/'):\n",
        "  !unzip '/content/drive/MyDrive/raw dataset/fin_dataset.zip' -d '/content/PyTorch-Object-Detection-Faster-RCNN-Tutorial/pytorch_faster_rcnn_tutorial/data/heads'"
      ],
      "metadata": {
        "id": "5Q3-9FWRmbQK"
      },
      "execution_count": null,
      "outputs": []
    },
    {
      "cell_type": "code",
      "source": [
        "%cd /content/PyTorch-Object-Detection-Faster-RCNN-Tutorial"
      ],
      "metadata": {
        "colab": {
          "base_uri": "https://localhost:8080/"
        },
        "id": "EiZpBU4hmeox",
        "outputId": "876dde95-4fd6-4389-ede7-3639dbcb3d73"
      },
      "execution_count": null,
      "outputs": [
        {
          "output_type": "stream",
          "name": "stdout",
          "text": [
            "/content/PyTorch-Object-Detection-Faster-RCNN-Tutorial\n"
          ]
        }
      ]
    },
    {
      "cell_type": "code",
      "source": [
        "!pip install -q -r requirements_colab.txt"
      ],
      "metadata": {
        "id": "u_me4sHmmljf"
      },
      "execution_count": null,
      "outputs": []
    },
    {
      "cell_type": "code",
      "source": [
        "#new change   08/06/2024\n",
        "\n",
        "# Wag na muna eto\n",
        "# !pip install pydantic==1.8.1\n",
        "# !pip install pydantic-settings"
      ],
      "metadata": {
        "colab": {
          "base_uri": "https://localhost:8080/",
          "height": 715
        },
        "id": "a_t2fF2_zvkm",
        "outputId": "85b723ea-60a4-4ae5-c30d-48671a271b4c"
      },
      "execution_count": null,
      "outputs": [
        {
          "output_type": "stream",
          "name": "stdout",
          "text": [
            "Collecting pydantic==1.8.1\n",
            "  Using cached pydantic-1.8.1-py3-none-any.whl.metadata (100 kB)\n",
            "Requirement already satisfied: typing-extensions>=3.7.4.3 in /usr/local/lib/python3.10/dist-packages (from pydantic==1.8.1) (4.12.2)\n",
            "Using cached pydantic-1.8.1-py3-none-any.whl (125 kB)\n",
            "Installing collected packages: pydantic\n",
            "  Attempting uninstall: pydantic\n",
            "    Found existing installation: pydantic 2.8.2\n",
            "    Uninstalling pydantic-2.8.2:\n",
            "      Successfully uninstalled pydantic-2.8.2\n",
            "\u001b[31mERROR: pip's dependency resolver does not currently take into account all the packages that are installed. This behaviour is the source of the following dependency conflicts.\n",
            "albumentations 1.4.12 requires pydantic>=2.7.0, but you have pydantic 1.8.1 which is incompatible.\n",
            "confection 0.1.5 requires pydantic!=1.8,!=1.8.1,<3.0.0,>=1.7.4, but you have pydantic 1.8.1 which is incompatible.\n",
            "napari 0.5.1 requires pydantic>=1.9.0, but you have pydantic 1.8.1 which is incompatible.\n",
            "pydantic-settings 2.4.0 requires pydantic>=2.7.0, but you have pydantic 1.8.1 which is incompatible.\n",
            "spacy 3.7.5 requires pydantic!=1.8,!=1.8.1,<3.0.0,>=1.7.4, but you have pydantic 1.8.1 which is incompatible.\n",
            "thinc 8.2.5 requires pydantic!=1.8,!=1.8.1,<3.0.0,>=1.7.4, but you have pydantic 1.8.1 which is incompatible.\n",
            "weasel 0.4.1 requires pydantic!=1.8,!=1.8.1,<3.0.0,>=1.7.4, but you have pydantic 1.8.1 which is incompatible.\u001b[0m\u001b[31m\n",
            "\u001b[0mSuccessfully installed pydantic-1.8.1\n"
          ]
        },
        {
          "output_type": "display_data",
          "data": {
            "application/vnd.colab-display-data+json": {
              "pip_warning": {
                "packages": [
                  "pydantic"
                ]
              },
              "id": "d936c91913424064ac15f859de3ce0cf"
            }
          },
          "metadata": {}
        },
        {
          "output_type": "stream",
          "name": "stdout",
          "text": [
            "Requirement already satisfied: pydantic-settings in /usr/local/lib/python3.10/dist-packages (2.4.0)\n",
            "Collecting pydantic>=2.7.0 (from pydantic-settings)\n",
            "  Using cached pydantic-2.8.2-py3-none-any.whl.metadata (125 kB)\n",
            "Requirement already satisfied: python-dotenv>=0.21.0 in /usr/local/lib/python3.10/dist-packages (from pydantic-settings) (1.0.1)\n",
            "Requirement already satisfied: annotated-types>=0.4.0 in /usr/local/lib/python3.10/dist-packages (from pydantic>=2.7.0->pydantic-settings) (0.7.0)\n",
            "Requirement already satisfied: pydantic-core==2.20.1 in /usr/local/lib/python3.10/dist-packages (from pydantic>=2.7.0->pydantic-settings) (2.20.1)\n",
            "Requirement already satisfied: typing-extensions>=4.6.1 in /usr/local/lib/python3.10/dist-packages (from pydantic>=2.7.0->pydantic-settings) (4.12.2)\n",
            "Using cached pydantic-2.8.2-py3-none-any.whl (423 kB)\n",
            "Installing collected packages: pydantic\n",
            "  Attempting uninstall: pydantic\n",
            "    Found existing installation: pydantic 1.8.1\n",
            "    Uninstalling pydantic-1.8.1:\n",
            "      Successfully uninstalled pydantic-1.8.1\n",
            "Successfully installed pydantic-2.8.2\n"
          ]
        }
      ]
    },
    {
      "cell_type": "code",
      "source": [
        "# Wag na muna eto\n",
        "# !pip install \"napari[all]\""
      ],
      "metadata": {
        "colab": {
          "base_uri": "https://localhost:8080/"
        },
        "id": "rrAFbR401Ctt",
        "outputId": "4ed2e898-9150-4129-d8b2-064c1d0f34e2"
      },
      "execution_count": null,
      "outputs": [
        {
          "output_type": "stream",
          "name": "stdout",
          "text": [
            "Requirement already satisfied: napari[all] in /usr/local/lib/python3.10/dist-packages (0.5.1)\n",
            "Requirement already satisfied: appdirs>=1.4.4 in /usr/local/lib/python3.10/dist-packages (from napari[all]) (1.4.4)\n",
            "Requirement already satisfied: app-model<0.3.0,>=0.2.5 in /usr/local/lib/python3.10/dist-packages (from napari[all]) (0.2.8)\n",
            "Requirement already satisfied: cachey>=0.2.1 in /usr/local/lib/python3.10/dist-packages (from napari[all]) (0.2.1)\n",
            "Requirement already satisfied: certifi>=2018.1.18 in /usr/local/lib/python3.10/dist-packages (from napari[all]) (2024.7.4)\n",
            "Requirement already satisfied: dask>=2021.10.0 in /usr/local/lib/python3.10/dist-packages (from dask[array]>=2021.10.0->napari[all]) (2024.7.1)\n",
            "Requirement already satisfied: imageio!=2.22.1,>=2.20 in /usr/local/lib/python3.10/dist-packages (from napari[all]) (2.34.2)\n",
            "Requirement already satisfied: jsonschema>=3.2.0 in /usr/local/lib/python3.10/dist-packages (from napari[all]) (4.23.0)\n",
            "Requirement already satisfied: lazy-loader>=0.2 in /usr/local/lib/python3.10/dist-packages (from napari[all]) (0.4)\n",
            "Requirement already satisfied: magicgui>=0.7.0 in /usr/local/lib/python3.10/dist-packages (from napari[all]) (0.9.0)\n",
            "Requirement already satisfied: napari-console>=0.0.9 in /usr/local/lib/python3.10/dist-packages (from napari[all]) (0.0.9)\n",
            "Requirement already satisfied: napari-plugin-engine>=0.1.9 in /usr/local/lib/python3.10/dist-packages (from napari[all]) (0.2.0)\n",
            "Requirement already satisfied: napari-svg>=0.1.8 in /usr/local/lib/python3.10/dist-packages (from napari[all]) (0.2.0)\n",
            "Requirement already satisfied: npe2>=0.7.6 in /usr/local/lib/python3.10/dist-packages (from napari[all]) (0.7.7)\n",
            "Requirement already satisfied: numpydoc>=0.9.2 in /usr/local/lib/python3.10/dist-packages (from napari[all]) (1.7.0)\n",
            "Requirement already satisfied: pandas>=1.3.0 in /usr/local/lib/python3.10/dist-packages (from napari[all]) (2.1.4)\n",
            "Requirement already satisfied: Pillow>=9.0 in /usr/local/lib/python3.10/dist-packages (from napari[all]) (9.4.0)\n",
            "Requirement already satisfied: pint>=0.17 in /usr/local/lib/python3.10/dist-packages (from napari[all]) (0.24.3)\n",
            "Requirement already satisfied: psutil>=5.0 in /usr/local/lib/python3.10/dist-packages (from napari[all]) (5.9.5)\n",
            "Requirement already satisfied: psygnal>=0.5.0 in /usr/local/lib/python3.10/dist-packages (from napari[all]) (0.11.1)\n",
            "Requirement already satisfied: pydantic>=1.9.0 in /usr/local/lib/python3.10/dist-packages (from napari[all]) (2.8.2)\n",
            "Requirement already satisfied: pygments>=2.6.0 in /usr/local/lib/python3.10/dist-packages (from napari[all]) (2.18.0)\n",
            "Requirement already satisfied: PyOpenGL>=3.1.0 in /usr/local/lib/python3.10/dist-packages (from napari[all]) (3.1.7)\n",
            "Requirement already satisfied: PyYAML>=5.1 in /usr/local/lib/python3.10/dist-packages (from napari[all]) (6.0.1)\n",
            "Requirement already satisfied: qtpy>=1.10.0 in /usr/local/lib/python3.10/dist-packages (from napari[all]) (2.4.1)\n",
            "Requirement already satisfied: scikit-image>=0.19.1 in /usr/local/lib/python3.10/dist-packages (from scikit-image[data]>=0.19.1->napari[all]) (0.23.2)\n",
            "Requirement already satisfied: scipy>=1.5.4 in /usr/local/lib/python3.10/dist-packages (from napari[all]) (1.13.1)\n",
            "Requirement already satisfied: superqt>=0.6.7 in /usr/local/lib/python3.10/dist-packages (from napari[all]) (0.6.7)\n",
            "Requirement already satisfied: tifffile>=2022.4.8 in /usr/local/lib/python3.10/dist-packages (from napari[all]) (2024.7.24)\n",
            "Requirement already satisfied: toolz>=0.10.0 in /usr/local/lib/python3.10/dist-packages (from napari[all]) (0.12.1)\n",
            "Requirement already satisfied: tqdm>=4.56.0 in /usr/local/lib/python3.10/dist-packages (from napari[all]) (4.66.4)\n",
            "Requirement already satisfied: typing-extensions>=4.2.0 in /usr/local/lib/python3.10/dist-packages (from napari[all]) (4.12.2)\n",
            "Requirement already satisfied: vispy<0.15,>=0.14.1 in /usr/local/lib/python3.10/dist-packages (from napari[all]) (0.14.3)\n",
            "Requirement already satisfied: wrapt>=1.11.1 in /usr/local/lib/python3.10/dist-packages (from napari[all]) (1.16.0)\n",
            "Requirement already satisfied: numpy>=1.22.2 in /usr/local/lib/python3.10/dist-packages (from napari[all]) (1.26.4)\n",
            "Requirement already satisfied: napari-plugin-manager<0.2.0,>=0.1.0a1 in /usr/local/lib/python3.10/dist-packages (from napari[all]) (0.1.0)\n",
            "Requirement already satisfied: in-n-out>=0.1.5 in /usr/local/lib/python3.10/dist-packages (from app-model<0.3.0,>=0.2.5->napari[all]) (0.2.1)\n",
            "Requirement already satisfied: pydantic-compat>=0.1.1 in /usr/local/lib/python3.10/dist-packages (from app-model<0.3.0,>=0.2.5->napari[all]) (0.1.2)\n",
            "Requirement already satisfied: heapdict in /usr/local/lib/python3.10/dist-packages (from cachey>=0.2.1->napari[all]) (1.0.1)\n",
            "Requirement already satisfied: click>=8.1 in /usr/local/lib/python3.10/dist-packages (from dask>=2021.10.0->dask[array]>=2021.10.0->napari[all]) (8.1.7)\n",
            "Requirement already satisfied: cloudpickle>=1.5.0 in /usr/local/lib/python3.10/dist-packages (from dask>=2021.10.0->dask[array]>=2021.10.0->napari[all]) (2.2.1)\n",
            "Requirement already satisfied: fsspec>=2021.09.0 in /usr/local/lib/python3.10/dist-packages (from dask>=2021.10.0->dask[array]>=2021.10.0->napari[all]) (2024.6.1)\n",
            "Requirement already satisfied: packaging>=20.0 in /usr/local/lib/python3.10/dist-packages (from dask>=2021.10.0->dask[array]>=2021.10.0->napari[all]) (24.1)\n",
            "Requirement already satisfied: partd>=1.4.0 in /usr/local/lib/python3.10/dist-packages (from dask>=2021.10.0->dask[array]>=2021.10.0->napari[all]) (1.4.2)\n",
            "Requirement already satisfied: importlib-metadata>=4.13.0 in /usr/local/lib/python3.10/dist-packages (from dask>=2021.10.0->dask[array]>=2021.10.0->napari[all]) (8.2.0)\n",
            "Requirement already satisfied: attrs>=22.2.0 in /usr/local/lib/python3.10/dist-packages (from jsonschema>=3.2.0->napari[all]) (23.2.0)\n",
            "Requirement already satisfied: jsonschema-specifications>=2023.03.6 in /usr/local/lib/python3.10/dist-packages (from jsonschema>=3.2.0->napari[all]) (2023.12.1)\n",
            "Requirement already satisfied: referencing>=0.28.4 in /usr/local/lib/python3.10/dist-packages (from jsonschema>=3.2.0->napari[all]) (0.35.1)\n",
            "Requirement already satisfied: rpds-py>=0.7.1 in /usr/local/lib/python3.10/dist-packages (from jsonschema>=3.2.0->napari[all]) (0.19.1)\n",
            "Requirement already satisfied: docstring-parser>=0.7 in /usr/local/lib/python3.10/dist-packages (from magicgui>=0.7.0->napari[all]) (0.16)\n",
            "Requirement already satisfied: IPython>=7.7.0 in /usr/local/lib/python3.10/dist-packages (from napari-console>=0.0.9->napari[all]) (7.34.0)\n",
            "Requirement already satisfied: ipykernel>=5.2.0 in /usr/local/lib/python3.10/dist-packages (from napari-console>=0.0.9->napari[all]) (5.5.6)\n",
            "Requirement already satisfied: qtconsole!=4.7.6,!=5.4.2,>=4.5.1 in /usr/local/lib/python3.10/dist-packages (from napari-console>=0.0.9->napari[all]) (5.5.2)\n",
            "Requirement already satisfied: pip in /usr/local/lib/python3.10/dist-packages (from napari-plugin-manager<0.2.0,>=0.1.0a1->napari[all]) (24.1.2)\n",
            "Requirement already satisfied: build>=1 in /usr/local/lib/python3.10/dist-packages (from npe2>=0.7.6->napari[all]) (1.2.1)\n",
            "Requirement already satisfied: rich in /usr/local/lib/python3.10/dist-packages (from npe2>=0.7.6->napari[all]) (13.7.1)\n",
            "Requirement already satisfied: tomli-w in /usr/local/lib/python3.10/dist-packages (from npe2>=0.7.6->napari[all]) (1.0.0)\n",
            "Requirement already satisfied: tomli in /usr/local/lib/python3.10/dist-packages (from npe2>=0.7.6->napari[all]) (2.0.1)\n",
            "Requirement already satisfied: typer in /usr/local/lib/python3.10/dist-packages (from npe2>=0.7.6->napari[all]) (0.12.3)\n",
            "Requirement already satisfied: sphinx>=6 in /usr/local/lib/python3.10/dist-packages (from numpydoc>=0.9.2->napari[all]) (8.0.2)\n",
            "Requirement already satisfied: tabulate>=0.8.10 in /usr/local/lib/python3.10/dist-packages (from numpydoc>=0.9.2->napari[all]) (0.9.0)\n",
            "Requirement already satisfied: python-dateutil>=2.8.2 in /usr/local/lib/python3.10/dist-packages (from pandas>=1.3.0->napari[all]) (2.8.2)\n",
            "Requirement already satisfied: pytz>=2020.1 in /usr/local/lib/python3.10/dist-packages (from pandas>=1.3.0->napari[all]) (2024.1)\n",
            "Requirement already satisfied: tzdata>=2022.1 in /usr/local/lib/python3.10/dist-packages (from pandas>=1.3.0->napari[all]) (2024.1)\n",
            "Requirement already satisfied: flexcache>=0.3 in /usr/local/lib/python3.10/dist-packages (from pint>=0.17->napari[all]) (0.3)\n",
            "Requirement already satisfied: flexparser>=0.3 in /usr/local/lib/python3.10/dist-packages (from pint>=0.17->napari[all]) (0.3.1)\n",
            "Requirement already satisfied: annotated-types>=0.4.0 in /usr/local/lib/python3.10/dist-packages (from pydantic>=1.9.0->napari[all]) (0.7.0)\n",
            "Requirement already satisfied: pydantic-core==2.20.1 in /usr/local/lib/python3.10/dist-packages (from pydantic>=1.9.0->napari[all]) (2.20.1)\n",
            "Requirement already satisfied: networkx>=2.8 in /usr/local/lib/python3.10/dist-packages (from scikit-image>=0.19.1->scikit-image[data]>=0.19.1->napari[all]) (3.3)\n",
            "Requirement already satisfied: pooch>=1.6.0 in /usr/local/lib/python3.10/dist-packages (from scikit-image[data]>=0.19.1->napari[all]) (1.8.2)\n",
            "Requirement already satisfied: freetype-py in /usr/local/lib/python3.10/dist-packages (from vispy<0.15,>=0.14.1->napari[all]) (2.4.0)\n",
            "Requirement already satisfied: hsluv in /usr/local/lib/python3.10/dist-packages (from vispy<0.15,>=0.14.1->napari[all]) (5.0.4)\n",
            "Requirement already satisfied: kiwisolver in /usr/local/lib/python3.10/dist-packages (from vispy<0.15,>=0.14.1->napari[all]) (1.4.5)\n",
            "Requirement already satisfied: numba>=0.57.1 in /usr/local/lib/python3.10/dist-packages (from napari[all]) (0.60.0)\n",
            "Requirement already satisfied: zarr>=2.12.0 in /usr/local/lib/python3.10/dist-packages (from napari[all]) (2.18.2)\n",
            "Requirement already satisfied: triangle in /usr/local/lib/python3.10/dist-packages (from napari[all]) (20230923)\n",
            "Requirement already satisfied: pyproject_hooks in /usr/local/lib/python3.10/dist-packages (from build>=1->npe2>=0.7.6->napari[all]) (1.1.0)\n",
            "Requirement already satisfied: zipp>=0.5 in /usr/local/lib/python3.10/dist-packages (from importlib-metadata>=4.13.0->dask>=2021.10.0->dask[array]>=2021.10.0->napari[all]) (3.19.2)\n",
            "Requirement already satisfied: ipython-genutils in /usr/local/lib/python3.10/dist-packages (from ipykernel>=5.2.0->napari-console>=0.0.9->napari[all]) (0.2.0)\n",
            "Requirement already satisfied: traitlets>=4.1.0 in /usr/local/lib/python3.10/dist-packages (from ipykernel>=5.2.0->napari-console>=0.0.9->napari[all]) (5.7.1)\n",
            "Requirement already satisfied: jupyter-client in /usr/local/lib/python3.10/dist-packages (from ipykernel>=5.2.0->napari-console>=0.0.9->napari[all]) (6.1.12)\n",
            "Requirement already satisfied: tornado>=4.2 in /usr/local/lib/python3.10/dist-packages (from ipykernel>=5.2.0->napari-console>=0.0.9->napari[all]) (6.3.3)\n",
            "Requirement already satisfied: setuptools>=18.5 in /usr/local/lib/python3.10/dist-packages (from IPython>=7.7.0->napari-console>=0.0.9->napari[all]) (71.0.4)\n",
            "Requirement already satisfied: jedi>=0.16 in /usr/local/lib/python3.10/dist-packages (from IPython>=7.7.0->napari-console>=0.0.9->napari[all]) (0.19.1)\n",
            "Requirement already satisfied: decorator in /usr/local/lib/python3.10/dist-packages (from IPython>=7.7.0->napari-console>=0.0.9->napari[all]) (4.4.2)\n",
            "Requirement already satisfied: pickleshare in /usr/local/lib/python3.10/dist-packages (from IPython>=7.7.0->napari-console>=0.0.9->napari[all]) (0.7.5)\n",
            "Requirement already satisfied: prompt-toolkit!=3.0.0,!=3.0.1,<3.1.0,>=2.0.0 in /usr/local/lib/python3.10/dist-packages (from IPython>=7.7.0->napari-console>=0.0.9->napari[all]) (3.0.47)\n",
            "Requirement already satisfied: backcall in /usr/local/lib/python3.10/dist-packages (from IPython>=7.7.0->napari-console>=0.0.9->napari[all]) (0.2.0)\n",
            "Requirement already satisfied: matplotlib-inline in /usr/local/lib/python3.10/dist-packages (from IPython>=7.7.0->napari-console>=0.0.9->napari[all]) (0.1.7)\n",
            "Requirement already satisfied: pexpect>4.3 in /usr/local/lib/python3.10/dist-packages (from IPython>=7.7.0->napari-console>=0.0.9->napari[all]) (4.9.0)\n",
            "Requirement already satisfied: llvmlite<0.44,>=0.43.0dev0 in /usr/local/lib/python3.10/dist-packages (from numba>=0.57.1->napari[all]) (0.43.0)\n",
            "Requirement already satisfied: locket in /usr/local/lib/python3.10/dist-packages (from partd>=1.4.0->dask>=2021.10.0->dask[array]>=2021.10.0->napari[all]) (1.0.0)\n",
            "Requirement already satisfied: platformdirs>=2.5.0 in /usr/local/lib/python3.10/dist-packages (from pooch>=1.6.0->scikit-image[data]>=0.19.1->napari[all]) (4.2.2)\n",
            "Requirement already satisfied: requests>=2.19.0 in /usr/local/lib/python3.10/dist-packages (from pooch>=1.6.0->scikit-image[data]>=0.19.1->napari[all]) (2.31.0)\n",
            "Requirement already satisfied: six>=1.5 in /usr/local/lib/python3.10/dist-packages (from python-dateutil>=2.8.2->pandas>=1.3.0->napari[all]) (1.16.0)\n",
            "Requirement already satisfied: jupyter-core in /usr/local/lib/python3.10/dist-packages (from qtconsole!=4.7.6,!=5.4.2,>=4.5.1->napari-console>=0.0.9->napari[all]) (5.7.2)\n",
            "Requirement already satisfied: pyzmq>=17.1 in /usr/local/lib/python3.10/dist-packages (from qtconsole!=4.7.6,!=5.4.2,>=4.5.1->napari-console>=0.0.9->napari[all]) (24.0.1)\n",
            "Requirement already satisfied: sphinxcontrib-applehelp in /usr/local/lib/python3.10/dist-packages (from sphinx>=6->numpydoc>=0.9.2->napari[all]) (2.0.0)\n",
            "Requirement already satisfied: sphinxcontrib-devhelp in /usr/local/lib/python3.10/dist-packages (from sphinx>=6->numpydoc>=0.9.2->napari[all]) (2.0.0)\n",
            "Requirement already satisfied: sphinxcontrib-jsmath in /usr/local/lib/python3.10/dist-packages (from sphinx>=6->numpydoc>=0.9.2->napari[all]) (1.0.1)\n",
            "Requirement already satisfied: sphinxcontrib-htmlhelp>=2.0.0 in /usr/local/lib/python3.10/dist-packages (from sphinx>=6->numpydoc>=0.9.2->napari[all]) (2.1.0)\n",
            "Requirement already satisfied: sphinxcontrib-serializinghtml>=1.1.9 in /usr/local/lib/python3.10/dist-packages (from sphinx>=6->numpydoc>=0.9.2->napari[all]) (2.0.0)\n",
            "Requirement already satisfied: sphinxcontrib-qthelp in /usr/local/lib/python3.10/dist-packages (from sphinx>=6->numpydoc>=0.9.2->napari[all]) (2.0.0)\n",
            "Requirement already satisfied: Jinja2>=3.1 in /usr/local/lib/python3.10/dist-packages (from sphinx>=6->numpydoc>=0.9.2->napari[all]) (3.1.4)\n",
            "Requirement already satisfied: docutils<0.22,>=0.20 in /usr/local/lib/python3.10/dist-packages (from sphinx>=6->numpydoc>=0.9.2->napari[all]) (0.21.2)\n",
            "Requirement already satisfied: snowballstemmer>=2.2 in /usr/local/lib/python3.10/dist-packages (from sphinx>=6->numpydoc>=0.9.2->napari[all]) (2.2.0)\n",
            "Requirement already satisfied: babel>=2.13 in /usr/local/lib/python3.10/dist-packages (from sphinx>=6->numpydoc>=0.9.2->napari[all]) (2.15.0)\n",
            "Requirement already satisfied: alabaster>=0.7.14 in /usr/local/lib/python3.10/dist-packages (from sphinx>=6->numpydoc>=0.9.2->napari[all]) (0.7.16)\n",
            "Requirement already satisfied: imagesize>=1.3 in /usr/local/lib/python3.10/dist-packages (from sphinx>=6->numpydoc>=0.9.2->napari[all]) (1.4.1)\n",
            "Requirement already satisfied: pyconify>=0.1.4 in /usr/local/lib/python3.10/dist-packages (from superqt[iconify]>=0.6.1->magicgui>=0.7.0->napari[all]) (0.1.6)\n",
            "Requirement already satisfied: asciitree in /usr/local/lib/python3.10/dist-packages (from zarr>=2.12.0->napari[all]) (0.3.3)\n",
            "Requirement already satisfied: numcodecs>=0.10.0 in /usr/local/lib/python3.10/dist-packages (from zarr>=2.12.0->napari[all]) (0.13.0)\n",
            "Requirement already satisfied: fasteners in /usr/local/lib/python3.10/dist-packages (from zarr>=2.12.0->napari[all]) (0.19)\n",
            "Requirement already satisfied: PyQt5!=5.15.0,>=5.12.3 in /usr/local/lib/python3.10/dist-packages (from napari[all]) (5.15.11)\n",
            "Requirement already satisfied: markdown-it-py>=2.2.0 in /usr/local/lib/python3.10/dist-packages (from rich->npe2>=0.7.6->napari[all]) (3.0.0)\n",
            "Requirement already satisfied: shellingham>=1.3.0 in /usr/local/lib/python3.10/dist-packages (from typer->npe2>=0.7.6->napari[all]) (1.5.4)\n",
            "Requirement already satisfied: parso<0.9.0,>=0.8.3 in /usr/local/lib/python3.10/dist-packages (from jedi>=0.16->IPython>=7.7.0->napari-console>=0.0.9->napari[all]) (0.8.4)\n",
            "Requirement already satisfied: MarkupSafe>=2.0 in /usr/local/lib/python3.10/dist-packages (from Jinja2>=3.1->sphinx>=6->numpydoc>=0.9.2->napari[all]) (2.1.5)\n",
            "Requirement already satisfied: mdurl~=0.1 in /usr/local/lib/python3.10/dist-packages (from markdown-it-py>=2.2.0->rich->npe2>=0.7.6->napari[all]) (0.1.2)\n",
            "Requirement already satisfied: ptyprocess>=0.5 in /usr/local/lib/python3.10/dist-packages (from pexpect>4.3->IPython>=7.7.0->napari-console>=0.0.9->napari[all]) (0.7.0)\n",
            "Requirement already satisfied: wcwidth in /usr/local/lib/python3.10/dist-packages (from prompt-toolkit!=3.0.0,!=3.0.1,<3.1.0,>=2.0.0->IPython>=7.7.0->napari-console>=0.0.9->napari[all]) (0.2.13)\n",
            "Requirement already satisfied: PyQt5-sip<13,>=12.15 in /usr/local/lib/python3.10/dist-packages (from PyQt5!=5.15.0,>=5.12.3->napari[all]) (12.15.0)\n",
            "Requirement already satisfied: PyQt5-Qt5<5.16.0,>=5.15.2 in /usr/local/lib/python3.10/dist-packages (from PyQt5!=5.15.0,>=5.12.3->napari[all]) (5.15.14)\n",
            "Requirement already satisfied: charset-normalizer<4,>=2 in /usr/local/lib/python3.10/dist-packages (from requests>=2.19.0->pooch>=1.6.0->scikit-image[data]>=0.19.1->napari[all]) (3.3.2)\n",
            "Requirement already satisfied: idna<4,>=2.5 in /usr/local/lib/python3.10/dist-packages (from requests>=2.19.0->pooch>=1.6.0->scikit-image[data]>=0.19.1->napari[all]) (3.7)\n",
            "Requirement already satisfied: urllib3<3,>=1.21.1 in /usr/local/lib/python3.10/dist-packages (from requests>=2.19.0->pooch>=1.6.0->scikit-image[data]>=0.19.1->napari[all]) (2.0.7)\n"
          ]
        }
      ]
    },
    {
      "cell_type": "code",
      "source": [
        "!git pull"
      ],
      "metadata": {
        "id": "hvdTE35o2_Cs",
        "colab": {
          "base_uri": "https://localhost:8080/"
        },
        "outputId": "726a6592-1cc5-4c93-b4f1-a366e36452e0"
      },
      "execution_count": null,
      "outputs": [
        {
          "output_type": "stream",
          "name": "stdout",
          "text": [
            "Already up to date.\n"
          ]
        }
      ]
    },
    {
      "cell_type": "code",
      "execution_count": null,
      "metadata": {
        "id": "hwA_5SkMmI3q"
      },
      "outputs": [],
      "source": [
        "# imports\n",
        "import ast\n",
        "import os\n",
        "import pathlib\n",
        "\n",
        "import neptune\n",
        "import numpy as np\n",
        "import torch\n",
        "from torch.utils.data import DataLoader\n",
        "from torchvision.models.detection.transform import GeneralizedRCNNTransform\n",
        "\n",
        "#new change   08/06/2024      attempt to fix error\n",
        "#from pydantic_settings import BaseSettings  # Import from pydantic_settings\n",
        "\n",
        "from pytorch_faster_rcnn_tutorial.backbone_resnet import ResNetBackbones\n",
        "from pytorch_faster_rcnn_tutorial.datasets import (\n",
        "    ObjectDetectionDataSet,\n",
        "    ObjectDetectionDatasetSingle,\n",
        ")\n",
        "from pytorch_faster_rcnn_tutorial.faster_RCNN import get_faster_rcnn_resnet\n",
        "from pytorch_faster_rcnn_tutorial.transformations import (\n",
        "    ComposeDouble,\n",
        "    ComposeSingle,\n",
        "    FunctionWrapperDouble,\n",
        "    FunctionWrapperSingle,\n",
        "    apply_nms,\n",
        "    apply_score_threshold,\n",
        "    normalize_01,\n",
        ")\n",
        "from pytorch_faster_rcnn_tutorial.utils import (\n",
        "    collate_single,\n",
        "    get_filenames_of_path,\n",
        "    save_json,\n",
        ")\n",
        "# from pytorch_faster_rcnn_tutorial.viewers.object_detection_viewer import (\n",
        "#     ObjectDetectionViewer,\n",
        "#     ObjectDetectionViewerSingle,\n",
        "# )\n",
        "# from training_script import NeptuneSettings    #new change   08/06/2024\n",
        "\n",
        "# excluding training_script bc yung neptune settings is being called sa code block here"
      ]
    },
    {
      "cell_type": "code",
      "source": [
        "# variables updated\n",
        "\n",
        "params = {\n",
        "    \"EXPERIMENT\": \"GMT3-488\",  # experiment name, e.g. Head-42\n",
        "    \"OWNER\": \"mikmikthemimic\",  # e.g. johndoe55\n",
        "    \"INPUT_DIR\": \"pytorch_faster_rcnn_tutorial/data/heads/test\",  # files to predict\n",
        "    \"PREDICTIONS_PATH\": \"predictions\",  # where to save the predictions\n",
        "    \"MODEL_DIR\": \"/content/PyTorch-Object-Detection-Faster-RCNN-Tutorial/pytorch_faster_rcnn_tutorial/model/kfolds/fold_4.ckpt\",  # load model from checkpoint\n",
        "    \"DOWNLOAD\": False,  # whether to download from neptune\n",
        "    \"DOWNLOAD_PATH\": \"pytorch_faster_rcnn_tutorial/model/kfolds\",  # where to save the model if DOWNLOAD is True\n",
        "    \"PROJECT\": \"GM-Thesis3\",  # Project name\n",
        "\n",
        "    \"ENSEMBLE\": False,  # nilagay ko lang to for the ensemble model\n",
        "}"
      ],
      "metadata": {
        "id": "rBD_owGRmOke"
      },
      "execution_count": null,
      "outputs": []
    },
    {
      "cell_type": "code",
      "source": [
        "# input files\n",
        "inputs = get_filenames_of_path(pathlib.Path(params[\"INPUT_DIR\"]))\n",
        "inputs.sort()\n",
        "print(f\"Found {len(inputs)} files in {params['INPUT_DIR']}\")"
      ],
      "metadata": {
        "id": "MC04-GqYmnIS",
        "colab": {
          "base_uri": "https://localhost:8080/"
        },
        "outputId": "1115f937-6955-47ae-df25-ee8ed4d30a1d"
      },
      "execution_count": null,
      "outputs": [
        {
          "output_type": "stream",
          "name": "stdout",
          "text": [
            "Found 640 files in pytorch_faster_rcnn_tutorial/data/heads/test\n"
          ]
        }
      ]
    },
    {
      "cell_type": "code",
      "source": [
        "# transformations\n",
        "transforms = ComposeSingle(\n",
        "    [\n",
        "        FunctionWrapperSingle(np.moveaxis, source=-1, destination=0),\n",
        "        FunctionWrapperSingle(normalize_01),\n",
        "    ]\n",
        ")"
      ],
      "metadata": {
        "id": "LGm6nHvcmpH0"
      },
      "execution_count": null,
      "outputs": []
    },
    {
      "cell_type": "code",
      "source": [
        "# create dataset\n",
        "dataset = ObjectDetectionDatasetSingle(\n",
        "    inputs=inputs,\n",
        "    transform=transforms,\n",
        "    use_cache=False,\n",
        ")\n"
      ],
      "metadata": {
        "id": "OwcTBDoSmqaV"
      },
      "execution_count": null,
      "outputs": []
    },
    {
      "cell_type": "code",
      "source": [
        "# create dataloader\n",
        "dataloader_prediction = DataLoader(\n",
        "    dataset=dataset,\n",
        "    batch_size=1,\n",
        "    shuffle=False,\n",
        "    num_workers=0,\n",
        "    collate_fn=collate_single,\n",
        ")\n"
      ],
      "metadata": {
        "id": "SIDWHz46mr1-"
      },
      "execution_count": null,
      "outputs": []
    },
    {
      "cell_type": "code",
      "source": [
        "# import experiment from neptune\n",
        "project_name = f'{params[\"OWNER\"]}/{params[\"PROJECT\"]}'\n",
        "print(f\"Project: {project_name}\")\n",
        "project = neptune.init_run(\n",
        "    project=project_name,\n",
        "    api_token=\"eyJhcGlfYWRkcmVzcyI6Imh0dHBzOi8vYXBwLm5lcHR1bmUuYWkiLCJhcGlfdXJsIjoiaHR0cHM6Ly9hcHAubmVwdHVuZS5haSIsImFwaV9rZXkiOiIzNmE3MzZjYS01MDUxLTQ2YjYtOGU3ZC04YzQwNjg4NmJiZDcifQ==\",\n",
        "    with_id=params[\"EXPERIMENT\"],\n",
        "    mode=\"read-only\",\n",
        ")  # get project\n",
        "experiment_id = params[\"EXPERIMENT\"]  # experiment id\n",
        "parameters = project['training/hyperparams'].fetch()\n"
      ],
      "metadata": {
        "id": "LR60QPnWmuj-",
        "colab": {
          "base_uri": "https://localhost:8080/"
        },
        "outputId": "41dcdfa2-7631-4be8-cb02-a741276fe22b"
      },
      "execution_count": null,
      "outputs": [
        {
          "output_type": "stream",
          "name": "stdout",
          "text": [
            "Project: mikmikthemimic/GM-Thesis3\n",
            "[neptune] [info   ] Neptune initialized. Open in the app: https://app.neptune.ai/mikmikthemimic/GM-Thesis3/e/GMT3-488\n"
          ]
        }
      ]
    },
    {
      "cell_type": "code",
      "source": [
        "print(project['training/hyperparams'].fetch())"
      ],
      "metadata": {
        "id": "_2Ifu09Ymw5c",
        "colab": {
          "base_uri": "https://localhost:8080/"
        },
        "outputId": "993a804d-8910-4364-e942-ad45034fe614"
      },
      "execution_count": null,
      "outputs": [
        {
          "output_type": "stream",
          "name": "stdout",
          "text": [
            "{'ACCELERATOR': 'cuda', 'ANCHOR_SIZE': '((32,), (64,), (128,), (256,))', 'ASPECT_RATIOS': '((0.5, 1.0, 2.0),)', 'BACKBONE': 'ResNetBackbones.RESNET34', 'BATCH_SIZE': 20, 'CACHE': False, 'CLASSES': 6, 'FAST_DEV_RUN': False, 'FOLDS': 5, 'FPN': True, 'IMG_MEAN': '[0.485, 0.456, 0.406]', 'IMG_STD': '[0.229, 0.224, 0.225]', 'IOU_THRESHOLD': 0.6, 'LOG_MODEL': True, 'LR': 0.0025, 'MAXEPOCHS': 12, 'MAX_SIZE': 1025, 'MIN_SIZE': 1024, 'PATIENCE': 50, 'PRECISION': 32, 'SAVE_DIR': '/content/PyTorch-Object-Detection-Faster-RCNN-Tutorial', 'SEED': 42, 'iou_threshold': 0.6, 'lr': 0.0025, 'model': 'None'}\n"
          ]
        }
      ]
    },
    {
      "cell_type": "code",
      "source": [
        "# rcnn transform\n",
        "transform = GeneralizedRCNNTransform(\n",
        "    min_size=int(parameters[\"MIN_SIZE\"]),\n",
        "    max_size=int(parameters[\"MAX_SIZE\"]),\n",
        "    image_mean=ast.literal_eval(parameters[\"IMG_MEAN\"]),\n",
        "    image_std=ast.literal_eval(parameters[\"IMG_STD\"]),\n",
        "    box_nms_thresh = 0.6\n",
        ")"
      ],
      "metadata": {
        "id": "-GoI18r0myI6"
      },
      "execution_count": null,
      "outputs": []
    },
    {
      "cell_type": "code",
      "source": [
        "# color mapping\n",
        "color_mapping = {\n",
        "    1: \"blue\",\n",
        "    2: \"green\",\n",
        "    3: \"white\",\n",
        "    4: \"yellow\",\n",
        "    5: \"red\"\n",
        "}"
      ],
      "metadata": {
        "id": "pSb_ecTmmzQn"
      },
      "execution_count": null,
      "outputs": []
    },
    {
      "cell_type": "code",
      "source": [
        "if not os.path.isdir('/content/PyTorch-Object-Detection-Faster-RCNN-Tutorial/pytorch_faster_rcnn_tutorial/model/kfolds'):\n",
        "  !mkdir -p '/content/PyTorch-Object-Detection-Faster-RCNN-Tutorial/pytorch_faster_rcnn_tutorial/model/kfolds'\n",
        "!cp '/content/drive/MyDrive/08-06-2024/fold_4.ckpt' '/content/PyTorch-Object-Detection-Faster-RCNN-Tutorial/pytorch_faster_rcnn_tutorial/model/kfolds'"
      ],
      "metadata": {
        "id": "01MOkMuc_7YJ"
      },
      "execution_count": null,
      "outputs": []
    },
    {
      "cell_type": "code",
      "source": [
        "# download model from neptune or load from checkpoint\n",
        "device = torch.device(\"cuda\" if torch.cuda.is_available() else \"cpu\")\n",
        "\n",
        "if params[\"DOWNLOAD\"]:\n",
        "    download_path = pathlib.Path(os.getcwd()) / params[\"DOWNLOAD_PATH\"]\n",
        "    download_path.mkdir(parents=True, exist_ok=True)\n",
        "    if params[\"ENSEMBLE\"]:\n",
        "        model_name = \"ensemble_model.pt\"  # that's how I called the best model\n",
        "        # model_name = properties['checkpoint_name']  # logged when called log_model_neptune()\n",
        "        if not (download_path / model_name).is_file():\n",
        "            project['artifacts/ensemble_model'].download(\n",
        "                destination=download_path.as_posix()\n",
        "            )  # download model\n",
        "\n",
        "        model_state_dict = torch.load(\n",
        "            download_path / model_name, map_location=device\n",
        "        )\n",
        "    else:\n",
        "        #new change   08/06/2024      updated to load checkpoint\n",
        "        model_name = \"fold_4.ckpt\"  # that's how I called the best model                      best-model.pt\n",
        "        # model_name = properties['checkpoint_name']  # logged when called log_model_neptune()\n",
        "        if not (download_path / model_name).is_file():\n",
        "            project['artifacts/fold_4.ckpt'].download(\n",
        "                destination=download_path.as_posix()\n",
        "            )  # download model\n",
        "\n",
        "        model_state_dict = torch.load(\n",
        "            download_path / model_name, map_location=device\n",
        "        )\n",
        "else:\n",
        "    checkpoint = torch.load(params[\"MODEL_DIR\"], map_location=device)\n",
        "    print(checkpoint.keys())"
      ],
      "metadata": {
        "id": "R9cOhiNfm058",
        "colab": {
          "base_uri": "https://localhost:8080/"
        },
        "outputId": "e2e2fc8b-f907-442a-998b-1e2be02e98a6"
      },
      "execution_count": null,
      "outputs": [
        {
          "output_type": "stream",
          "name": "stdout",
          "text": [
            "dict_keys(['epoch', 'global_step', 'pytorch-lightning_version', 'state_dict', 'loops', 'callbacks', 'optimizer_states', 'lr_schedulers', 'hparams_name', 'hyper_parameters'])\n"
          ]
        }
      ]
    },
    {
      "cell_type": "code",
      "source": [
        "model = get_faster_rcnn_resnet(\n",
        "    num_classes=int(parameters[\"CLASSES\"]),\n",
        "    backbone_name=ResNetBackbones(parameters[\"BACKBONE\"].split(\".\")[1].lower()),  # reverse look-up enum\n",
        "    anchor_size=ast.literal_eval(parameters[\"ANCHOR_SIZE\"]),\n",
        "    aspect_ratios=ast.literal_eval(parameters[\"ASPECT_RATIOS\"]),\n",
        "    fpn=ast.literal_eval(str(parameters['FPN'])),\n",
        "    min_size=int(parameters[\"MIN_SIZE\"]),\n",
        "    max_size=int(parameters[\"MAX_SIZE\"]),\n",
        ")"
      ],
      "metadata": {
        "id": "A1qJbeXVm2S3",
        "colab": {
          "base_uri": "https://localhost:8080/"
        },
        "outputId": "4c075063-a6ff-41ea-9665-1ae2f8728cd5"
      },
      "execution_count": null,
      "outputs": [
        {
          "output_type": "stream",
          "name": "stderr",
          "text": [
            "/usr/local/lib/python3.10/dist-packages/torchvision/models/_utils.py:208: UserWarning: The parameter 'pretrained' is deprecated since 0.13 and may be removed in the future, please use 'weights' instead.\n",
            "  warnings.warn(\n",
            "/usr/local/lib/python3.10/dist-packages/torchvision/models/_utils.py:223: UserWarning: Arguments other than a weight enum or `None` for 'weights' are deprecated since 0.13 and may be removed in the future. The current behavior is equivalent to passing `weights=ResNet34_Weights.IMAGENET1K_V1`. You can also use `weights=ResNet34_Weights.DEFAULT` to get the most up-to-date weights.\n",
            "  warnings.warn(msg)\n"
          ]
        }
      ]
    },
    {
      "cell_type": "code",
      "source": [
        "if 'state_dict' in checkpoint.keys():\n",
        "  checkpoint = checkpoint['state_dict']"
      ],
      "metadata": {
        "id": "yWWkHxn-A5AQ"
      },
      "execution_count": null,
      "outputs": []
    },
    {
      "cell_type": "code",
      "source": [
        "# Check if keys start with model. and remove it\n",
        "model_state_dict = {k.replace(\"model.\", \"\"): v for k, v in checkpoint.items() if k.startswith(\"model.\")}\n",
        "print(model_state_dict.keys())"
      ],
      "metadata": {
        "id": "xY_TAaQmm5-x",
        "colab": {
          "base_uri": "https://localhost:8080/"
        },
        "outputId": "854652ff-aab2-4cc2-9831-ebc1002c84f4"
      },
      "execution_count": null,
      "outputs": [
        {
          "output_type": "stream",
          "name": "stdout",
          "text": [
            "dict_keys(['backbone.body.conv1.weight', 'backbone.body.bn1.weight', 'backbone.body.bn1.bias', 'backbone.body.bn1.running_mean', 'backbone.body.bn1.running_var', 'backbone.body.layer1.0.conv1.weight', 'backbone.body.layer1.0.bn1.weight', 'backbone.body.layer1.0.bn1.bias', 'backbone.body.layer1.0.bn1.running_mean', 'backbone.body.layer1.0.bn1.running_var', 'backbone.body.layer1.0.conv2.weight', 'backbone.body.layer1.0.bn2.weight', 'backbone.body.layer1.0.bn2.bias', 'backbone.body.layer1.0.bn2.running_mean', 'backbone.body.layer1.0.bn2.running_var', 'backbone.body.layer1.1.conv1.weight', 'backbone.body.layer1.1.bn1.weight', 'backbone.body.layer1.1.bn1.bias', 'backbone.body.layer1.1.bn1.running_mean', 'backbone.body.layer1.1.bn1.running_var', 'backbone.body.layer1.1.conv2.weight', 'backbone.body.layer1.1.bn2.weight', 'backbone.body.layer1.1.bn2.bias', 'backbone.body.layer1.1.bn2.running_mean', 'backbone.body.layer1.1.bn2.running_var', 'backbone.body.layer1.2.conv1.weight', 'backbone.body.layer1.2.bn1.weight', 'backbone.body.layer1.2.bn1.bias', 'backbone.body.layer1.2.bn1.running_mean', 'backbone.body.layer1.2.bn1.running_var', 'backbone.body.layer1.2.conv2.weight', 'backbone.body.layer1.2.bn2.weight', 'backbone.body.layer1.2.bn2.bias', 'backbone.body.layer1.2.bn2.running_mean', 'backbone.body.layer1.2.bn2.running_var', 'backbone.body.layer2.0.conv1.weight', 'backbone.body.layer2.0.bn1.weight', 'backbone.body.layer2.0.bn1.bias', 'backbone.body.layer2.0.bn1.running_mean', 'backbone.body.layer2.0.bn1.running_var', 'backbone.body.layer2.0.conv2.weight', 'backbone.body.layer2.0.bn2.weight', 'backbone.body.layer2.0.bn2.bias', 'backbone.body.layer2.0.bn2.running_mean', 'backbone.body.layer2.0.bn2.running_var', 'backbone.body.layer2.0.downsample.0.weight', 'backbone.body.layer2.0.downsample.1.weight', 'backbone.body.layer2.0.downsample.1.bias', 'backbone.body.layer2.0.downsample.1.running_mean', 'backbone.body.layer2.0.downsample.1.running_var', 'backbone.body.layer2.1.conv1.weight', 'backbone.body.layer2.1.bn1.weight', 'backbone.body.layer2.1.bn1.bias', 'backbone.body.layer2.1.bn1.running_mean', 'backbone.body.layer2.1.bn1.running_var', 'backbone.body.layer2.1.conv2.weight', 'backbone.body.layer2.1.bn2.weight', 'backbone.body.layer2.1.bn2.bias', 'backbone.body.layer2.1.bn2.running_mean', 'backbone.body.layer2.1.bn2.running_var', 'backbone.body.layer2.2.conv1.weight', 'backbone.body.layer2.2.bn1.weight', 'backbone.body.layer2.2.bn1.bias', 'backbone.body.layer2.2.bn1.running_mean', 'backbone.body.layer2.2.bn1.running_var', 'backbone.body.layer2.2.conv2.weight', 'backbone.body.layer2.2.bn2.weight', 'backbone.body.layer2.2.bn2.bias', 'backbone.body.layer2.2.bn2.running_mean', 'backbone.body.layer2.2.bn2.running_var', 'backbone.body.layer2.3.conv1.weight', 'backbone.body.layer2.3.bn1.weight', 'backbone.body.layer2.3.bn1.bias', 'backbone.body.layer2.3.bn1.running_mean', 'backbone.body.layer2.3.bn1.running_var', 'backbone.body.layer2.3.conv2.weight', 'backbone.body.layer2.3.bn2.weight', 'backbone.body.layer2.3.bn2.bias', 'backbone.body.layer2.3.bn2.running_mean', 'backbone.body.layer2.3.bn2.running_var', 'backbone.body.layer3.0.conv1.weight', 'backbone.body.layer3.0.bn1.weight', 'backbone.body.layer3.0.bn1.bias', 'backbone.body.layer3.0.bn1.running_mean', 'backbone.body.layer3.0.bn1.running_var', 'backbone.body.layer3.0.conv2.weight', 'backbone.body.layer3.0.bn2.weight', 'backbone.body.layer3.0.bn2.bias', 'backbone.body.layer3.0.bn2.running_mean', 'backbone.body.layer3.0.bn2.running_var', 'backbone.body.layer3.0.downsample.0.weight', 'backbone.body.layer3.0.downsample.1.weight', 'backbone.body.layer3.0.downsample.1.bias', 'backbone.body.layer3.0.downsample.1.running_mean', 'backbone.body.layer3.0.downsample.1.running_var', 'backbone.body.layer3.1.conv1.weight', 'backbone.body.layer3.1.bn1.weight', 'backbone.body.layer3.1.bn1.bias', 'backbone.body.layer3.1.bn1.running_mean', 'backbone.body.layer3.1.bn1.running_var', 'backbone.body.layer3.1.conv2.weight', 'backbone.body.layer3.1.bn2.weight', 'backbone.body.layer3.1.bn2.bias', 'backbone.body.layer3.1.bn2.running_mean', 'backbone.body.layer3.1.bn2.running_var', 'backbone.body.layer3.2.conv1.weight', 'backbone.body.layer3.2.bn1.weight', 'backbone.body.layer3.2.bn1.bias', 'backbone.body.layer3.2.bn1.running_mean', 'backbone.body.layer3.2.bn1.running_var', 'backbone.body.layer3.2.conv2.weight', 'backbone.body.layer3.2.bn2.weight', 'backbone.body.layer3.2.bn2.bias', 'backbone.body.layer3.2.bn2.running_mean', 'backbone.body.layer3.2.bn2.running_var', 'backbone.body.layer3.3.conv1.weight', 'backbone.body.layer3.3.bn1.weight', 'backbone.body.layer3.3.bn1.bias', 'backbone.body.layer3.3.bn1.running_mean', 'backbone.body.layer3.3.bn1.running_var', 'backbone.body.layer3.3.conv2.weight', 'backbone.body.layer3.3.bn2.weight', 'backbone.body.layer3.3.bn2.bias', 'backbone.body.layer3.3.bn2.running_mean', 'backbone.body.layer3.3.bn2.running_var', 'backbone.body.layer3.4.conv1.weight', 'backbone.body.layer3.4.bn1.weight', 'backbone.body.layer3.4.bn1.bias', 'backbone.body.layer3.4.bn1.running_mean', 'backbone.body.layer3.4.bn1.running_var', 'backbone.body.layer3.4.conv2.weight', 'backbone.body.layer3.4.bn2.weight', 'backbone.body.layer3.4.bn2.bias', 'backbone.body.layer3.4.bn2.running_mean', 'backbone.body.layer3.4.bn2.running_var', 'backbone.body.layer3.5.conv1.weight', 'backbone.body.layer3.5.bn1.weight', 'backbone.body.layer3.5.bn1.bias', 'backbone.body.layer3.5.bn1.running_mean', 'backbone.body.layer3.5.bn1.running_var', 'backbone.body.layer3.5.conv2.weight', 'backbone.body.layer3.5.bn2.weight', 'backbone.body.layer3.5.bn2.bias', 'backbone.body.layer3.5.bn2.running_mean', 'backbone.body.layer3.5.bn2.running_var', 'backbone.body.layer4.0.conv1.weight', 'backbone.body.layer4.0.bn1.weight', 'backbone.body.layer4.0.bn1.bias', 'backbone.body.layer4.0.bn1.running_mean', 'backbone.body.layer4.0.bn1.running_var', 'backbone.body.layer4.0.conv2.weight', 'backbone.body.layer4.0.bn2.weight', 'backbone.body.layer4.0.bn2.bias', 'backbone.body.layer4.0.bn2.running_mean', 'backbone.body.layer4.0.bn2.running_var', 'backbone.body.layer4.0.downsample.0.weight', 'backbone.body.layer4.0.downsample.1.weight', 'backbone.body.layer4.0.downsample.1.bias', 'backbone.body.layer4.0.downsample.1.running_mean', 'backbone.body.layer4.0.downsample.1.running_var', 'backbone.body.layer4.1.conv1.weight', 'backbone.body.layer4.1.bn1.weight', 'backbone.body.layer4.1.bn1.bias', 'backbone.body.layer4.1.bn1.running_mean', 'backbone.body.layer4.1.bn1.running_var', 'backbone.body.layer4.1.conv2.weight', 'backbone.body.layer4.1.bn2.weight', 'backbone.body.layer4.1.bn2.bias', 'backbone.body.layer4.1.bn2.running_mean', 'backbone.body.layer4.1.bn2.running_var', 'backbone.body.layer4.2.conv1.weight', 'backbone.body.layer4.2.bn1.weight', 'backbone.body.layer4.2.bn1.bias', 'backbone.body.layer4.2.bn1.running_mean', 'backbone.body.layer4.2.bn1.running_var', 'backbone.body.layer4.2.conv2.weight', 'backbone.body.layer4.2.bn2.weight', 'backbone.body.layer4.2.bn2.bias', 'backbone.body.layer4.2.bn2.running_mean', 'backbone.body.layer4.2.bn2.running_var', 'backbone.fpn.inner_blocks.0.0.weight', 'backbone.fpn.inner_blocks.0.0.bias', 'backbone.fpn.inner_blocks.1.0.weight', 'backbone.fpn.inner_blocks.1.0.bias', 'backbone.fpn.inner_blocks.2.0.weight', 'backbone.fpn.inner_blocks.2.0.bias', 'backbone.fpn.inner_blocks.3.0.weight', 'backbone.fpn.inner_blocks.3.0.bias', 'backbone.fpn.layer_blocks.0.0.weight', 'backbone.fpn.layer_blocks.0.0.bias', 'backbone.fpn.layer_blocks.1.0.weight', 'backbone.fpn.layer_blocks.1.0.bias', 'backbone.fpn.layer_blocks.2.0.weight', 'backbone.fpn.layer_blocks.2.0.bias', 'backbone.fpn.layer_blocks.3.0.weight', 'backbone.fpn.layer_blocks.3.0.bias', 'rpn.head.conv.0.0.weight', 'rpn.head.conv.0.0.bias', 'rpn.head.cls_logits.weight', 'rpn.head.cls_logits.bias', 'rpn.head.bbox_pred.weight', 'rpn.head.bbox_pred.bias', 'roi_heads.box_head.fc6.weight', 'roi_heads.box_head.fc6.bias', 'roi_heads.box_head.fc7.weight', 'roi_heads.box_head.fc7.bias', 'roi_heads.box_predictor.cls_score.weight', 'roi_heads.box_predictor.cls_score.bias', 'roi_heads.box_predictor.bbox_pred.weight', 'roi_heads.box_predictor.bbox_pred.bias'])\n"
          ]
        }
      ]
    },
    {
      "cell_type": "code",
      "source": [
        "# load weights\n",
        "print(\"Printing Model State Dict Keys:\")\n",
        "for key in model_state_dict.keys():\n",
        "    print(key)\n",
        "\n",
        "model.load_state_dict(model_state_dict)"
      ],
      "metadata": {
        "id": "VhbgLVwFm7i7",
        "colab": {
          "base_uri": "https://localhost:8080/"
        },
        "outputId": "0c4efb24-f4eb-4fb8-e699-966e391201a3"
      },
      "execution_count": null,
      "outputs": [
        {
          "output_type": "stream",
          "name": "stdout",
          "text": [
            "Printing Model State Dict Keys:\n",
            "backbone.body.conv1.weight\n",
            "backbone.body.bn1.weight\n",
            "backbone.body.bn1.bias\n",
            "backbone.body.bn1.running_mean\n",
            "backbone.body.bn1.running_var\n",
            "backbone.body.layer1.0.conv1.weight\n",
            "backbone.body.layer1.0.bn1.weight\n",
            "backbone.body.layer1.0.bn1.bias\n",
            "backbone.body.layer1.0.bn1.running_mean\n",
            "backbone.body.layer1.0.bn1.running_var\n",
            "backbone.body.layer1.0.conv2.weight\n",
            "backbone.body.layer1.0.bn2.weight\n",
            "backbone.body.layer1.0.bn2.bias\n",
            "backbone.body.layer1.0.bn2.running_mean\n",
            "backbone.body.layer1.0.bn2.running_var\n",
            "backbone.body.layer1.1.conv1.weight\n",
            "backbone.body.layer1.1.bn1.weight\n",
            "backbone.body.layer1.1.bn1.bias\n",
            "backbone.body.layer1.1.bn1.running_mean\n",
            "backbone.body.layer1.1.bn1.running_var\n",
            "backbone.body.layer1.1.conv2.weight\n",
            "backbone.body.layer1.1.bn2.weight\n",
            "backbone.body.layer1.1.bn2.bias\n",
            "backbone.body.layer1.1.bn2.running_mean\n",
            "backbone.body.layer1.1.bn2.running_var\n",
            "backbone.body.layer1.2.conv1.weight\n",
            "backbone.body.layer1.2.bn1.weight\n",
            "backbone.body.layer1.2.bn1.bias\n",
            "backbone.body.layer1.2.bn1.running_mean\n",
            "backbone.body.layer1.2.bn1.running_var\n",
            "backbone.body.layer1.2.conv2.weight\n",
            "backbone.body.layer1.2.bn2.weight\n",
            "backbone.body.layer1.2.bn2.bias\n",
            "backbone.body.layer1.2.bn2.running_mean\n",
            "backbone.body.layer1.2.bn2.running_var\n",
            "backbone.body.layer2.0.conv1.weight\n",
            "backbone.body.layer2.0.bn1.weight\n",
            "backbone.body.layer2.0.bn1.bias\n",
            "backbone.body.layer2.0.bn1.running_mean\n",
            "backbone.body.layer2.0.bn1.running_var\n",
            "backbone.body.layer2.0.conv2.weight\n",
            "backbone.body.layer2.0.bn2.weight\n",
            "backbone.body.layer2.0.bn2.bias\n",
            "backbone.body.layer2.0.bn2.running_mean\n",
            "backbone.body.layer2.0.bn2.running_var\n",
            "backbone.body.layer2.0.downsample.0.weight\n",
            "backbone.body.layer2.0.downsample.1.weight\n",
            "backbone.body.layer2.0.downsample.1.bias\n",
            "backbone.body.layer2.0.downsample.1.running_mean\n",
            "backbone.body.layer2.0.downsample.1.running_var\n",
            "backbone.body.layer2.1.conv1.weight\n",
            "backbone.body.layer2.1.bn1.weight\n",
            "backbone.body.layer2.1.bn1.bias\n",
            "backbone.body.layer2.1.bn1.running_mean\n",
            "backbone.body.layer2.1.bn1.running_var\n",
            "backbone.body.layer2.1.conv2.weight\n",
            "backbone.body.layer2.1.bn2.weight\n",
            "backbone.body.layer2.1.bn2.bias\n",
            "backbone.body.layer2.1.bn2.running_mean\n",
            "backbone.body.layer2.1.bn2.running_var\n",
            "backbone.body.layer2.2.conv1.weight\n",
            "backbone.body.layer2.2.bn1.weight\n",
            "backbone.body.layer2.2.bn1.bias\n",
            "backbone.body.layer2.2.bn1.running_mean\n",
            "backbone.body.layer2.2.bn1.running_var\n",
            "backbone.body.layer2.2.conv2.weight\n",
            "backbone.body.layer2.2.bn2.weight\n",
            "backbone.body.layer2.2.bn2.bias\n",
            "backbone.body.layer2.2.bn2.running_mean\n",
            "backbone.body.layer2.2.bn2.running_var\n",
            "backbone.body.layer2.3.conv1.weight\n",
            "backbone.body.layer2.3.bn1.weight\n",
            "backbone.body.layer2.3.bn1.bias\n",
            "backbone.body.layer2.3.bn1.running_mean\n",
            "backbone.body.layer2.3.bn1.running_var\n",
            "backbone.body.layer2.3.conv2.weight\n",
            "backbone.body.layer2.3.bn2.weight\n",
            "backbone.body.layer2.3.bn2.bias\n",
            "backbone.body.layer2.3.bn2.running_mean\n",
            "backbone.body.layer2.3.bn2.running_var\n",
            "backbone.body.layer3.0.conv1.weight\n",
            "backbone.body.layer3.0.bn1.weight\n",
            "backbone.body.layer3.0.bn1.bias\n",
            "backbone.body.layer3.0.bn1.running_mean\n",
            "backbone.body.layer3.0.bn1.running_var\n",
            "backbone.body.layer3.0.conv2.weight\n",
            "backbone.body.layer3.0.bn2.weight\n",
            "backbone.body.layer3.0.bn2.bias\n",
            "backbone.body.layer3.0.bn2.running_mean\n",
            "backbone.body.layer3.0.bn2.running_var\n",
            "backbone.body.layer3.0.downsample.0.weight\n",
            "backbone.body.layer3.0.downsample.1.weight\n",
            "backbone.body.layer3.0.downsample.1.bias\n",
            "backbone.body.layer3.0.downsample.1.running_mean\n",
            "backbone.body.layer3.0.downsample.1.running_var\n",
            "backbone.body.layer3.1.conv1.weight\n",
            "backbone.body.layer3.1.bn1.weight\n",
            "backbone.body.layer3.1.bn1.bias\n",
            "backbone.body.layer3.1.bn1.running_mean\n",
            "backbone.body.layer3.1.bn1.running_var\n",
            "backbone.body.layer3.1.conv2.weight\n",
            "backbone.body.layer3.1.bn2.weight\n",
            "backbone.body.layer3.1.bn2.bias\n",
            "backbone.body.layer3.1.bn2.running_mean\n",
            "backbone.body.layer3.1.bn2.running_var\n",
            "backbone.body.layer3.2.conv1.weight\n",
            "backbone.body.layer3.2.bn1.weight\n",
            "backbone.body.layer3.2.bn1.bias\n",
            "backbone.body.layer3.2.bn1.running_mean\n",
            "backbone.body.layer3.2.bn1.running_var\n",
            "backbone.body.layer3.2.conv2.weight\n",
            "backbone.body.layer3.2.bn2.weight\n",
            "backbone.body.layer3.2.bn2.bias\n",
            "backbone.body.layer3.2.bn2.running_mean\n",
            "backbone.body.layer3.2.bn2.running_var\n",
            "backbone.body.layer3.3.conv1.weight\n",
            "backbone.body.layer3.3.bn1.weight\n",
            "backbone.body.layer3.3.bn1.bias\n",
            "backbone.body.layer3.3.bn1.running_mean\n",
            "backbone.body.layer3.3.bn1.running_var\n",
            "backbone.body.layer3.3.conv2.weight\n",
            "backbone.body.layer3.3.bn2.weight\n",
            "backbone.body.layer3.3.bn2.bias\n",
            "backbone.body.layer3.3.bn2.running_mean\n",
            "backbone.body.layer3.3.bn2.running_var\n",
            "backbone.body.layer3.4.conv1.weight\n",
            "backbone.body.layer3.4.bn1.weight\n",
            "backbone.body.layer3.4.bn1.bias\n",
            "backbone.body.layer3.4.bn1.running_mean\n",
            "backbone.body.layer3.4.bn1.running_var\n",
            "backbone.body.layer3.4.conv2.weight\n",
            "backbone.body.layer3.4.bn2.weight\n",
            "backbone.body.layer3.4.bn2.bias\n",
            "backbone.body.layer3.4.bn2.running_mean\n",
            "backbone.body.layer3.4.bn2.running_var\n",
            "backbone.body.layer3.5.conv1.weight\n",
            "backbone.body.layer3.5.bn1.weight\n",
            "backbone.body.layer3.5.bn1.bias\n",
            "backbone.body.layer3.5.bn1.running_mean\n",
            "backbone.body.layer3.5.bn1.running_var\n",
            "backbone.body.layer3.5.conv2.weight\n",
            "backbone.body.layer3.5.bn2.weight\n",
            "backbone.body.layer3.5.bn2.bias\n",
            "backbone.body.layer3.5.bn2.running_mean\n",
            "backbone.body.layer3.5.bn2.running_var\n",
            "backbone.body.layer4.0.conv1.weight\n",
            "backbone.body.layer4.0.bn1.weight\n",
            "backbone.body.layer4.0.bn1.bias\n",
            "backbone.body.layer4.0.bn1.running_mean\n",
            "backbone.body.layer4.0.bn1.running_var\n",
            "backbone.body.layer4.0.conv2.weight\n",
            "backbone.body.layer4.0.bn2.weight\n",
            "backbone.body.layer4.0.bn2.bias\n",
            "backbone.body.layer4.0.bn2.running_mean\n",
            "backbone.body.layer4.0.bn2.running_var\n",
            "backbone.body.layer4.0.downsample.0.weight\n",
            "backbone.body.layer4.0.downsample.1.weight\n",
            "backbone.body.layer4.0.downsample.1.bias\n",
            "backbone.body.layer4.0.downsample.1.running_mean\n",
            "backbone.body.layer4.0.downsample.1.running_var\n",
            "backbone.body.layer4.1.conv1.weight\n",
            "backbone.body.layer4.1.bn1.weight\n",
            "backbone.body.layer4.1.bn1.bias\n",
            "backbone.body.layer4.1.bn1.running_mean\n",
            "backbone.body.layer4.1.bn1.running_var\n",
            "backbone.body.layer4.1.conv2.weight\n",
            "backbone.body.layer4.1.bn2.weight\n",
            "backbone.body.layer4.1.bn2.bias\n",
            "backbone.body.layer4.1.bn2.running_mean\n",
            "backbone.body.layer4.1.bn2.running_var\n",
            "backbone.body.layer4.2.conv1.weight\n",
            "backbone.body.layer4.2.bn1.weight\n",
            "backbone.body.layer4.2.bn1.bias\n",
            "backbone.body.layer4.2.bn1.running_mean\n",
            "backbone.body.layer4.2.bn1.running_var\n",
            "backbone.body.layer4.2.conv2.weight\n",
            "backbone.body.layer4.2.bn2.weight\n",
            "backbone.body.layer4.2.bn2.bias\n",
            "backbone.body.layer4.2.bn2.running_mean\n",
            "backbone.body.layer4.2.bn2.running_var\n",
            "backbone.fpn.inner_blocks.0.0.weight\n",
            "backbone.fpn.inner_blocks.0.0.bias\n",
            "backbone.fpn.inner_blocks.1.0.weight\n",
            "backbone.fpn.inner_blocks.1.0.bias\n",
            "backbone.fpn.inner_blocks.2.0.weight\n",
            "backbone.fpn.inner_blocks.2.0.bias\n",
            "backbone.fpn.inner_blocks.3.0.weight\n",
            "backbone.fpn.inner_blocks.3.0.bias\n",
            "backbone.fpn.layer_blocks.0.0.weight\n",
            "backbone.fpn.layer_blocks.0.0.bias\n",
            "backbone.fpn.layer_blocks.1.0.weight\n",
            "backbone.fpn.layer_blocks.1.0.bias\n",
            "backbone.fpn.layer_blocks.2.0.weight\n",
            "backbone.fpn.layer_blocks.2.0.bias\n",
            "backbone.fpn.layer_blocks.3.0.weight\n",
            "backbone.fpn.layer_blocks.3.0.bias\n",
            "rpn.head.conv.0.0.weight\n",
            "rpn.head.conv.0.0.bias\n",
            "rpn.head.cls_logits.weight\n",
            "rpn.head.cls_logits.bias\n",
            "rpn.head.bbox_pred.weight\n",
            "rpn.head.bbox_pred.bias\n",
            "roi_heads.box_head.fc6.weight\n",
            "roi_heads.box_head.fc6.bias\n",
            "roi_heads.box_head.fc7.weight\n",
            "roi_heads.box_head.fc7.bias\n",
            "roi_heads.box_predictor.cls_score.weight\n",
            "roi_heads.box_predictor.cls_score.bias\n",
            "roi_heads.box_predictor.bbox_pred.weight\n",
            "roi_heads.box_predictor.bbox_pred.bias\n"
          ]
        },
        {
          "output_type": "execute_result",
          "data": {
            "text/plain": [
              "<All keys matched successfully>"
            ]
          },
          "metadata": {},
          "execution_count": 22
        }
      ]
    },
    {
      "cell_type": "code",
      "source": [
        "# inference (cpu)\n",
        "model.eval()\n",
        "model.to(device)\n",
        "for sample in dataloader_prediction:\n",
        "    x, x_name = sample\n",
        "    with torch.no_grad():\n",
        "        pred = model(x)\n",
        "        # Move tensors to CPU before converting to NumPy\n",
        "        pred = {key: value.cpu().numpy() for key, value in pred[0].items()}\n",
        "        name = pathlib.Path(x_name[0])\n",
        "        save_dir = pathlib.Path(os.getcwd()) / params[\"PREDICTIONS_PATH\"]\n",
        "        save_dir.mkdir(parents=True, exist_ok=True)\n",
        "        pred_list = {\n",
        "            key: value.tolist() for key, value in pred.items()\n",
        "        }  # numpy arrays are not serializable -> .tolist()\n",
        "        save_json(pred_list, path=save_dir / name.with_suffix(\".json\"))"
      ],
      "metadata": {
        "id": "NZHtUFcY4EGE"
      },
      "execution_count": null,
      "outputs": []
    },
    {
      "cell_type": "code",
      "source": [
        "from datetime import datetime\n",
        "\n",
        "# Set the filename as predictions_time\n",
        "filename = f'predictions_{params[\"EXPERIMENT\"]}_{datetime.today().strftime(\"%Y_%m_%d\")}.zip'\n",
        "\n",
        "!zip -r {filename} predictions\n",
        "!cp {filename} \"/content/drive/MyDrive\""
      ],
      "metadata": {
        "id": "t_kTM5zg4L25",
        "colab": {
          "base_uri": "https://localhost:8080/",
          "height": 231
        },
        "outputId": "2340a6b3-33c4-4467-d796-f2c7d61ba2b4"
      },
      "execution_count": null,
      "outputs": [
        {
          "output_type": "error",
          "ename": "NameError",
          "evalue": "name 'params' is not defined",
          "traceback": [
            "\u001b[0;31m---------------------------------------------------------------------------\u001b[0m",
            "\u001b[0;31mNameError\u001b[0m                                 Traceback (most recent call last)",
            "\u001b[0;32m<ipython-input-2-da51b67e9734>\u001b[0m in \u001b[0;36m<cell line: 4>\u001b[0;34m()\u001b[0m\n\u001b[1;32m      2\u001b[0m \u001b[0;34m\u001b[0m\u001b[0m\n\u001b[1;32m      3\u001b[0m \u001b[0;31m# Set the filename as predictions_time\u001b[0m\u001b[0;34m\u001b[0m\u001b[0;34m\u001b[0m\u001b[0m\n\u001b[0;32m----> 4\u001b[0;31m \u001b[0mfilename\u001b[0m \u001b[0;34m=\u001b[0m \u001b[0;34mf'predictions_{params[\"EXPERIMENT\"]}_{datetime.today().strftime(\"%Y_%m_%d\")}.zip'\u001b[0m\u001b[0;34m\u001b[0m\u001b[0;34m\u001b[0m\u001b[0m\n\u001b[0m\u001b[1;32m      5\u001b[0m \u001b[0;34m\u001b[0m\u001b[0m\n\u001b[1;32m      6\u001b[0m \u001b[0mget_ipython\u001b[0m\u001b[0;34m(\u001b[0m\u001b[0;34m)\u001b[0m\u001b[0;34m.\u001b[0m\u001b[0msystem\u001b[0m\u001b[0;34m(\u001b[0m\u001b[0;34m'zip -r {filename} predictions'\u001b[0m\u001b[0;34m)\u001b[0m\u001b[0;34m\u001b[0m\u001b[0;34m\u001b[0m\u001b[0m\n",
            "\u001b[0;31mNameError\u001b[0m: name 'params' is not defined"
          ]
        }
      ]
    },
    {
      "cell_type": "code",
      "source": [
        "from datetime import datetime\n",
        "filename = f'model_statedict_{params[\"EXPERIMENT\"]}_{datetime.today().strftime(\"%Y_%m_%d\")}.pt'\n",
        "\n",
        "torch.save(model.state_dict(), filename)\n",
        "\n",
        "!cp {filename} /content/drive/MyDrive/{filename}"
      ],
      "metadata": {
        "id": "j9_Q0azOORXt"
      },
      "execution_count": null,
      "outputs": []
    },
    {
      "cell_type": "code",
      "source": [],
      "metadata": {
        "id": "t7lMzD6cD2pj"
      },
      "execution_count": null,
      "outputs": []
    }
  ]
}