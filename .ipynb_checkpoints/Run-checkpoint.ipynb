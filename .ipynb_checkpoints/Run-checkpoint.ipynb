{
 "cells": [
  {
   "cell_type": "code",
   "execution_count": 1,
   "id": "e14ba09e",
   "metadata": {
    "scrolled": false
   },
   "outputs": [
    {
     "name": "stdout",
     "output_type": "stream",
     "text": [
      "C:\\Users\\abiga\\OneDrive\\Documents\\GitHub\\PyTorch-Object-Detection-Faster-RCNN-Tutorial\n",
      "C:\\Users\\abiga\\OneDrive\\Documents\\GitHub\\PyTorch-Object-Detection-Faster-RCNN-Tutorial\n"
     ]
    }
   ],
   "source": [
    "%cd C:\\Users\\abiga\\OneDrive\\Documents\\GitHub\\PyTorch-Object-Detection-Faster-RCNN-Tutorial\n",
    "!cd"
   ]
  },
  {
   "cell_type": "code",
   "execution_count": 2,
   "id": "5595f080",
   "metadata": {},
   "outputs": [
    {
     "name": "stderr",
     "output_type": "stream",
     "text": [
      "Installing C:\\Users\\abiga\\anaconda3\\envs\\GM\\lib\\site-packages\\jupyter_nbextensions_configurator\\static/nbextensions_configurator -> nbextensions_configurator\n",
      "Removing: C:\\Users\\abiga\\anaconda3\\envs\\GM\\share\\jupyter\\nbextensions\\nbextensions_configurator\n",
      "Making directory: C:\\Users\\abiga\\anaconda3\\envs\\GM\\share\\jupyter\\nbextensions\\nbextensions_configurator\\\n",
      "Copying: C:\\Users\\abiga\\anaconda3\\envs\\GM\\lib\\site-packages\\jupyter_nbextensions_configurator\\static\\nbextensions_configurator\\icon.png -> C:\\Users\\abiga\\anaconda3\\envs\\GM\\share\\jupyter\\nbextensions\\nbextensions_configurator\\icon.png\n",
      "Copying: C:\\Users\\abiga\\anaconda3\\envs\\GM\\lib\\site-packages\\jupyter_nbextensions_configurator\\static\\nbextensions_configurator\\kse_components.js -> C:\\Users\\abiga\\anaconda3\\envs\\GM\\share\\jupyter\\nbextensions\\nbextensions_configurator\\kse_components.js\n",
      "Copying: C:\\Users\\abiga\\anaconda3\\envs\\GM\\lib\\site-packages\\jupyter_nbextensions_configurator\\static\\nbextensions_configurator\\main.css -> C:\\Users\\abiga\\anaconda3\\envs\\GM\\share\\jupyter\\nbextensions\\nbextensions_configurator\\main.css\n",
      "Copying: C:\\Users\\abiga\\anaconda3\\envs\\GM\\lib\\site-packages\\jupyter_nbextensions_configurator\\static\\nbextensions_configurator\\main.js -> C:\\Users\\abiga\\anaconda3\\envs\\GM\\share\\jupyter\\nbextensions\\nbextensions_configurator\\main.js\n",
      "Copying: C:\\Users\\abiga\\anaconda3\\envs\\GM\\lib\\site-packages\\jupyter_nbextensions_configurator\\static\\nbextensions_configurator\\quickhelp_shim.js -> C:\\Users\\abiga\\anaconda3\\envs\\GM\\share\\jupyter\\nbextensions\\nbextensions_configurator\\quickhelp_shim.js\n",
      "Copying: C:\\Users\\abiga\\anaconda3\\envs\\GM\\lib\\site-packages\\jupyter_nbextensions_configurator\\static\\nbextensions_configurator\\readme.md -> C:\\Users\\abiga\\anaconda3\\envs\\GM\\share\\jupyter\\nbextensions\\nbextensions_configurator\\readme.md\n",
      "Making directory: C:\\Users\\abiga\\anaconda3\\envs\\GM\\share\\jupyter\\nbextensions\\nbextensions_configurator\\config_menu\n",
      "Copying: C:\\Users\\abiga\\anaconda3\\envs\\GM\\lib\\site-packages\\jupyter_nbextensions_configurator\\static\\nbextensions_configurator\\config_menu\\config_menu.yaml -> C:\\Users\\abiga\\anaconda3\\envs\\GM\\share\\jupyter\\nbextensions\\nbextensions_configurator\\config_menu\\config_menu.yaml\n",
      "Copying: C:\\Users\\abiga\\anaconda3\\envs\\GM\\lib\\site-packages\\jupyter_nbextensions_configurator\\static\\nbextensions_configurator\\config_menu\\icon.png -> C:\\Users\\abiga\\anaconda3\\envs\\GM\\share\\jupyter\\nbextensions\\nbextensions_configurator\\config_menu\\icon.png\n",
      "Copying: C:\\Users\\abiga\\anaconda3\\envs\\GM\\lib\\site-packages\\jupyter_nbextensions_configurator\\static\\nbextensions_configurator\\config_menu\\main.js -> C:\\Users\\abiga\\anaconda3\\envs\\GM\\share\\jupyter\\nbextensions\\nbextensions_configurator\\config_menu\\main.js\n",
      "Making directory: C:\\Users\\abiga\\anaconda3\\envs\\GM\\share\\jupyter\\nbextensions\\nbextensions_configurator\\render\n",
      "Copying: C:\\Users\\abiga\\anaconda3\\envs\\GM\\lib\\site-packages\\jupyter_nbextensions_configurator\\static\\nbextensions_configurator\\render\\render.js -> C:\\Users\\abiga\\anaconda3\\envs\\GM\\share\\jupyter\\nbextensions\\nbextensions_configurator\\render\\render.js\n",
      "Copying: C:\\Users\\abiga\\anaconda3\\envs\\GM\\lib\\site-packages\\jupyter_nbextensions_configurator\\static\\nbextensions_configurator\\render\\rendermd.css -> C:\\Users\\abiga\\anaconda3\\envs\\GM\\share\\jupyter\\nbextensions\\nbextensions_configurator\\render\\rendermd.css\n",
      "Copying: C:\\Users\\abiga\\anaconda3\\envs\\GM\\lib\\site-packages\\jupyter_nbextensions_configurator\\static\\nbextensions_configurator\\render\\video_play.svg -> C:\\Users\\abiga\\anaconda3\\envs\\GM\\share\\jupyter\\nbextensions\\nbextensions_configurator\\render\\video_play.svg\n",
      "Making directory: C:\\Users\\abiga\\anaconda3\\envs\\GM\\share\\jupyter\\nbextensions\\nbextensions_configurator\\tree_tab\n",
      "Copying: C:\\Users\\abiga\\anaconda3\\envs\\GM\\lib\\site-packages\\jupyter_nbextensions_configurator\\static\\nbextensions_configurator\\tree_tab\\icon.png -> C:\\Users\\abiga\\anaconda3\\envs\\GM\\share\\jupyter\\nbextensions\\nbextensions_configurator\\tree_tab\\icon.png\n",
      "Copying: C:\\Users\\abiga\\anaconda3\\envs\\GM\\lib\\site-packages\\jupyter_nbextensions_configurator\\static\\nbextensions_configurator\\tree_tab\\main.js -> C:\\Users\\abiga\\anaconda3\\envs\\GM\\share\\jupyter\\nbextensions\\nbextensions_configurator\\tree_tab\\main.js\n",
      "Copying: C:\\Users\\abiga\\anaconda3\\envs\\GM\\lib\\site-packages\\jupyter_nbextensions_configurator\\static\\nbextensions_configurator\\tree_tab\\readme.md -> C:\\Users\\abiga\\anaconda3\\envs\\GM\\share\\jupyter\\nbextensions\\nbextensions_configurator\\tree_tab\\readme.md\n",
      "Copying: C:\\Users\\abiga\\anaconda3\\envs\\GM\\lib\\site-packages\\jupyter_nbextensions_configurator\\static\\nbextensions_configurator\\tree_tab\\tree_tab.yaml -> C:\\Users\\abiga\\anaconda3\\envs\\GM\\share\\jupyter\\nbextensions\\nbextensions_configurator\\tree_tab\\tree_tab.yaml\n",
      "- Validating: ok\n",
      "Installing C:\\Users\\abiga\\anaconda3\\envs\\GM\\lib\\site-packages\\jupyter_nbextensions_configurator\\static/nbextensions_configurator -> nbextensions_configurator\n",
      "Removing: C:\\Users\\abiga\\anaconda3\\envs\\GM\\share\\jupyter\\nbextensions\\nbextensions_configurator\n",
      "Making directory: C:\\Users\\abiga\\anaconda3\\envs\\GM\\share\\jupyter\\nbextensions\\nbextensions_configurator\\\n",
      "Copying: C:\\Users\\abiga\\anaconda3\\envs\\GM\\lib\\site-packages\\jupyter_nbextensions_configurator\\static\\nbextensions_configurator\\icon.png -> C:\\Users\\abiga\\anaconda3\\envs\\GM\\share\\jupyter\\nbextensions\\nbextensions_configurator\\icon.png\n",
      "Copying: C:\\Users\\abiga\\anaconda3\\envs\\GM\\lib\\site-packages\\jupyter_nbextensions_configurator\\static\\nbextensions_configurator\\kse_components.js -> C:\\Users\\abiga\\anaconda3\\envs\\GM\\share\\jupyter\\nbextensions\\nbextensions_configurator\\kse_components.js\n",
      "Copying: C:\\Users\\abiga\\anaconda3\\envs\\GM\\lib\\site-packages\\jupyter_nbextensions_configurator\\static\\nbextensions_configurator\\main.css -> C:\\Users\\abiga\\anaconda3\\envs\\GM\\share\\jupyter\\nbextensions\\nbextensions_configurator\\main.css\n",
      "Copying: C:\\Users\\abiga\\anaconda3\\envs\\GM\\lib\\site-packages\\jupyter_nbextensions_configurator\\static\\nbextensions_configurator\\main.js -> C:\\Users\\abiga\\anaconda3\\envs\\GM\\share\\jupyter\\nbextensions\\nbextensions_configurator\\main.js\n",
      "Copying: C:\\Users\\abiga\\anaconda3\\envs\\GM\\lib\\site-packages\\jupyter_nbextensions_configurator\\static\\nbextensions_configurator\\quickhelp_shim.js -> C:\\Users\\abiga\\anaconda3\\envs\\GM\\share\\jupyter\\nbextensions\\nbextensions_configurator\\quickhelp_shim.js\n",
      "Copying: C:\\Users\\abiga\\anaconda3\\envs\\GM\\lib\\site-packages\\jupyter_nbextensions_configurator\\static\\nbextensions_configurator\\readme.md -> C:\\Users\\abiga\\anaconda3\\envs\\GM\\share\\jupyter\\nbextensions\\nbextensions_configurator\\readme.md\n",
      "Making directory: C:\\Users\\abiga\\anaconda3\\envs\\GM\\share\\jupyter\\nbextensions\\nbextensions_configurator\\config_menu\n",
      "Copying: C:\\Users\\abiga\\anaconda3\\envs\\GM\\lib\\site-packages\\jupyter_nbextensions_configurator\\static\\nbextensions_configurator\\config_menu\\config_menu.yaml -> C:\\Users\\abiga\\anaconda3\\envs\\GM\\share\\jupyter\\nbextensions\\nbextensions_configurator\\config_menu\\config_menu.yaml\n",
      "Copying: C:\\Users\\abiga\\anaconda3\\envs\\GM\\lib\\site-packages\\jupyter_nbextensions_configurator\\static\\nbextensions_configurator\\config_menu\\icon.png -> C:\\Users\\abiga\\anaconda3\\envs\\GM\\share\\jupyter\\nbextensions\\nbextensions_configurator\\config_menu\\icon.png\n",
      "Copying: C:\\Users\\abiga\\anaconda3\\envs\\GM\\lib\\site-packages\\jupyter_nbextensions_configurator\\static\\nbextensions_configurator\\config_menu\\main.js -> C:\\Users\\abiga\\anaconda3\\envs\\GM\\share\\jupyter\\nbextensions\\nbextensions_configurator\\config_menu\\main.js\n",
      "Making directory: C:\\Users\\abiga\\anaconda3\\envs\\GM\\share\\jupyter\\nbextensions\\nbextensions_configurator\\render\n",
      "Copying: C:\\Users\\abiga\\anaconda3\\envs\\GM\\lib\\site-packages\\jupyter_nbextensions_configurator\\static\\nbextensions_configurator\\render\\render.js -> C:\\Users\\abiga\\anaconda3\\envs\\GM\\share\\jupyter\\nbextensions\\nbextensions_configurator\\render\\render.js\n",
      "Copying: C:\\Users\\abiga\\anaconda3\\envs\\GM\\lib\\site-packages\\jupyter_nbextensions_configurator\\static\\nbextensions_configurator\\render\\rendermd.css -> C:\\Users\\abiga\\anaconda3\\envs\\GM\\share\\jupyter\\nbextensions\\nbextensions_configurator\\render\\rendermd.css\n",
      "Copying: C:\\Users\\abiga\\anaconda3\\envs\\GM\\lib\\site-packages\\jupyter_nbextensions_configurator\\static\\nbextensions_configurator\\render\\video_play.svg -> C:\\Users\\abiga\\anaconda3\\envs\\GM\\share\\jupyter\\nbextensions\\nbextensions_configurator\\render\\video_play.svg\n",
      "Making directory: C:\\Users\\abiga\\anaconda3\\envs\\GM\\share\\jupyter\\nbextensions\\nbextensions_configurator\\tree_tab\n",
      "Copying: C:\\Users\\abiga\\anaconda3\\envs\\GM\\lib\\site-packages\\jupyter_nbextensions_configurator\\static\\nbextensions_configurator\\tree_tab\\icon.png -> C:\\Users\\abiga\\anaconda3\\envs\\GM\\share\\jupyter\\nbextensions\\nbextensions_configurator\\tree_tab\\icon.png\n",
      "Copying: C:\\Users\\abiga\\anaconda3\\envs\\GM\\lib\\site-packages\\jupyter_nbextensions_configurator\\static\\nbextensions_configurator\\tree_tab\\main.js -> C:\\Users\\abiga\\anaconda3\\envs\\GM\\share\\jupyter\\nbextensions\\nbextensions_configurator\\tree_tab\\main.js\n",
      "Copying: C:\\Users\\abiga\\anaconda3\\envs\\GM\\lib\\site-packages\\jupyter_nbextensions_configurator\\static\\nbextensions_configurator\\tree_tab\\readme.md -> C:\\Users\\abiga\\anaconda3\\envs\\GM\\share\\jupyter\\nbextensions\\nbextensions_configurator\\tree_tab\\readme.md\n",
      "Copying: C:\\Users\\abiga\\anaconda3\\envs\\GM\\lib\\site-packages\\jupyter_nbextensions_configurator\\static\\nbextensions_configurator\\tree_tab\\tree_tab.yaml -> C:\\Users\\abiga\\anaconda3\\envs\\GM\\share\\jupyter\\nbextensions\\nbextensions_configurator\\tree_tab\\tree_tab.yaml\n",
      "- Validating: ok\n",
      "\n",
      "    To initialize this nbextension in the browser every time the notebook (or other app) loads:\n",
      "    \n",
      "          jupyter nbextension enable jupyter_nbextensions_configurator --py --sys-prefix\n",
      "    \n"
     ]
    },
    {
     "name": "stderr",
     "output_type": "stream",
     "text": [
      "Enabling notebook extension nbextensions_configurator/config_menu/main...\n",
      "      - Validating: ok\n",
      "Enabling tree extension nbextensions_configurator/tree_tab/main...\n",
      "      - Validating: ok\n",
      "Enabling: jupyter_nbextensions_configurator\n",
      "- Writing config: C:\\Users\\abiga\\anaconda3\\envs\\GM\\etc\\jupyter\n",
      "    - Validating...\n",
      "      jupyter_nbextensions_configurator 0.6.3 ok\n",
      "Enabling notebook extension nbextensions_configurator/config_menu/main...\n",
      "      - Validating: ok\n",
      "Enabling tree extension nbextensions_configurator/tree_tab/main...\n",
      "      - Validating: ok\n"
     ]
    }
   ],
   "source": [
    "#%pip install jupyter_nbextensions_configurator\n",
    "#!jupyter nbextension install --sys-prefix --py jupyter_nbextensions_configurator --overwrite\n",
    "#!jupyter nbextension enable --sys-prefix --py jupyter_nbextensions_configurator\n",
    "#!jupyter serverextension enable --sys-prefix --py jupyter_nbextensions_configurator\n",
    "#!jupyter nbextension enable jupyter_nbextensions_configurator --py --sys-prefix"
   ]
  },
  {
   "cell_type": "code",
   "execution_count": 16,
   "id": "7605800b",
   "metadata": {
    "scrolled": true
   },
   "outputs": [
    {
     "name": "stdout",
     "output_type": "stream",
     "text": [
      "2024-04-22 22:38:28 - INFO - utils.py:27:get_filenames_of_path - Found 20 files in C:\\Users\\abiga\\OneDrive\\Documents\\GitHub\\PyTorch-Object-Detection-Faster-RCNN-Tutorial\\pytorch_faster_rcnn_tutorial\\data\\heads\\input\n",
      "2024-04-22 22:38:28 - INFO - utils.py:27:get_filenames_of_path - Found 20 files in C:\\Users\\abiga\\OneDrive\\Documents\\GitHub\\PyTorch-Object-Detection-Faster-RCNN-Tutorial\\pytorch_faster_rcnn_tutorial\\data\\heads\\target\n"
     ]
    },
    {
     "name": "stderr",
     "output_type": "stream",
     "text": [
      "Global seed set to 42\n",
      "Traceback (most recent call last):\n",
      "  File \"C:\\Users\\abiga\\OneDrive\\Documents\\GitHub\\PyTorch-Object-Detection-Faster-RCNN-Tutorial\\training_script.py\", line 308, in <module>\n",
      "    train()\n",
      "  File \"C:\\Users\\abiga\\OneDrive\\Documents\\GitHub\\PyTorch-Object-Detection-Faster-RCNN-Tutorial\\training_script.py\", line 228, in train\n",
      "    neptune_logger = NeptuneLogger(\n",
      "  File \"C:\\Users\\abiga\\AppData\\Roaming\\Python\\Python310\\site-packages\\pytorch_lightning\\loggers\\neptune.py\", line 233, in __init__\n",
      "    raise ModuleNotFoundError(str(_NEPTUNE_AVAILABLE))\n",
      "ModuleNotFoundError: UnknownExtra: jsonschema 3.2.0 has no such extra feature 'format-nongpl'. HINT: Try running `pip install -U 'neptune-client'`\n"
     ]
    }
   ],
   "source": [
    "!python training_script.py"
   ]
  },
  {
   "cell_type": "code",
   "execution_count": 4,
   "id": "99c6a8eb",
   "metadata": {
    "scrolled": true
   },
   "outputs": [],
   "source": [
    "# imports\n",
    "import ast\n",
    "import os\n",
    "import pathlib\n",
    "\n",
    "import neptune\n",
    "import numpy as np\n",
    "import torch\n",
    "from torch.utils.data import DataLoader\n",
    "from torchvision.models.detection.transform import GeneralizedRCNNTransform\n",
    "\n",
    "from pytorch_faster_rcnn_tutorial.backbone_resnet import ResNetBackbones\n",
    "from pytorch_faster_rcnn_tutorial.datasets import (\n",
    "    ObjectDetectionDataSet,\n",
    "    ObjectDetectionDatasetSingle,\n",
    ")\n",
    "from pytorch_faster_rcnn_tutorial.faster_RCNN import get_faster_rcnn_resnet\n",
    "from pytorch_faster_rcnn_tutorial.transformations import (\n",
    "    ComposeDouble,\n",
    "    ComposeSingle,\n",
    "    FunctionWrapperDouble,\n",
    "    FunctionWrapperSingle,\n",
    "    apply_nms,\n",
    "    apply_score_threshold,\n",
    "    normalize_01,\n",
    ")\n",
    "from pytorch_faster_rcnn_tutorial.utils import (\n",
    "    collate_single,\n",
    "    get_filenames_of_path,\n",
    "    save_json,\n",
    ")\n",
    "from pytorch_faster_rcnn_tutorial.viewers.object_detection_viewer import (\n",
    "    ObjectDetectionViewer,\n",
    "    ObjectDetectionViewerSingle,\n",
    ")\n",
    "from training_script import NeptuneSettings"
   ]
  },
  {
   "cell_type": "code",
   "execution_count": 5,
   "id": "67982ccb",
   "metadata": {},
   "outputs": [],
   "source": [
    "# parameters\n",
    "params = {\n",
    "    \"EXPERIMENT\": \"GM-Thesis3\",  # experiment name, e.g. Head-42\n",
    "    \"OWNER\": \"mikmikthemimic\",  # e.g. johndoe55\n",
    "    \"INPUT_DIR\": \"pytorch_faster_rcnn_tutorial/data/heads/test\",  # files to predict\n",
    "    \"PREDICTIONS_PATH\": \"predictions\",  # where to save the predictions\n",
    "    \"MODEL_DIR\": \"heads\",  # load model from checkpoint\n",
    "    \"DOWNLOAD\": True,  # whether to download from neptune\n",
    "    \"DOWNLOAD_PATH\": \"model\",  # where to save the model if DOWNLOAD is True\n",
    "    \"PROJECT\": \"GM-Thesis3\",  # Project name\n",
    "}"
   ]
  },
  {
   "cell_type": "code",
   "execution_count": 6,
   "id": "a848642b",
   "metadata": {},
   "outputs": [
    {
     "name": "stdout",
     "output_type": "stream",
     "text": [
      "2024-04-22 22:14:47 - INFO - utils.py:27:get_filenames_of_path - Found 8 files in pytorch_faster_rcnn_tutorial\\data\\heads\\test\n"
     ]
    }
   ],
   "source": [
    "# input files\n",
    "inputs = get_filenames_of_path(pathlib.Path(params[\"INPUT_DIR\"]))\n",
    "inputs.sort()"
   ]
  },
  {
   "cell_type": "code",
   "execution_count": 7,
   "id": "18a6fbf0",
   "metadata": {},
   "outputs": [],
   "source": [
    "# transformations\n",
    "transforms = ComposeSingle(\n",
    "    [\n",
    "        FunctionWrapperSingle(np.moveaxis, source=-1, destination=0),\n",
    "        FunctionWrapperSingle(normalize_01),\n",
    "    ]\n",
    ")"
   ]
  },
  {
   "cell_type": "code",
   "execution_count": 8,
   "id": "65bda089",
   "metadata": {},
   "outputs": [],
   "source": [
    "# create dataset\n",
    "dataset = ObjectDetectionDatasetSingle(\n",
    "    inputs=inputs,\n",
    "    transform=transforms,\n",
    "    use_cache=False,\n",
    ")"
   ]
  },
  {
   "cell_type": "code",
   "execution_count": 9,
   "id": "7aab0ad9",
   "metadata": {},
   "outputs": [],
   "source": [
    "# create dataloader\n",
    "dataloader_prediction = DataLoader(\n",
    "    dataset=dataset,\n",
    "    batch_size=1,\n",
    "    shuffle=False,\n",
    "    num_workers=0,\n",
    "    collate_fn=collate_single,\n",
    ")"
   ]
  },
  {
   "cell_type": "code",
   "execution_count": 10,
   "id": "4db92b1e",
   "metadata": {},
   "outputs": [],
   "source": [
    "# environment variables (pydantic BaseSettings class)\n",
    "neptune_settings: NeptuneSettings = NeptuneSettings()"
   ]
  },
  {
   "cell_type": "code",
   "execution_count": 11,
   "id": "49478f1f",
   "metadata": {},
   "outputs": [
    {
     "ename": "AttributeError",
     "evalue": "module 'neptune' has no attribute 'init_model'",
     "output_type": "error",
     "traceback": [
      "\u001b[1;31m---------------------------------------------------------------------------\u001b[0m",
      "\u001b[1;31mAttributeError\u001b[0m                            Traceback (most recent call last)",
      "Cell \u001b[1;32mIn[11], line 7\u001b[0m\n\u001b[0;32m      3\u001b[0m project \u001b[38;5;241m=\u001b[39m neptune\u001b[38;5;241m.\u001b[39minit(\n\u001b[0;32m      4\u001b[0m     project_qualified_name\u001b[38;5;241m=\u001b[39mproject_name, api_token\u001b[38;5;241m=\u001b[39mneptune_settings\u001b[38;5;241m.\u001b[39mapi_key\n\u001b[0;32m      5\u001b[0m )  \u001b[38;5;66;03m# get project\u001b[39;00m\n\u001b[0;32m      6\u001b[0m experiment_id \u001b[38;5;241m=\u001b[39m params[\u001b[38;5;124m\"\u001b[39m\u001b[38;5;124mEXPERIMENT\u001b[39m\u001b[38;5;124m\"\u001b[39m]  \u001b[38;5;66;03m# experiment id\u001b[39;00m\n\u001b[1;32m----> 7\u001b[0m experiment \u001b[38;5;241m=\u001b[39m \u001b[43mneptune\u001b[49m\u001b[38;5;241;43m.\u001b[39;49m\u001b[43minit_model\u001b[49m(with_id\u001b[38;5;241m=\u001b[39mexperiment_id)\n\u001b[0;32m      8\u001b[0m parameters \u001b[38;5;241m=\u001b[39m experiment[\u001b[38;5;124m\"\u001b[39m\u001b[38;5;124mparameters\u001b[39m\u001b[38;5;124m\"\u001b[39m]\u001b[38;5;241m.\u001b[39mfetch()\n\u001b[0;32m      9\u001b[0m properties \u001b[38;5;241m=\u001b[39m experiment\u001b[38;5;241m.\u001b[39mget_properties()\n",
      "\u001b[1;31mAttributeError\u001b[0m: module 'neptune' has no attribute 'init_model'"
     ]
    }
   ],
   "source": [
    "# import experiment from neptune\n",
    "project_name = f'{params[\"OWNER\"]}/{params[\"PROJECT\"]}'\n",
    "project = neptune.init(\n",
    "    project_qualified_name=project_name, api_token=neptune_settings.api_key\n",
    ")  # get project\n",
    "experiment_id = params[\"EXPERIMENT\"]  # experiment id\n",
    "experiment = neptune.init_model(with_id=experiment_id)\n",
    "parameters = experiment[\"parameters\"].fetch()\n",
    "properties = experiment.get_properties()"
   ]
  },
  {
   "cell_type": "code",
   "execution_count": null,
   "id": "7bbd4c98",
   "metadata": {},
   "outputs": [],
   "source": [
    "# rcnn transform\n",
    "transform = GeneralizedRCNNTransform(\n",
    "    min_size=int(parameters[\"MIN_SIZE\"]),\n",
    "    max_size=int(parameters[\"MAX_SIZE\"]),\n",
    "    image_mean=ast.literal_eval(parameters[\"IMG_MEAN\"]),\n",
    "    image_std=ast.literal_eval(parameters[\"IMG_STD\"]),\n",
    ")"
   ]
  },
  {
   "cell_type": "code",
   "execution_count": null,
   "id": "3cdf54ba",
   "metadata": {},
   "outputs": [],
   "source": [
    "# color mapping\n",
    "color_mapping = {\n",
    "    1: \"red\",\n",
    "}"
   ]
  },
  {
   "cell_type": "code",
   "execution_count": null,
   "id": "d868725d",
   "metadata": {},
   "outputs": [],
   "source": [
    "# view dataset\n",
    "datasetviewer = ObjectDetectionViewerSingle(\n",
    "    dataset=dataset, color_mapping=color_mapping, rcnn_transform=transform\n",
    ")"
   ]
  },
  {
   "cell_type": "code",
   "execution_count": null,
   "id": "7920128c",
   "metadata": {},
   "outputs": [],
   "source": [
    "# download model from neptune or load from checkpoint\n",
    "if params[\"DOWNLOAD\"]:\n",
    "    download_path = pathlib.Path(os.getcwd()) / params[\"DOWNLOAD_PATH\"]\n",
    "    download_path.mkdir(parents=True, exist_ok=True)\n",
    "    model_name = \"best_model.pt\"  # that's how I called the best model\n",
    "    # model_name = properties['checkpoint_name']  # logged when called log_model_neptune()\n",
    "    if not (download_path / model_name).is_file():\n",
    "        experiment.download_artifact(\n",
    "            path=model_name, destination_dir=download_path\n",
    "        )  # download model\n",
    "\n",
    "    model_state_dict = torch.load(\n",
    "        download_path / model_name, map_location=torch.device(\"cpu\")\n",
    "    )\n",
    "else:\n",
    "    checkpoint = torch.load(params[\"MODEL_DIR\"], map_location=torch.device(\"cpu\"))\n",
    "    model_state_dict = checkpoint[\"hyper_parameters\"][\"model\"].state_dict()"
   ]
  },
  {
   "cell_type": "code",
   "execution_count": null,
   "id": "68217aa6",
   "metadata": {},
   "outputs": [],
   "source": [
    "model = get_faster_rcnn_resnet(\n",
    "    num_classes=int(parameters[\"CLASSES\"]),\n",
    "    backbone_name=ResNetBackbones(parameters[\"BACKBONE\"]),  # reverse look-up enum\n",
    "    anchor_size=ast.literal_eval(parameters[\"ANCHOR_SIZE\"]),\n",
    "    aspect_ratios=ast.literal_eval(parameters[\"ASPECT_RATIOS\"]),\n",
    "    fpn=ast.literal_eval(parameters[\"FPN\"]),\n",
    "    min_size=int(parameters[\"MIN_SIZE\"]),\n",
    "    max_size=int(parameters[\"MAX_SIZE\"]),\n",
    ")"
   ]
  },
  {
   "cell_type": "code",
   "execution_count": null,
   "id": "2a9da64b",
   "metadata": {},
   "outputs": [],
   "source": [
    "# load weights\n",
    "model.load_state_dict(model_state_dict)"
   ]
  },
  {
   "cell_type": "code",
   "execution_count": null,
   "id": "4fcafeec",
   "metadata": {},
   "outputs": [],
   "source": [
    "# inference (cpu)\n",
    "model.eval()\n",
    "for sample in dataloader_prediction:\n",
    "    x, x_name = sample\n",
    "    with torch.no_grad():\n",
    "        pred = model(x)\n",
    "        pred = {key: value.numpy() for key, value in pred[0].items()}\n",
    "        name = pathlib.Path(x_name[0])\n",
    "        save_dir = pathlib.Path(os.getcwd()) / params[\"PREDICTIONS_PATH\"]\n",
    "        save_dir.mkdir(parents=True, exist_ok=True)\n",
    "        pred_list = {\n",
    "            key: value.tolist() for key, value in pred.items()\n",
    "        }  # numpy arrays are not serializable -> .tolist()\n",
    "        save_json(pred_list, path=save_dir / name.with_suffix(\".json\"))"
   ]
  },
  {
   "cell_type": "code",
   "execution_count": null,
   "id": "194c9641",
   "metadata": {},
   "outputs": [],
   "source": [
    "# get prediction files\n",
    "predictions = get_filenames_of_path(\n",
    "    pathlib.Path(os.getcwd()) / params[\"PREDICTIONS_PATH\"]\n",
    ")\n",
    "predictions.sort()"
   ]
  },
  {
   "cell_type": "code",
   "execution_count": null,
   "id": "8d5e70a5",
   "metadata": {},
   "outputs": [],
   "source": [
    "# create prediction dataset\n",
    "iou_threshold = 0.25\n",
    "score_threshold = 0.6\n",
    "\n",
    "transforms_prediction = ComposeDouble(\n",
    "    [\n",
    "        FunctionWrapperDouble(np.moveaxis, source=-1, destination=0),\n",
    "        FunctionWrapperDouble(normalize_01),\n",
    "        FunctionWrapperDouble(\n",
    "            apply_nms, input=False, target=True, iou_threshold=iou_threshold\n",
    "        ),\n",
    "        FunctionWrapperDouble(\n",
    "            apply_score_threshold,\n",
    "            input=False,\n",
    "            target=True,\n",
    "            score_threshold=score_threshold,\n",
    "        ),\n",
    "    ]\n",
    ")\n",
    "\n",
    "dataset_prediction = ObjectDetectionDataSet(\n",
    "    inputs=inputs, targets=predictions, transform=transforms_prediction, use_cache=False\n",
    ")\n"
   ]
  },
  {
   "cell_type": "code",
   "execution_count": null,
   "id": "d780d70f",
   "metadata": {},
   "outputs": [],
   "source": [
    "# mapping\n",
    "color_mapping = {\n",
    "    1: \"red\",\n",
    "}"
   ]
  },
  {
   "cell_type": "code",
   "execution_count": null,
   "id": "aa2a2272",
   "metadata": {},
   "outputs": [],
   "source": [
    "# visualize predictions\n",
    "datasetviewer_prediction = ObjectDetectionViewer(\n",
    "    dataset=dataset_prediction, color_mapping=color_mapping\n",
    ")"
   ]
  }
 ],
 "metadata": {
  "kernelspec": {
   "display_name": "Python 3 (ipykernel)",
   "language": "python",
   "name": "python3"
  },
  "language_info": {
   "codemirror_mode": {
    "name": "ipython",
    "version": 3
   },
   "file_extension": ".py",
   "mimetype": "text/x-python",
   "name": "python",
   "nbconvert_exporter": "python",
   "pygments_lexer": "ipython3",
   "version": "3.10.14"
  }
 },
 "nbformat": 4,
 "nbformat_minor": 5
}
